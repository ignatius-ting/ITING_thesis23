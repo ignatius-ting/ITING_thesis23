{
 "cells": [
  {
   "cell_type": "markdown",
   "metadata": {},
   "source": [
    "### Use rel_dictcsv"
   ]
  },
  {
   "cell_type": "code",
   "execution_count": 1,
   "metadata": {},
   "outputs": [
    {
     "name": "stderr",
     "output_type": "stream",
     "text": [
      "C:\\Users\\Ignatius Ting\\AppData\\Local\\Temp\\ipykernel_2656\\1751670079.py:10: FutureWarning: Passing a negative integer is deprecated in version 1.0 and will not be supported in future version. Instead, use None to not limit the column width.\n",
      "  pd.set_option('max_colwidth', -1)\n"
     ]
    }
   ],
   "source": [
    "import os\n",
    "import sys\n",
    "# module_path = os.path.abspath(os.path.join('../umlsparser'))\n",
    "# if module_path not in sys.path:\n",
    "#     sys.path.append(module_path)\n",
    "import pandas as pd\n",
    "pd.set_option('display.max_columns', None)\n",
    "pd.set_option('display.max_rows', None)\n",
    "pd.set_option('display.expand_frame_repr', False)\n",
    "pd.set_option('max_colwidth', -1)\n",
    "import numpy as np\n",
    "import matplotlib.pyplot as plt\n",
    "\n"
   ]
  },
  {
   "attachments": {},
   "cell_type": "markdown",
   "metadata": {},
   "source": [
    " UMLS <br>\n",
    "○ Get familiar with the offline UMLS <br>\n",
    "○ Be aware of where we're extracting subgraphs<br>\n",
    "○ Read into what vocabularies<br>\n",
    "○ Understand what categories and topics really exist<br>\n",
    "○ What topics and terminologies are being used<br>\n",
    "○ Check recording at 11:28<br>\n",
    "○ Diseases drugs and genes<br>\n",
    "• Use MRCONSO.RRF<br>\n",
    "○ A few things missing from here from the full UMLS<br>\n",
    "• MRCONSO.RRF UMLS GitHUB<br>\n",
    "• BioBART, SciFive - look at these models<br>\n",
    "○ Do tutorials on these<br>\n",
    " T5 and BART tutorials<br>"
   ]
  },
  {
   "attachments": {},
   "cell_type": "markdown",
   "metadata": {},
   "source": [
    "## Concepts and Sources"
   ]
  },
  {
   "cell_type": "code",
   "execution_count": 2,
   "metadata": {},
   "outputs": [
    {
     "name": "stdout",
     "output_type": "stream",
     "text": [
      "C0000005|ENG|P|L0000005|PF|S0007492|Y|A26634265||M0019694|D012711|MSH|PEP|D012711|(131)I-Macroaggregated Albumin|0|N|256|\n",
      "\n",
      "C0000005|ENG|S|L0270109|PF|S0007491|Y|A26634266||M0019694|D012711|MSH|ET|D012711|(131)I-MAA|0|N|256|\n",
      "\n",
      "C0000005|FRE|P|L6220710|PF|S7133957|Y|A13433185||M0019694|D012711|MSHFRE|PEP|D012711|Macroagrégats d'albumine marquée à l'iode 131|3|N||\n",
      "\n",
      "C0000005|FRE|S|L6215648|PF|S7133916|Y|A27488794||M0019694|D012711|MSHFRE|ET|D012711|MAA-I 131|3|N||\n",
      "\n",
      "C0000005|FRE|S|L6215656|PF|S7133956|Y|A27614225||M0019694|D012711|MSHFRE|ET|D012711|Macroagrégats d'albumine humaine marquée à l'iode 131|3|N||\n",
      "\n"
     ]
    }
   ],
   "source": [
    "# check contents\n",
    "\n",
    "with open ('../data/META/MRCONSO.RRF') as f:\n",
    "    for i in range(5):\n",
    "        line = f.readline()\n",
    "        print(line)"
   ]
  },
  {
   "cell_type": "code",
   "execution_count": 3,
   "metadata": {},
   "outputs": [
    {
     "name": "stderr",
     "output_type": "stream",
     "text": [
      "C:\\Users\\Ignatius Ting\\AppData\\Local\\Temp\\ipykernel_2656\\3328187778.py:1: DtypeWarning: Columns (10) have mixed types. Specify dtype option on import or set low_memory=False.\n",
      "  df = pd.read_csv('2023AA/META/MRCONSO.RRF', delimiter = '|')\n"
     ]
    },
    {
     "data": {
      "text/plain": [
       "(13501907, 19)"
      ]
     },
     "execution_count": 3,
     "metadata": {},
     "output_type": "execute_result"
    }
   ],
   "source": [
    "df = pd.read_csv('../data/META/MRCONSO.RRF', delimiter = '|')\n",
    "df.shape"
   ]
  },
  {
   "cell_type": "code",
   "execution_count": 4,
   "metadata": {},
   "outputs": [
    {
     "data": {
      "text/html": [
       "<div>\n",
       "<style scoped>\n",
       "    .dataframe tbody tr th:only-of-type {\n",
       "        vertical-align: middle;\n",
       "    }\n",
       "\n",
       "    .dataframe tbody tr th {\n",
       "        vertical-align: top;\n",
       "    }\n",
       "\n",
       "    .dataframe thead th {\n",
       "        text-align: right;\n",
       "    }\n",
       "</style>\n",
       "<table border=\"1\" class=\"dataframe\">\n",
       "  <thead>\n",
       "    <tr style=\"text-align: right;\">\n",
       "      <th></th>\n",
       "      <th>C0000005</th>\n",
       "      <th>ENG</th>\n",
       "      <th>P</th>\n",
       "      <th>L0000005</th>\n",
       "      <th>PF</th>\n",
       "      <th>S0007492</th>\n",
       "      <th>Y</th>\n",
       "      <th>A26634265</th>\n",
       "      <th>Unnamed: 8</th>\n",
       "      <th>M0019694</th>\n",
       "      <th>D012711</th>\n",
       "      <th>MSH</th>\n",
       "      <th>PEP</th>\n",
       "      <th>D012711.1</th>\n",
       "      <th>(131)I-Macroaggregated Albumin</th>\n",
       "      <th>0</th>\n",
       "      <th>N</th>\n",
       "      <th>256</th>\n",
       "      <th>Unnamed: 18</th>\n",
       "    </tr>\n",
       "  </thead>\n",
       "  <tbody>\n",
       "    <tr>\n",
       "      <th>0</th>\n",
       "      <td>C0000005</td>\n",
       "      <td>ENG</td>\n",
       "      <td>S</td>\n",
       "      <td>L0270109</td>\n",
       "      <td>PF</td>\n",
       "      <td>S0007491</td>\n",
       "      <td>Y</td>\n",
       "      <td>A26634266</td>\n",
       "      <td>NaN</td>\n",
       "      <td>M0019694</td>\n",
       "      <td>D012711</td>\n",
       "      <td>MSH</td>\n",
       "      <td>ET</td>\n",
       "      <td>D012711</td>\n",
       "      <td>(131)I-MAA</td>\n",
       "      <td>0</td>\n",
       "      <td>N</td>\n",
       "      <td>256.0</td>\n",
       "      <td>NaN</td>\n",
       "    </tr>\n",
       "    <tr>\n",
       "      <th>1</th>\n",
       "      <td>C0000005</td>\n",
       "      <td>FRE</td>\n",
       "      <td>P</td>\n",
       "      <td>L6220710</td>\n",
       "      <td>PF</td>\n",
       "      <td>S7133957</td>\n",
       "      <td>Y</td>\n",
       "      <td>A13433185</td>\n",
       "      <td>NaN</td>\n",
       "      <td>M0019694</td>\n",
       "      <td>D012711</td>\n",
       "      <td>MSHFRE</td>\n",
       "      <td>PEP</td>\n",
       "      <td>D012711</td>\n",
       "      <td>Macroagrégats d'albumine marquée à l'iode 131</td>\n",
       "      <td>3</td>\n",
       "      <td>N</td>\n",
       "      <td>NaN</td>\n",
       "      <td>NaN</td>\n",
       "    </tr>\n",
       "    <tr>\n",
       "      <th>2</th>\n",
       "      <td>C0000005</td>\n",
       "      <td>FRE</td>\n",
       "      <td>S</td>\n",
       "      <td>L6215648</td>\n",
       "      <td>PF</td>\n",
       "      <td>S7133916</td>\n",
       "      <td>Y</td>\n",
       "      <td>A27488794</td>\n",
       "      <td>NaN</td>\n",
       "      <td>M0019694</td>\n",
       "      <td>D012711</td>\n",
       "      <td>MSHFRE</td>\n",
       "      <td>ET</td>\n",
       "      <td>D012711</td>\n",
       "      <td>MAA-I 131</td>\n",
       "      <td>3</td>\n",
       "      <td>N</td>\n",
       "      <td>NaN</td>\n",
       "      <td>NaN</td>\n",
       "    </tr>\n",
       "    <tr>\n",
       "      <th>3</th>\n",
       "      <td>C0000005</td>\n",
       "      <td>FRE</td>\n",
       "      <td>S</td>\n",
       "      <td>L6215656</td>\n",
       "      <td>PF</td>\n",
       "      <td>S7133956</td>\n",
       "      <td>Y</td>\n",
       "      <td>A27614225</td>\n",
       "      <td>NaN</td>\n",
       "      <td>M0019694</td>\n",
       "      <td>D012711</td>\n",
       "      <td>MSHFRE</td>\n",
       "      <td>ET</td>\n",
       "      <td>D012711</td>\n",
       "      <td>Macroagrégats d'albumine humaine marquée à l'iode 131</td>\n",
       "      <td>3</td>\n",
       "      <td>N</td>\n",
       "      <td>NaN</td>\n",
       "      <td>NaN</td>\n",
       "    </tr>\n",
       "    <tr>\n",
       "      <th>4</th>\n",
       "      <td>C0000005</td>\n",
       "      <td>SWE</td>\n",
       "      <td>P</td>\n",
       "      <td>L17197376</td>\n",
       "      <td>PF</td>\n",
       "      <td>S20758072</td>\n",
       "      <td>Y</td>\n",
       "      <td>A33245954</td>\n",
       "      <td>NaN</td>\n",
       "      <td>M0019694</td>\n",
       "      <td>D012711</td>\n",
       "      <td>MSHSWE</td>\n",
       "      <td>ET</td>\n",
       "      <td>D012711</td>\n",
       "      <td>(131)I-Makroaggregerat albumin</td>\n",
       "      <td>3</td>\n",
       "      <td>N</td>\n",
       "      <td>NaN</td>\n",
       "      <td>NaN</td>\n",
       "    </tr>\n",
       "  </tbody>\n",
       "</table>\n",
       "</div>"
      ],
      "text/plain": [
       "   C0000005  ENG  P   L0000005  PF   S0007492  Y  A26634265  Unnamed: 8  M0019694  D012711     MSH  PEP D012711.1                         (131)I-Macroaggregated Albumin  0  N    256  Unnamed: 18\n",
       "0  C0000005  ENG  S  L0270109   PF  S0007491   Y  A26634266 NaN          M0019694  D012711  MSH     ET   D012711   (131)I-MAA                                             0  N  256.0 NaN         \n",
       "1  C0000005  FRE  P  L6220710   PF  S7133957   Y  A13433185 NaN          M0019694  D012711  MSHFRE  PEP  D012711   Macroagrégats d'albumine marquée à l'iode 131          3  N NaN    NaN         \n",
       "2  C0000005  FRE  S  L6215648   PF  S7133916   Y  A27488794 NaN          M0019694  D012711  MSHFRE  ET   D012711   MAA-I 131                                              3  N NaN    NaN         \n",
       "3  C0000005  FRE  S  L6215656   PF  S7133956   Y  A27614225 NaN          M0019694  D012711  MSHFRE  ET   D012711   Macroagrégats d'albumine humaine marquée à l'iode 131  3  N NaN    NaN         \n",
       "4  C0000005  SWE  P  L17197376  PF  S20758072  Y  A33245954 NaN          M0019694  D012711  MSHSWE  ET   D012711   (131)I-Makroaggregerat albumin                         3  N NaN    NaN         "
      ]
     },
     "execution_count": 4,
     "metadata": {},
     "output_type": "execute_result"
    }
   ],
   "source": [
    "df.head()"
   ]
  },
  {
   "cell_type": "code",
   "execution_count": 5,
   "metadata": {},
   "outputs": [],
   "source": [
    "def clean_data(data):\n",
    "    cols = data.columns\n",
    "    empty_cols = list(filter(lambda x: 'unnamed' in x.lower(), cols))\n",
    "    data = data.shift(1)\n",
    "    data.loc[0] = cols\n",
    "    for col in empty_cols:\n",
    "        if data[col].isna().mean() > 0.99:\n",
    "            data = data.drop(col, axis = 1)\n",
    "        else:\n",
    "            data.loc[0,col] = np.nan\n",
    "    return data\n",
    "\n",
    "df = clean_data(df)"
   ]
  },
  {
   "cell_type": "code",
   "execution_count": 6,
   "metadata": {},
   "outputs": [
    {
     "data": {
      "text/html": [
       "<div>\n",
       "<style scoped>\n",
       "    .dataframe tbody tr th:only-of-type {\n",
       "        vertical-align: middle;\n",
       "    }\n",
       "\n",
       "    .dataframe tbody tr th {\n",
       "        vertical-align: top;\n",
       "    }\n",
       "\n",
       "    .dataframe thead th {\n",
       "        text-align: right;\n",
       "    }\n",
       "</style>\n",
       "<table border=\"1\" class=\"dataframe\">\n",
       "  <thead>\n",
       "    <tr style=\"text-align: right;\">\n",
       "      <th></th>\n",
       "      <th>C0000005</th>\n",
       "      <th>ENG</th>\n",
       "      <th>P</th>\n",
       "      <th>L0000005</th>\n",
       "      <th>PF</th>\n",
       "      <th>S0007492</th>\n",
       "      <th>Y</th>\n",
       "      <th>A26634265</th>\n",
       "      <th>Unnamed: 8</th>\n",
       "      <th>M0019694</th>\n",
       "      <th>D012711</th>\n",
       "      <th>MSH</th>\n",
       "      <th>PEP</th>\n",
       "      <th>D012711.1</th>\n",
       "      <th>(131)I-Macroaggregated Albumin</th>\n",
       "      <th>0</th>\n",
       "      <th>N</th>\n",
       "      <th>256</th>\n",
       "    </tr>\n",
       "  </thead>\n",
       "  <tbody>\n",
       "    <tr>\n",
       "      <th>0</th>\n",
       "      <td>C0000005</td>\n",
       "      <td>ENG</td>\n",
       "      <td>P</td>\n",
       "      <td>L0000005</td>\n",
       "      <td>PF</td>\n",
       "      <td>S0007492</td>\n",
       "      <td>Y</td>\n",
       "      <td>A26634265</td>\n",
       "      <td>NaN</td>\n",
       "      <td>M0019694</td>\n",
       "      <td>D012711</td>\n",
       "      <td>MSH</td>\n",
       "      <td>PEP</td>\n",
       "      <td>D012711.1</td>\n",
       "      <td>(131)I-Macroaggregated Albumin</td>\n",
       "      <td>0</td>\n",
       "      <td>N</td>\n",
       "      <td>256</td>\n",
       "    </tr>\n",
       "    <tr>\n",
       "      <th>1</th>\n",
       "      <td>C0000005</td>\n",
       "      <td>ENG</td>\n",
       "      <td>S</td>\n",
       "      <td>L0270109</td>\n",
       "      <td>PF</td>\n",
       "      <td>S0007491</td>\n",
       "      <td>Y</td>\n",
       "      <td>A26634266</td>\n",
       "      <td>NaN</td>\n",
       "      <td>M0019694</td>\n",
       "      <td>D012711</td>\n",
       "      <td>MSH</td>\n",
       "      <td>ET</td>\n",
       "      <td>D012711</td>\n",
       "      <td>(131)I-MAA</td>\n",
       "      <td>0.0</td>\n",
       "      <td>N</td>\n",
       "      <td>256.0</td>\n",
       "    </tr>\n",
       "  </tbody>\n",
       "</table>\n",
       "</div>"
      ],
      "text/plain": [
       "   C0000005  ENG  P  L0000005  PF  S0007492  Y  A26634265 Unnamed: 8  M0019694  D012711  MSH  PEP  D012711.1  (131)I-Macroaggregated Albumin    0  N    256\n",
       "0  C0000005  ENG  P  L0000005  PF  S0007492  Y  A26634265  NaN        M0019694  D012711  MSH  PEP  D012711.1  (131)I-Macroaggregated Albumin  0    N  256  \n",
       "1  C0000005  ENG  S  L0270109  PF  S0007491  Y  A26634266  NaN        M0019694  D012711  MSH  ET   D012711    (131)I-MAA                      0.0  N  256.0"
      ]
     },
     "execution_count": 6,
     "metadata": {},
     "output_type": "execute_result"
    }
   ],
   "source": [
    "df.head(2)"
   ]
  },
  {
   "cell_type": "code",
   "execution_count": 7,
   "metadata": {},
   "outputs": [],
   "source": [
    "df.columns = ['CUI','LAT','TS','LUI','STT',\n",
    "              'SUI','ISPREF','AUI','SAUI',\n",
    "              'SCUI','SDUI','SAB','TTY',\n",
    "              'CODE','STR','SRL','SUPPRESS',\n",
    "              'CVF']"
   ]
  },
  {
   "cell_type": "code",
   "execution_count": 8,
   "metadata": {},
   "outputs": [
    {
     "data": {
      "text/html": [
       "<div>\n",
       "<style scoped>\n",
       "    .dataframe tbody tr th:only-of-type {\n",
       "        vertical-align: middle;\n",
       "    }\n",
       "\n",
       "    .dataframe tbody tr th {\n",
       "        vertical-align: top;\n",
       "    }\n",
       "\n",
       "    .dataframe thead th {\n",
       "        text-align: right;\n",
       "    }\n",
       "</style>\n",
       "<table border=\"1\" class=\"dataframe\">\n",
       "  <thead>\n",
       "    <tr style=\"text-align: right;\">\n",
       "      <th></th>\n",
       "      <th>CUI</th>\n",
       "      <th>LAT</th>\n",
       "      <th>TS</th>\n",
       "      <th>LUI</th>\n",
       "      <th>STT</th>\n",
       "      <th>SUI</th>\n",
       "      <th>ISPREF</th>\n",
       "      <th>AUI</th>\n",
       "      <th>SAUI</th>\n",
       "      <th>SCUI</th>\n",
       "      <th>SDUI</th>\n",
       "      <th>SAB</th>\n",
       "      <th>TTY</th>\n",
       "      <th>CODE</th>\n",
       "      <th>STR</th>\n",
       "      <th>SRL</th>\n",
       "      <th>SUPPRESS</th>\n",
       "      <th>CVF</th>\n",
       "    </tr>\n",
       "  </thead>\n",
       "  <tbody>\n",
       "    <tr>\n",
       "      <th>0</th>\n",
       "      <td>C0000005</td>\n",
       "      <td>ENG</td>\n",
       "      <td>P</td>\n",
       "      <td>L0000005</td>\n",
       "      <td>PF</td>\n",
       "      <td>S0007492</td>\n",
       "      <td>Y</td>\n",
       "      <td>A26634265</td>\n",
       "      <td>NaN</td>\n",
       "      <td>M0019694</td>\n",
       "      <td>D012711</td>\n",
       "      <td>MSH</td>\n",
       "      <td>PEP</td>\n",
       "      <td>D012711.1</td>\n",
       "      <td>(131)I-Macroaggregated Albumin</td>\n",
       "      <td>0</td>\n",
       "      <td>N</td>\n",
       "      <td>256</td>\n",
       "    </tr>\n",
       "    <tr>\n",
       "      <th>1</th>\n",
       "      <td>C0000005</td>\n",
       "      <td>ENG</td>\n",
       "      <td>S</td>\n",
       "      <td>L0270109</td>\n",
       "      <td>PF</td>\n",
       "      <td>S0007491</td>\n",
       "      <td>Y</td>\n",
       "      <td>A26634266</td>\n",
       "      <td>NaN</td>\n",
       "      <td>M0019694</td>\n",
       "      <td>D012711</td>\n",
       "      <td>MSH</td>\n",
       "      <td>ET</td>\n",
       "      <td>D012711</td>\n",
       "      <td>(131)I-MAA</td>\n",
       "      <td>0.0</td>\n",
       "      <td>N</td>\n",
       "      <td>256.0</td>\n",
       "    </tr>\n",
       "    <tr>\n",
       "      <th>2</th>\n",
       "      <td>C0000005</td>\n",
       "      <td>FRE</td>\n",
       "      <td>P</td>\n",
       "      <td>L6220710</td>\n",
       "      <td>PF</td>\n",
       "      <td>S7133957</td>\n",
       "      <td>Y</td>\n",
       "      <td>A13433185</td>\n",
       "      <td>NaN</td>\n",
       "      <td>M0019694</td>\n",
       "      <td>D012711</td>\n",
       "      <td>MSHFRE</td>\n",
       "      <td>PEP</td>\n",
       "      <td>D012711</td>\n",
       "      <td>Macroagrégats d'albumine marquée à l'iode 131</td>\n",
       "      <td>3.0</td>\n",
       "      <td>N</td>\n",
       "      <td>NaN</td>\n",
       "    </tr>\n",
       "    <tr>\n",
       "      <th>3</th>\n",
       "      <td>C0000005</td>\n",
       "      <td>FRE</td>\n",
       "      <td>S</td>\n",
       "      <td>L6215648</td>\n",
       "      <td>PF</td>\n",
       "      <td>S7133916</td>\n",
       "      <td>Y</td>\n",
       "      <td>A27488794</td>\n",
       "      <td>NaN</td>\n",
       "      <td>M0019694</td>\n",
       "      <td>D012711</td>\n",
       "      <td>MSHFRE</td>\n",
       "      <td>ET</td>\n",
       "      <td>D012711</td>\n",
       "      <td>MAA-I 131</td>\n",
       "      <td>3.0</td>\n",
       "      <td>N</td>\n",
       "      <td>NaN</td>\n",
       "    </tr>\n",
       "    <tr>\n",
       "      <th>4</th>\n",
       "      <td>C0000005</td>\n",
       "      <td>FRE</td>\n",
       "      <td>S</td>\n",
       "      <td>L6215656</td>\n",
       "      <td>PF</td>\n",
       "      <td>S7133956</td>\n",
       "      <td>Y</td>\n",
       "      <td>A27614225</td>\n",
       "      <td>NaN</td>\n",
       "      <td>M0019694</td>\n",
       "      <td>D012711</td>\n",
       "      <td>MSHFRE</td>\n",
       "      <td>ET</td>\n",
       "      <td>D012711</td>\n",
       "      <td>Macroagrégats d'albumine humaine marquée à l'iode 131</td>\n",
       "      <td>3.0</td>\n",
       "      <td>N</td>\n",
       "      <td>NaN</td>\n",
       "    </tr>\n",
       "  </tbody>\n",
       "</table>\n",
       "</div>"
      ],
      "text/plain": [
       "        CUI  LAT TS       LUI STT       SUI ISPREF        AUI SAUI      SCUI     SDUI     SAB  TTY       CODE                                                    STR  SRL SUPPRESS    CVF\n",
       "0  C0000005  ENG  P  L0000005  PF  S0007492  Y      A26634265  NaN  M0019694  D012711  MSH     PEP  D012711.1  (131)I-Macroaggregated Albumin                         0    N        256  \n",
       "1  C0000005  ENG  S  L0270109  PF  S0007491  Y      A26634266  NaN  M0019694  D012711  MSH     ET   D012711    (131)I-MAA                                             0.0  N        256.0\n",
       "2  C0000005  FRE  P  L6220710  PF  S7133957  Y      A13433185  NaN  M0019694  D012711  MSHFRE  PEP  D012711    Macroagrégats d'albumine marquée à l'iode 131          3.0  N        NaN  \n",
       "3  C0000005  FRE  S  L6215648  PF  S7133916  Y      A27488794  NaN  M0019694  D012711  MSHFRE  ET   D012711    MAA-I 131                                              3.0  N        NaN  \n",
       "4  C0000005  FRE  S  L6215656  PF  S7133956  Y      A27614225  NaN  M0019694  D012711  MSHFRE  ET   D012711    Macroagrégats d'albumine humaine marquée à l'iode 131  3.0  N        NaN  "
      ]
     },
     "execution_count": 8,
     "metadata": {},
     "output_type": "execute_result"
    }
   ],
   "source": [
    "df.head()"
   ]
  },
  {
   "cell_type": "code",
   "execution_count": 9,
   "metadata": {},
   "outputs": [
    {
     "data": {
      "image/png": "[encoded data removed]",
      "text/plain": [
       "<Figure size 640x480 with 1 Axes>"
      ]
     },
     "metadata": {},
     "output_type": "display_data"
    }
   ],
   "source": [
    "# Source distribution\n",
    "df.SAB.value_counts()[:10].plot(kind = 'bar')\n",
    "plt.xlabel(\"Source Vocabulary\")\n",
    "plt.ylabel(\"Count\")\n",
    "plt.title(\"Distribution of source vocabularies\")\n",
    "plt.show()"
   ]
  },
  {
   "cell_type": "code",
   "execution_count": 10,
   "metadata": {},
   "outputs": [
    {
     "data": {
      "image/png": "[encoded data removed]",
      "text/plain": [
       "<Figure size 640x480 with 1 Axes>"
      ]
     },
     "metadata": {},
     "output_type": "display_data"
    }
   ],
   "source": [
    "df.LAT.value_counts().plot(kind = 'bar')\n",
    "plt.show()"
   ]
  },
  {
   "cell_type": "code",
   "execution_count": 11,
   "metadata": {},
   "outputs": [],
   "source": [
    "# English only\n",
    "df = df[df.LAT == 'ENG'].reset_index(drop = True)"
   ]
  },
  {
   "cell_type": "code",
   "execution_count": 12,
   "metadata": {},
   "outputs": [
    {
     "data": {
      "text/plain": [
       "(8510800, 18)"
      ]
     },
     "execution_count": 12,
     "metadata": {},
     "output_type": "execute_result"
    }
   ],
   "source": [
    "df.shape"
   ]
  },
  {
   "cell_type": "code",
   "execution_count": 13,
   "metadata": {},
   "outputs": [
    {
     "data": {
      "text/html": [
       "<div>\n",
       "<style scoped>\n",
       "    .dataframe tbody tr th:only-of-type {\n",
       "        vertical-align: middle;\n",
       "    }\n",
       "\n",
       "    .dataframe tbody tr th {\n",
       "        vertical-align: top;\n",
       "    }\n",
       "\n",
       "    .dataframe thead th {\n",
       "        text-align: right;\n",
       "    }\n",
       "</style>\n",
       "<table border=\"1\" class=\"dataframe\">\n",
       "  <thead>\n",
       "    <tr style=\"text-align: right;\">\n",
       "      <th></th>\n",
       "      <th>CUI</th>\n",
       "      <th>LAT</th>\n",
       "      <th>TS</th>\n",
       "      <th>LUI</th>\n",
       "      <th>STT</th>\n",
       "      <th>SUI</th>\n",
       "      <th>ISPREF</th>\n",
       "      <th>AUI</th>\n",
       "      <th>SAUI</th>\n",
       "      <th>SCUI</th>\n",
       "      <th>SDUI</th>\n",
       "      <th>SAB</th>\n",
       "      <th>TTY</th>\n",
       "      <th>CODE</th>\n",
       "      <th>STR</th>\n",
       "      <th>SRL</th>\n",
       "      <th>SUPPRESS</th>\n",
       "      <th>CVF</th>\n",
       "    </tr>\n",
       "  </thead>\n",
       "  <tbody>\n",
       "    <tr>\n",
       "      <th>0</th>\n",
       "      <td>C0000005</td>\n",
       "      <td>ENG</td>\n",
       "      <td>P</td>\n",
       "      <td>L0000005</td>\n",
       "      <td>PF</td>\n",
       "      <td>S0007492</td>\n",
       "      <td>Y</td>\n",
       "      <td>A26634265</td>\n",
       "      <td>NaN</td>\n",
       "      <td>M0019694</td>\n",
       "      <td>D012711</td>\n",
       "      <td>MSH</td>\n",
       "      <td>PEP</td>\n",
       "      <td>D012711.1</td>\n",
       "      <td>(131)I-Macroaggregated Albumin</td>\n",
       "      <td>0</td>\n",
       "      <td>N</td>\n",
       "      <td>256</td>\n",
       "    </tr>\n",
       "    <tr>\n",
       "      <th>1</th>\n",
       "      <td>C0000005</td>\n",
       "      <td>ENG</td>\n",
       "      <td>S</td>\n",
       "      <td>L0270109</td>\n",
       "      <td>PF</td>\n",
       "      <td>S0007491</td>\n",
       "      <td>Y</td>\n",
       "      <td>A26634266</td>\n",
       "      <td>NaN</td>\n",
       "      <td>M0019694</td>\n",
       "      <td>D012711</td>\n",
       "      <td>MSH</td>\n",
       "      <td>ET</td>\n",
       "      <td>D012711</td>\n",
       "      <td>(131)I-MAA</td>\n",
       "      <td>0.0</td>\n",
       "      <td>N</td>\n",
       "      <td>256.0</td>\n",
       "    </tr>\n",
       "    <tr>\n",
       "      <th>2</th>\n",
       "      <td>C0000039</td>\n",
       "      <td>ENG</td>\n",
       "      <td>P</td>\n",
       "      <td>L0000039</td>\n",
       "      <td>PF</td>\n",
       "      <td>S17175117</td>\n",
       "      <td>N</td>\n",
       "      <td>A28315139</td>\n",
       "      <td>9194921.0</td>\n",
       "      <td>1926948</td>\n",
       "      <td>NaN</td>\n",
       "      <td>RXNORM</td>\n",
       "      <td>IN</td>\n",
       "      <td>1926948</td>\n",
       "      <td>1,2-dipalmitoylphosphatidylcholine</td>\n",
       "      <td>0.0</td>\n",
       "      <td>N</td>\n",
       "      <td>256.0</td>\n",
       "    </tr>\n",
       "  </tbody>\n",
       "</table>\n",
       "</div>"
      ],
      "text/plain": [
       "        CUI  LAT TS       LUI STT        SUI ISPREF        AUI       SAUI      SCUI     SDUI     SAB  TTY       CODE                                 STR  SRL SUPPRESS    CVF\n",
       "0  C0000005  ENG  P  L0000005  PF  S0007492   Y      A26634265  NaN        M0019694  D012711  MSH     PEP  D012711.1  (131)I-Macroaggregated Albumin      0    N        256  \n",
       "1  C0000005  ENG  S  L0270109  PF  S0007491   Y      A26634266  NaN        M0019694  D012711  MSH     ET   D012711    (131)I-MAA                          0.0  N        256.0\n",
       "2  C0000039  ENG  P  L0000039  PF  S17175117  N      A28315139  9194921.0  1926948   NaN      RXNORM  IN   1926948    1,2-dipalmitoylphosphatidylcholine  0.0  N        256.0"
      ]
     },
     "execution_count": 13,
     "metadata": {},
     "output_type": "execute_result"
    }
   ],
   "source": [
    "df.head(3)"
   ]
  },
  {
   "cell_type": "code",
   "execution_count": 14,
   "metadata": {},
   "outputs": [
    {
     "data": {
      "text/plain": [
       "PT             2094740\n",
       "SY             1335271\n",
       "FN             793410 \n",
       "SCN            696462 \n",
       "NM             321747 \n",
       "CE             319585 \n",
       "PN             248479 \n",
       "ET             197694 \n",
       "DP             143081 \n",
       "PM             129283 \n",
       "HX             112732 \n",
       "LPDN           110145 \n",
       "LC             95871  \n",
       "LN             95871  \n",
       "MTH_LN         95816  \n",
       "ACR            85550  \n",
       "OSN            83459  \n",
       "PX             80217  \n",
       "PCE            77920  \n",
       "LLT            76364  \n",
       "LPN            69223  \n",
       "IN             64115  \n",
       "DN             59598  \n",
       "BD             56499  \n",
       "CD             53256  \n",
       "HT             50271  \n",
       "CN             47089  \n",
       "PTCS           44571  \n",
       "MTH_ACR        43143  \n",
       "SYN            42780  \n",
       "NP             38646  \n",
       "ETAL           36338  \n",
       "BN             33775  \n",
       "PTAV           33305  \n",
       "MH             30454  \n",
       "PEP            29744  \n",
       "ETCLIN         28486  \n",
       "PSN            26363  \n",
       "AB             23400  \n",
       "N1             22684  \n",
       "SU             22509  \n",
       "PTGB           20659  \n",
       "LA             19420  \n",
       "CDD            17778  \n",
       "CDC            17778  \n",
       "CDA            17778  \n",
       "CCN            17715  \n",
       "SCD            17300  \n",
       "NS             15483  \n",
       "SCDC           14270  \n",
       "CMN            13846  \n",
       "MS             13619  \n",
       "RT             13257  \n",
       "AC             12953  \n",
       "ID             11578  \n",
       "SYGB           11519  \n",
       "DE             10817  \n",
       "TMSY           10546  \n",
       "ETCF           10411  \n",
       "MTH_CN         10176  \n",
       "SBD            9420   \n",
       "PHENO          9392   \n",
       "EQ             8877   \n",
       "SCDG           8664   \n",
       "SBDC           8409   \n",
       "SBDG           8210   \n",
       "SCDF           7763   \n",
       "PTN            7409   \n",
       "CSN            7302   \n",
       "LG             6921   \n",
       "SBDF           6079   \n",
       "MTH_PT         5859   \n",
       "FI             5016   \n",
       "GT             4797   \n",
       "FSY            4385   \n",
       "GN             3905   \n",
       "MIN            3776   \n",
       "PIN            3340   \n",
       "FBD            2736   \n",
       "USN            2710   \n",
       "LS             2383   \n",
       "MTH_RXN_BD     2178   \n",
       "DI             2088   \n",
       "MTH_SY         2086   \n",
       "IT             2077   \n",
       "MTH_RXN_CD     1865   \n",
       "VS             1740   \n",
       "MTH_RXN_DP     1738   \n",
       "CHN            1651   \n",
       "AD             1564   \n",
       "MTH_FN         1442   \n",
       "PHENO_ET       1414   \n",
       "OR             1357   \n",
       "MP             1013   \n",
       "DF             973    \n",
       "RXN_PT         941    \n",
       "MTH_ET         913    \n",
       "SD             829    \n",
       "AT             819    \n",
       "MTH_LLT        787    \n",
       "DC10           765    \n",
       "CDO            757    \n",
       "HC             738    \n",
       "MD             693    \n",
       "MTH_HT         680    \n",
       "UCN            628    \n",
       "LV             609    \n",
       "BPCK           584    \n",
       "DC9            572    \n",
       "PSC            571    \n",
       "IV             565    \n",
       "SP             561    \n",
       "OC             540    \n",
       "USY            528    \n",
       "GPCK           519    \n",
       "MTH_PTN        512    \n",
       "XD             509    \n",
       "DS             509    \n",
       "HD             507    \n",
       "HTN            478    \n",
       "HS             426    \n",
       "PR             405    \n",
       "MV             403    \n",
       "CSY            399    \n",
       "MTH_RXN_CDC    388    \n",
       "HG             337    \n",
       "SI             331    \n",
       "GO             311    \n",
       "NPT            297    \n",
       "PC             233    \n",
       "SMQ            230    \n",
       "NX             200    \n",
       "SS             196    \n",
       "SSN            187    \n",
       "RAB            187    \n",
       "RPT            187    \n",
       "VPT            185    \n",
       "VAB            184    \n",
       "TA             170    \n",
       "PXQ            155    \n",
       "MTH_HX         132    \n",
       "ST             129    \n",
       "RHT            92     \n",
       "TQ             76     \n",
       "TG             75     \n",
       "XQ             72     \n",
       "RS             68     \n",
       "MTH_PTGB       68     \n",
       "MTH_SMQ        63     \n",
       "RXN_IN         62     \n",
       "TX             61     \n",
       "OS             59     \n",
       "MTH_HG         56     \n",
       "POS            49     \n",
       "DFG            43     \n",
       "SC             42     \n",
       "MTH_SI         42     \n",
       "CO             36     \n",
       "EX             36     \n",
       "ES             36     \n",
       "CA3            35     \n",
       "SB             35     \n",
       "CPR            32     \n",
       "CA2            32     \n",
       "UE             30     \n",
       "RSY            30     \n",
       "CP             25     \n",
       "VSY            18     \n",
       "MTH_SYGB       16     \n",
       "CL             14     \n",
       "CX             13     \n",
       "XM             11     \n",
       "CR             9      \n",
       "CU             7      \n",
       "GLP            7      \n",
       "CV             6      \n",
       "PQ             6      \n",
       "BR             5      \n",
       "DO             4      \n",
       "IVC            4      \n",
       "SCALE          3      \n",
       "CC             1      \n",
       "DT             1      \n",
       "CCS            1      \n",
       "MTH_OS         1      \n",
       "Name: TTY, dtype: int64"
      ]
     },
     "execution_count": 14,
     "metadata": {},
     "output_type": "execute_result"
    }
   ],
   "source": [
    "# check TTY - term types\n",
    "# these seem useful\n",
    "df.TTY.value_counts()"
   ]
  },
  {
   "cell_type": "code",
   "execution_count": 15,
   "metadata": {},
   "outputs": [
    {
     "data": {
      "text/html": [
       "<div>\n",
       "<style scoped>\n",
       "    .dataframe tbody tr th:only-of-type {\n",
       "        vertical-align: middle;\n",
       "    }\n",
       "\n",
       "    .dataframe tbody tr th {\n",
       "        vertical-align: top;\n",
       "    }\n",
       "\n",
       "    .dataframe thead th {\n",
       "        text-align: right;\n",
       "    }\n",
       "</style>\n",
       "<table border=\"1\" class=\"dataframe\">\n",
       "  <thead>\n",
       "    <tr style=\"text-align: right;\">\n",
       "      <th></th>\n",
       "      <th>CUI</th>\n",
       "      <th>LAT</th>\n",
       "      <th>TS</th>\n",
       "      <th>LUI</th>\n",
       "      <th>STT</th>\n",
       "      <th>SUI</th>\n",
       "      <th>ISPREF</th>\n",
       "      <th>AUI</th>\n",
       "      <th>SAUI</th>\n",
       "      <th>SCUI</th>\n",
       "      <th>SDUI</th>\n",
       "      <th>SAB</th>\n",
       "      <th>TTY</th>\n",
       "      <th>CODE</th>\n",
       "      <th>STR</th>\n",
       "      <th>SRL</th>\n",
       "      <th>SUPPRESS</th>\n",
       "      <th>CVF</th>\n",
       "      <th>term_type</th>\n",
       "    </tr>\n",
       "  </thead>\n",
       "  <tbody>\n",
       "    <tr>\n",
       "      <th>0</th>\n",
       "      <td>C0000005</td>\n",
       "      <td>ENG</td>\n",
       "      <td>P</td>\n",
       "      <td>L0000005</td>\n",
       "      <td>PF</td>\n",
       "      <td>S0007492</td>\n",
       "      <td>Y</td>\n",
       "      <td>A26634265</td>\n",
       "      <td>NaN</td>\n",
       "      <td>M0019694</td>\n",
       "      <td>D012711</td>\n",
       "      <td>MSH</td>\n",
       "      <td>PEP</td>\n",
       "      <td>D012711.1</td>\n",
       "      <td>(131)I-Macroaggregated Albumin</td>\n",
       "      <td>0</td>\n",
       "      <td>N</td>\n",
       "      <td>256</td>\n",
       "      <td>Preferred entry term</td>\n",
       "    </tr>\n",
       "    <tr>\n",
       "      <th>1</th>\n",
       "      <td>C0000005</td>\n",
       "      <td>ENG</td>\n",
       "      <td>S</td>\n",
       "      <td>L0270109</td>\n",
       "      <td>PF</td>\n",
       "      <td>S0007491</td>\n",
       "      <td>Y</td>\n",
       "      <td>A26634266</td>\n",
       "      <td>NaN</td>\n",
       "      <td>M0019694</td>\n",
       "      <td>D012711</td>\n",
       "      <td>MSH</td>\n",
       "      <td>ET</td>\n",
       "      <td>D012711</td>\n",
       "      <td>(131)I-MAA</td>\n",
       "      <td>0.0</td>\n",
       "      <td>N</td>\n",
       "      <td>256.0</td>\n",
       "      <td>Entry term</td>\n",
       "    </tr>\n",
       "    <tr>\n",
       "      <th>2</th>\n",
       "      <td>C0000039</td>\n",
       "      <td>ENG</td>\n",
       "      <td>P</td>\n",
       "      <td>L0000039</td>\n",
       "      <td>PF</td>\n",
       "      <td>S17175117</td>\n",
       "      <td>N</td>\n",
       "      <td>A28315139</td>\n",
       "      <td>9194921.0</td>\n",
       "      <td>1926948</td>\n",
       "      <td>NaN</td>\n",
       "      <td>RXNORM</td>\n",
       "      <td>IN</td>\n",
       "      <td>1926948</td>\n",
       "      <td>1,2-dipalmitoylphosphatidylcholine</td>\n",
       "      <td>0.0</td>\n",
       "      <td>N</td>\n",
       "      <td>256.0</td>\n",
       "      <td>Name for an ingredient</td>\n",
       "    </tr>\n",
       "    <tr>\n",
       "      <th>3</th>\n",
       "      <td>C0000039</td>\n",
       "      <td>ENG</td>\n",
       "      <td>P</td>\n",
       "      <td>L0000039</td>\n",
       "      <td>PF</td>\n",
       "      <td>S17175117</td>\n",
       "      <td>Y</td>\n",
       "      <td>A28572604</td>\n",
       "      <td>NaN</td>\n",
       "      <td>NaN</td>\n",
       "      <td>NaN</td>\n",
       "      <td>MTH</td>\n",
       "      <td>PN</td>\n",
       "      <td>NOCODE</td>\n",
       "      <td>1,2-dipalmitoylphosphatidylcholine</td>\n",
       "      <td>0.0</td>\n",
       "      <td>N</td>\n",
       "      <td>256.0</td>\n",
       "      <td>Metathesaurus preferred name</td>\n",
       "    </tr>\n",
       "    <tr>\n",
       "      <th>4</th>\n",
       "      <td>C0000039</td>\n",
       "      <td>ENG</td>\n",
       "      <td>P</td>\n",
       "      <td>L0000039</td>\n",
       "      <td>VC</td>\n",
       "      <td>S0007564</td>\n",
       "      <td>Y</td>\n",
       "      <td>A0016515</td>\n",
       "      <td>NaN</td>\n",
       "      <td>M0023172</td>\n",
       "      <td>D015060</td>\n",
       "      <td>MSH</td>\n",
       "      <td>MH</td>\n",
       "      <td>D015060</td>\n",
       "      <td>1,2-Dipalmitoylphosphatidylcholine</td>\n",
       "      <td>0.0</td>\n",
       "      <td>N</td>\n",
       "      <td>NaN</td>\n",
       "      <td>Main heading</td>\n",
       "    </tr>\n",
       "  </tbody>\n",
       "</table>\n",
       "</div>"
      ],
      "text/plain": [
       "        CUI  LAT TS       LUI STT        SUI ISPREF        AUI       SAUI      SCUI     SDUI     SAB  TTY       CODE                                 STR  SRL SUPPRESS    CVF                     term_type\n",
       "0  C0000005  ENG  P  L0000005  PF  S0007492   Y      A26634265  NaN        M0019694  D012711  MSH     PEP  D012711.1  (131)I-Macroaggregated Albumin      0    N        256    Preferred entry term        \n",
       "1  C0000005  ENG  S  L0270109  PF  S0007491   Y      A26634266  NaN        M0019694  D012711  MSH     ET   D012711    (131)I-MAA                          0.0  N        256.0  Entry term                  \n",
       "2  C0000039  ENG  P  L0000039  PF  S17175117  N      A28315139  9194921.0  1926948   NaN      RXNORM  IN   1926948    1,2-dipalmitoylphosphatidylcholine  0.0  N        256.0  Name for an ingredient      \n",
       "3  C0000039  ENG  P  L0000039  PF  S17175117  Y      A28572604  NaN        NaN       NaN      MTH     PN   NOCODE     1,2-dipalmitoylphosphatidylcholine  0.0  N        256.0  Metathesaurus preferred name\n",
       "4  C0000039  ENG  P  L0000039  VC  S0007564   Y      A0016515   NaN        M0023172  D015060  MSH     MH   D015060    1,2-Dipalmitoylphosphatidylcholine  0.0  N        NaN    Main heading                "
      ]
     },
     "execution_count": 15,
     "metadata": {},
     "output_type": "execute_result"
    }
   ],
   "source": [
    "type_dict = {}\n",
    "with open(\"../data/type_dict.txt\") as f:\n",
    "    text = f.readlines()\n",
    "    for line in text:\n",
    "        line = line.strip('\\n')\n",
    "        line = line.split('\\t')\n",
    "        type_dict[line[0]] = line[-1]\n",
    "    f.close()\n",
    "\n",
    "df['term_type'] = df['TTY'].apply(lambda x: type_dict.get(x) if not pd.isna(x) else None)\n",
    "\n",
    "df.head()"
   ]
  },
  {
   "cell_type": "code",
   "execution_count": null,
   "metadata": {},
   "outputs": [],
   "source": []
  },
  {
   "cell_type": "code",
   "execution_count": 16,
   "metadata": {},
   "outputs": [
    {
     "data": {
      "text/plain": [
       "Designated preferred name                 2094740\n",
       "Designated synonym                        1335271\n",
       "Full form of descriptor                   793410 \n",
       "Scientific name                           696462 \n",
       "Name of Supplementary Concept             321747 \n",
       "Entry term for a Supplementary Concept    319585 \n",
       "Metathesaurus preferred name              248479 \n",
       "Entry term                                197694 \n",
       "Drug Product                              143081 \n",
       "Machine permutation                       129283 \n",
       "Name: term_type, dtype: int64"
      ]
     },
     "execution_count": 16,
     "metadata": {},
     "output_type": "execute_result"
    }
   ],
   "source": [
    "df['term_type'].value_counts()[:10]"
   ]
  },
  {
   "cell_type": "code",
   "execution_count": 17,
   "metadata": {},
   "outputs": [],
   "source": [
    "# df.to_csv('../data/concept.csv', index = False)"
   ]
  },
  {
   "cell_type": "code",
   "execution_count": 18,
   "metadata": {},
   "outputs": [],
   "source": [
    "df_snomed = df[df.SAB == 'SNOMEDCT_US'].copy().reset_index(drop = True)"
   ]
  },
  {
   "attachments": {},
   "cell_type": "markdown",
   "metadata": {},
   "source": [
    "## Semantic Types"
   ]
  },
  {
   "cell_type": "code",
   "execution_count": 19,
   "metadata": {},
   "outputs": [
    {
     "data": {
      "text/html": [
       "<div>\n",
       "<style scoped>\n",
       "    .dataframe tbody tr th:only-of-type {\n",
       "        vertical-align: middle;\n",
       "    }\n",
       "\n",
       "    .dataframe tbody tr th {\n",
       "        vertical-align: top;\n",
       "    }\n",
       "\n",
       "    .dataframe thead th {\n",
       "        text-align: right;\n",
       "    }\n",
       "</style>\n",
       "<table border=\"1\" class=\"dataframe\">\n",
       "  <thead>\n",
       "    <tr style=\"text-align: right;\">\n",
       "      <th></th>\n",
       "      <th>CUI</th>\n",
       "      <th>TUI</th>\n",
       "      <th>STN</th>\n",
       "      <th>STY</th>\n",
       "      <th>ATUI</th>\n",
       "      <th>CVF</th>\n",
       "    </tr>\n",
       "  </thead>\n",
       "  <tbody>\n",
       "    <tr>\n",
       "      <th>0</th>\n",
       "      <td>C0000005</td>\n",
       "      <td>T116</td>\n",
       "      <td>A1.4.1.2.1.7</td>\n",
       "      <td>Amino Acid, Peptide, or Protein</td>\n",
       "      <td>AT17648347</td>\n",
       "      <td>256</td>\n",
       "    </tr>\n",
       "    <tr>\n",
       "      <th>1</th>\n",
       "      <td>C0000005</td>\n",
       "      <td>T121</td>\n",
       "      <td>A1.4.1.1.1</td>\n",
       "      <td>Pharmacologic Substance</td>\n",
       "      <td>AT17575038</td>\n",
       "      <td>256.0</td>\n",
       "    </tr>\n",
       "    <tr>\n",
       "      <th>2</th>\n",
       "      <td>C0000005</td>\n",
       "      <td>T130</td>\n",
       "      <td>A1.4.1.1.4</td>\n",
       "      <td>Indicator, Reagent, or Diagnostic Aid</td>\n",
       "      <td>AT17634323</td>\n",
       "      <td>256.0</td>\n",
       "    </tr>\n",
       "    <tr>\n",
       "      <th>3</th>\n",
       "      <td>C0000039</td>\n",
       "      <td>T109</td>\n",
       "      <td>A1.4.1.2.1</td>\n",
       "      <td>Organic Chemical</td>\n",
       "      <td>AT45562015</td>\n",
       "      <td>256.0</td>\n",
       "    </tr>\n",
       "    <tr>\n",
       "      <th>4</th>\n",
       "      <td>C0000039</td>\n",
       "      <td>T121</td>\n",
       "      <td>A1.4.1.1.1</td>\n",
       "      <td>Pharmacologic Substance</td>\n",
       "      <td>AT17567371</td>\n",
       "      <td>256.0</td>\n",
       "    </tr>\n",
       "  </tbody>\n",
       "</table>\n",
       "</div>"
      ],
      "text/plain": [
       "        CUI   TUI           STN                                    STY        ATUI    CVF\n",
       "0  C0000005  T116  A1.4.1.2.1.7  Amino Acid, Peptide, or Protein        AT17648347  256  \n",
       "1  C0000005  T121  A1.4.1.1.1    Pharmacologic Substance                AT17575038  256.0\n",
       "2  C0000005  T130  A1.4.1.1.4    Indicator, Reagent, or Diagnostic Aid  AT17634323  256.0\n",
       "3  C0000039  T109  A1.4.1.2.1    Organic Chemical                       AT45562015  256.0\n",
       "4  C0000039  T121  A1.4.1.1.1    Pharmacologic Substance                AT17567371  256.0"
      ]
     },
     "execution_count": 19,
     "metadata": {},
     "output_type": "execute_result"
    }
   ],
   "source": [
    "mrsty = pd.read_csv('../data/META/MRSTY.RRF', delimiter = '|', low_memory = False)\n",
    "mrsty = clean_data(mrsty)\n",
    "mrsty.columns = ['CUI','TUI','STN','STY','ATUI','CVF']\n",
    "mrsty.head()"
   ]
  },
  {
   "attachments": {},
   "cell_type": "markdown",
   "metadata": {},
   "source": [
    "We can start investigating relationships by restricting to 10 semantic types that are familiar to us\n",
    "\n",
    "We start by using SNOMED"
   ]
  },
  {
   "cell_type": "code",
   "execution_count": 20,
   "metadata": {},
   "outputs": [
    {
     "data": {
      "text/plain": [
       "Therapeutic or Preventive Procedure     315831\n",
       "Finding                                 314363\n",
       "Eukaryote                               301519\n",
       "Organic Chemical                        252284\n",
       "Plant                                   217622\n",
       "Pharmacologic Substance                 183610\n",
       "Amino Acid, Peptide, or Protein         162968\n",
       "Clinical Drug                           136535\n",
       "Disease or Syndrome                     115796\n",
       "Injury or Poisoning                     112348\n",
       "Clinical Attribute                      105343\n",
       "Body Part, Organ, or Organ Component    92166 \n",
       "Gene or Genome                          85030 \n",
       "Biologically Active Substance           78063 \n",
       "Medical Device                          66873 \n",
       "Name: STY, dtype: int64"
      ]
     },
     "execution_count": 20,
     "metadata": {},
     "output_type": "execute_result"
    }
   ],
   "source": [
    "mrsty.STY.value_counts()[:15]"
   ]
  },
  {
   "cell_type": "code",
   "execution_count": 21,
   "metadata": {},
   "outputs": [
    {
     "data": {
      "text/plain": [
       "(2540351, 6)"
      ]
     },
     "execution_count": 21,
     "metadata": {},
     "output_type": "execute_result"
    }
   ],
   "source": [
    "# use top 15\n",
    "types = mrsty.STY.value_counts()[:15].index.tolist()\n",
    "df_stype = mrsty[mrsty.STY.isin(types)].copy().reset_index(drop = True)\n",
    "df_stype.shape"
   ]
  },
  {
   "cell_type": "code",
   "execution_count": 22,
   "metadata": {},
   "outputs": [
    {
     "data": {
      "text/html": [
       "<div>\n",
       "<style scoped>\n",
       "    .dataframe tbody tr th:only-of-type {\n",
       "        vertical-align: middle;\n",
       "    }\n",
       "\n",
       "    .dataframe tbody tr th {\n",
       "        vertical-align: top;\n",
       "    }\n",
       "\n",
       "    .dataframe thead th {\n",
       "        text-align: right;\n",
       "    }\n",
       "</style>\n",
       "<table border=\"1\" class=\"dataframe\">\n",
       "  <thead>\n",
       "    <tr style=\"text-align: right;\">\n",
       "      <th></th>\n",
       "      <th>CUI</th>\n",
       "      <th>LAT</th>\n",
       "      <th>TS</th>\n",
       "      <th>LUI</th>\n",
       "      <th>STT</th>\n",
       "      <th>SUI</th>\n",
       "      <th>ISPREF</th>\n",
       "      <th>AUI</th>\n",
       "      <th>SAUI</th>\n",
       "      <th>SCUI</th>\n",
       "      <th>SDUI</th>\n",
       "      <th>SAB</th>\n",
       "      <th>TTY</th>\n",
       "      <th>CODE</th>\n",
       "      <th>STR</th>\n",
       "      <th>SRL</th>\n",
       "      <th>SUPPRESS</th>\n",
       "      <th>CVF</th>\n",
       "      <th>term_type</th>\n",
       "    </tr>\n",
       "  </thead>\n",
       "  <tbody>\n",
       "    <tr>\n",
       "      <th>0</th>\n",
       "      <td>C0000052</td>\n",
       "      <td>ENG</td>\n",
       "      <td>P</td>\n",
       "      <td>L0000052</td>\n",
       "      <td>VC</td>\n",
       "      <td>S0575717</td>\n",
       "      <td>Y</td>\n",
       "      <td>A27769867</td>\n",
       "      <td>97197014.0</td>\n",
       "      <td>58488005</td>\n",
       "      <td>NaN</td>\n",
       "      <td>SNOMEDCT_US</td>\n",
       "      <td>PT</td>\n",
       "      <td>58488005</td>\n",
       "      <td>1,4-alpha-Glucan branching enzyme</td>\n",
       "      <td>9.0</td>\n",
       "      <td>N</td>\n",
       "      <td>NaN</td>\n",
       "      <td>Designated preferred name</td>\n",
       "    </tr>\n",
       "    <tr>\n",
       "      <th>1</th>\n",
       "      <td>C0000052</td>\n",
       "      <td>ENG</td>\n",
       "      <td>S</td>\n",
       "      <td>L0006129</td>\n",
       "      <td>VC</td>\n",
       "      <td>S0604824</td>\n",
       "      <td>Y</td>\n",
       "      <td>A27781005</td>\n",
       "      <td>97198016.0</td>\n",
       "      <td>58488005</td>\n",
       "      <td>NaN</td>\n",
       "      <td>SNOMEDCT_US</td>\n",
       "      <td>SY</td>\n",
       "      <td>58488005</td>\n",
       "      <td>Branching enzyme</td>\n",
       "      <td>9.0</td>\n",
       "      <td>N</td>\n",
       "      <td>256.0</td>\n",
       "      <td>Designated synonym</td>\n",
       "    </tr>\n",
       "    <tr>\n",
       "      <th>2</th>\n",
       "      <td>C0000052</td>\n",
       "      <td>ENG</td>\n",
       "      <td>S</td>\n",
       "      <td>L0455267</td>\n",
       "      <td>PF</td>\n",
       "      <td>S0589116</td>\n",
       "      <td>Y</td>\n",
       "      <td>A27766654</td>\n",
       "      <td>97199012.0</td>\n",
       "      <td>58488005</td>\n",
       "      <td>NaN</td>\n",
       "      <td>SNOMEDCT_US</td>\n",
       "      <td>SY</td>\n",
       "      <td>58488005</td>\n",
       "      <td>Amylo-(1,4,6)-transglycosylase</td>\n",
       "      <td>9.0</td>\n",
       "      <td>N</td>\n",
       "      <td>NaN</td>\n",
       "      <td>Designated synonym</td>\n",
       "    </tr>\n",
       "    <tr>\n",
       "      <th>3</th>\n",
       "      <td>C0000052</td>\n",
       "      <td>ENG</td>\n",
       "      <td>S</td>\n",
       "      <td>L2723740</td>\n",
       "      <td>PF</td>\n",
       "      <td>S3293422</td>\n",
       "      <td>Y</td>\n",
       "      <td>A27780666</td>\n",
       "      <td>797225014.0</td>\n",
       "      <td>58488005</td>\n",
       "      <td>NaN</td>\n",
       "      <td>SNOMEDCT_US</td>\n",
       "      <td>FN</td>\n",
       "      <td>58488005</td>\n",
       "      <td>1,4-alpha-Glucan branching enzyme (substance)</td>\n",
       "      <td>9.0</td>\n",
       "      <td>N</td>\n",
       "      <td>NaN</td>\n",
       "      <td>Full form of descriptor</td>\n",
       "    </tr>\n",
       "    <tr>\n",
       "      <th>4</th>\n",
       "      <td>C0000097</td>\n",
       "      <td>ENG</td>\n",
       "      <td>S</td>\n",
       "      <td>L1024339</td>\n",
       "      <td>PF</td>\n",
       "      <td>S1234728</td>\n",
       "      <td>Y</td>\n",
       "      <td>A3230610</td>\n",
       "      <td>424399016.0</td>\n",
       "      <td>285407008</td>\n",
       "      <td>NaN</td>\n",
       "      <td>SNOMEDCT_US</td>\n",
       "      <td>PT</td>\n",
       "      <td>285407008</td>\n",
       "      <td>Methylphenyltetrahydropyridine</td>\n",
       "      <td>9.0</td>\n",
       "      <td>N</td>\n",
       "      <td>256.0</td>\n",
       "      <td>Designated preferred name</td>\n",
       "    </tr>\n",
       "  </tbody>\n",
       "</table>\n",
       "</div>"
      ],
      "text/plain": [
       "        CUI  LAT TS       LUI STT       SUI ISPREF        AUI         SAUI       SCUI SDUI          SAB TTY       CODE                                            STR  SRL SUPPRESS    CVF                  term_type\n",
       "0  C0000052  ENG  P  L0000052  VC  S0575717  Y      A27769867  97197014.0   58488005   NaN  SNOMEDCT_US  PT  58488005   1,4-alpha-Glucan branching enzyme              9.0  N        NaN    Designated preferred name\n",
       "1  C0000052  ENG  S  L0006129  VC  S0604824  Y      A27781005  97198016.0   58488005   NaN  SNOMEDCT_US  SY  58488005   Branching enzyme                               9.0  N        256.0  Designated synonym       \n",
       "2  C0000052  ENG  S  L0455267  PF  S0589116  Y      A27766654  97199012.0   58488005   NaN  SNOMEDCT_US  SY  58488005   Amylo-(1,4,6)-transglycosylase                 9.0  N        NaN    Designated synonym       \n",
       "3  C0000052  ENG  S  L2723740  PF  S3293422  Y      A27780666  797225014.0  58488005   NaN  SNOMEDCT_US  FN  58488005   1,4-alpha-Glucan branching enzyme (substance)  9.0  N        NaN    Full form of descriptor  \n",
       "4  C0000097  ENG  S  L1024339  PF  S1234728  Y      A3230610   424399016.0  285407008  NaN  SNOMEDCT_US  PT  285407008  Methylphenyltetrahydropyridine                 9.0  N        256.0  Designated preferred name"
      ]
     },
     "execution_count": 22,
     "metadata": {},
     "output_type": "execute_result"
    }
   ],
   "source": [
    "df_snomed.head()"
   ]
  },
  {
   "cell_type": "code",
   "execution_count": 23,
   "metadata": {},
   "outputs": [
    {
     "data": {
      "text/plain": [
       "Designated preferred name        2094740\n",
       "Designated synonym               1335271\n",
       "Full form of descriptor          793410 \n",
       "Scientific name                  696462 \n",
       "Name of Supplementary Concept    321747 \n",
       "Name: term_type, dtype: int64"
      ]
     },
     "execution_count": 23,
     "metadata": {},
     "output_type": "execute_result"
    }
   ],
   "source": [
    "df.term_type.value_counts()[:5]\n",
    "# df_snomed.term_type.value_counts()[:5]"
   ]
  },
  {
   "attachments": {},
   "cell_type": "markdown",
   "metadata": {},
   "source": [
    "To reduce duplicates, we'll look at only those concepts with 'designated preferred name' or 'designated synonym'"
   ]
  },
  {
   "cell_type": "code",
   "execution_count": 24,
   "metadata": {},
   "outputs": [],
   "source": [
    "df_pref_all = df[df.term_type.isin(['Designated preferred name','Designated synonym'])].copy()"
   ]
  },
  {
   "cell_type": "code",
   "execution_count": 25,
   "metadata": {},
   "outputs": [],
   "source": [
    "# df_pref = df_snomed[df_snomed.term_type == 'Designated preferred name'].copy()\n",
    "# print(df_pref.shape)\n",
    "# print(df_pref.CUI.nunique())"
   ]
  },
  {
   "attachments": {},
   "cell_type": "markdown",
   "metadata": {},
   "source": [
    "We can also use the ISPREF flag to filter down further\n",
    "\n",
    "ISPREF - Y or N for preferred string"
   ]
  },
  {
   "cell_type": "code",
   "execution_count": 26,
   "metadata": {},
   "outputs": [
    {
     "name": "stdout",
     "output_type": "stream",
     "text": [
      "(2743580, 19)\n",
      "1476658\n"
     ]
    }
   ],
   "source": [
    "df_pref_all = df_pref_all[df_pref_all.ISPREF == 'Y'].copy().reset_index(drop = True)\n",
    "print(df_pref_all.shape)\n",
    "print(df_pref_all.CUI.nunique())\n",
    "# df_pref = df_pref[df_pref.ISPREF == 'Y'].copy().reset_index(drop = True)\n",
    "# print(df_pref.shape)\n",
    "# print(df_pref.CUI.nunique())"
   ]
  },
  {
   "attachments": {},
   "cell_type": "markdown",
   "metadata": {},
   "source": []
  },
  {
   "cell_type": "code",
   "execution_count": 27,
   "metadata": {},
   "outputs": [],
   "source": [
    "# pd.set_option('display.max_colwidth', 1000000)\n",
    "# df_agg = df_pref.groupby('CUI').agg({\"STR\":('count','unique')})\n",
    "# df_agg.columns = [x[0] + '_' + x[1] for x in df_agg.columns]\n",
    "# # more than 1 instance\n",
    "# df_agg[df_agg.STR_count > 1].head(10)"
   ]
  },
  {
   "attachments": {},
   "cell_type": "markdown",
   "metadata": {},
   "source": [
    "There is a column 'TS' that referes to term status. P - preferred LUI of CUI, S - non-preferred LUI\n",
    "Restrict to only P instances"
   ]
  },
  {
   "cell_type": "code",
   "execution_count": 28,
   "metadata": {},
   "outputs": [],
   "source": [
    "df_pref_all = df_pref_all[df_pref_all.TS == 'P'].reset_index(drop = True)\n",
    "# df_pref = df_pref[df_pref.TS == 'P'].reset_index(drop = True)"
   ]
  },
  {
   "cell_type": "code",
   "execution_count": 29,
   "metadata": {},
   "outputs": [
    {
     "name": "stdout",
     "output_type": "stream",
     "text": [
      "1455558\n",
      "1219708\n"
     ]
    }
   ],
   "source": [
    "print(df_pref_all.shape[0])\n",
    "print(df_pref_all.CUI.nunique())\n",
    "# print(df_pref.shape[0])\n",
    "# print(df_pref.CUI.nunique())"
   ]
  },
  {
   "cell_type": "code",
   "execution_count": 30,
   "metadata": {},
   "outputs": [
    {
     "data": {
      "text/html": [
       "<div>\n",
       "<style scoped>\n",
       "    .dataframe tbody tr th:only-of-type {\n",
       "        vertical-align: middle;\n",
       "    }\n",
       "\n",
       "    .dataframe tbody tr th {\n",
       "        vertical-align: top;\n",
       "    }\n",
       "\n",
       "    .dataframe thead th {\n",
       "        text-align: right;\n",
       "    }\n",
       "</style>\n",
       "<table border=\"1\" class=\"dataframe\">\n",
       "  <thead>\n",
       "    <tr style=\"text-align: right;\">\n",
       "      <th></th>\n",
       "      <th>STR_count</th>\n",
       "      <th>STR_unique</th>\n",
       "    </tr>\n",
       "    <tr>\n",
       "      <th>CUI</th>\n",
       "      <th></th>\n",
       "      <th></th>\n",
       "    </tr>\n",
       "  </thead>\n",
       "  <tbody>\n",
       "    <tr>\n",
       "      <th>C0187096</th>\n",
       "      <td>2</td>\n",
       "      <td>[Incision and drainage of infected bursa of wrist, incision and drainage of infected bursa of wrist]</td>\n",
       "    </tr>\n",
       "    <tr>\n",
       "      <th>C2833057</th>\n",
       "      <td>2</td>\n",
       "      <td>[laceration of pharynx and cervical esophagus without foreign body, laceration of pharynx / cervical esophagus without foreign body]</td>\n",
       "    </tr>\n",
       "    <tr>\n",
       "      <th>C5140861</th>\n",
       "      <td>2</td>\n",
       "      <td>[pressure-induced deep tissue damage of unspecified site, Pressure-induced deep tissue damage of unspecified site]</td>\n",
       "    </tr>\n",
       "    <tr>\n",
       "      <th>C0567401</th>\n",
       "      <td>2</td>\n",
       "      <td>[Genus Cladosporium spore, Spore of genus Cladosporium]</td>\n",
       "    </tr>\n",
       "    <tr>\n",
       "      <th>C0571052</th>\n",
       "      <td>3</td>\n",
       "      <td>[Allergy to hydroxyzine, Hydroxyzine allergy, HYDROXYZINE ALLERGY]</td>\n",
       "    </tr>\n",
       "    <tr>\n",
       "      <th>C1158707</th>\n",
       "      <td>2</td>\n",
       "      <td>[regulation of bicoid mRNA localization, regulation of bicoid mRNA localisation]</td>\n",
       "    </tr>\n",
       "    <tr>\n",
       "      <th>C1154191</th>\n",
       "      <td>3</td>\n",
       "      <td>[rectal gel, Rectal gel, gels rectal]</td>\n",
       "    </tr>\n",
       "    <tr>\n",
       "      <th>C0343200</th>\n",
       "      <td>6</td>\n",
       "      <td>[Giant cell arteritis with polymyalgia rheumatica, polymyalgia; rheumatica, with giant cell arteritis, rheumatica; polymyalgia, with giant cell arteritis, arteritis; giant cell, with polymyalgia rheumatica, giant cell arteritis with polymyalgia rheumatica, giant cell; arteritis, with polymyalgia rheumatica]</td>\n",
       "    </tr>\n",
       "    <tr>\n",
       "      <th>C0577692</th>\n",
       "      <td>5</td>\n",
       "      <td>[Transitional cell carcinoma of ureter, Transitional Cell Carcinoma of Ureter, transitional cell carcinoma of ureter, Transitional Cell Carcinoma of the Ureter, Ureter Transitional Cell Carcinoma]</td>\n",
       "    </tr>\n",
       "    <tr>\n",
       "      <th>C0454801</th>\n",
       "      <td>2</td>\n",
       "      <td>[Chios, chios]</td>\n",
       "    </tr>\n",
       "  </tbody>\n",
       "</table>\n",
       "</div>"
      ],
      "text/plain": [
       "          STR_count                                                                                                                                                                                                                                                                                                            STR_unique\n",
       "CUI                                                                                                                                                                                                                                                                                                                                      \n",
       "C0187096  2          [Incision and drainage of infected bursa of wrist, incision and drainage of infected bursa of wrist]                                                                                                                                                                                                                \n",
       "C2833057  2          [laceration of pharynx and cervical esophagus without foreign body, laceration of pharynx / cervical esophagus without foreign body]                                                                                                                                                                                \n",
       "C5140861  2          [pressure-induced deep tissue damage of unspecified site, Pressure-induced deep tissue damage of unspecified site]                                                                                                                                                                                                  \n",
       "C0567401  2          [Genus Cladosporium spore, Spore of genus Cladosporium]                                                                                                                                                                                                                                                             \n",
       "C0571052  3          [Allergy to hydroxyzine, Hydroxyzine allergy, HYDROXYZINE ALLERGY]                                                                                                                                                                                                                                                  \n",
       "C1158707  2          [regulation of bicoid mRNA localization, regulation of bicoid mRNA localisation]                                                                                                                                                                                                                                    \n",
       "C1154191  3          [rectal gel, Rectal gel, gels rectal]                                                                                                                                                                                                                                                                               \n",
       "C0343200  6          [Giant cell arteritis with polymyalgia rheumatica, polymyalgia; rheumatica, with giant cell arteritis, rheumatica; polymyalgia, with giant cell arteritis, arteritis; giant cell, with polymyalgia rheumatica, giant cell arteritis with polymyalgia rheumatica, giant cell; arteritis, with polymyalgia rheumatica]\n",
       "C0577692  5          [Transitional cell carcinoma of ureter, Transitional Cell Carcinoma of Ureter, transitional cell carcinoma of ureter, Transitional Cell Carcinoma of the Ureter, Ureter Transitional Cell Carcinoma]                                                                                                                \n",
       "C0454801  2          [Chios, chios]                                                                                                                                                                                                                                                                                                      "
      ]
     },
     "execution_count": 30,
     "metadata": {},
     "output_type": "execute_result"
    }
   ],
   "source": [
    "df_agg = df_pref_all.groupby('CUI').agg({\"STR\":('count','unique')})\n",
    "df_agg.columns = [x[0] + '_' + x[1] for x in df_agg.columns]\n",
    "# more than 1 instance\n",
    "df_agg[df_agg.STR_count > 1].sample(10)"
   ]
  },
  {
   "cell_type": "code",
   "execution_count": 31,
   "metadata": {},
   "outputs": [
    {
     "name": "stdout",
     "output_type": "stream",
     "text": [
      "Dimensions of data are (1219708, 19)\n"
     ]
    },
    {
     "data": {
      "text/html": [
       "<div>\n",
       "<style scoped>\n",
       "    .dataframe tbody tr th:only-of-type {\n",
       "        vertical-align: middle;\n",
       "    }\n",
       "\n",
       "    .dataframe tbody tr th {\n",
       "        vertical-align: top;\n",
       "    }\n",
       "\n",
       "    .dataframe thead th {\n",
       "        text-align: right;\n",
       "    }\n",
       "</style>\n",
       "<table border=\"1\" class=\"dataframe\">\n",
       "  <thead>\n",
       "    <tr style=\"text-align: right;\">\n",
       "      <th></th>\n",
       "      <th>CUI</th>\n",
       "      <th>LAT</th>\n",
       "      <th>TS</th>\n",
       "      <th>LUI</th>\n",
       "      <th>STT</th>\n",
       "      <th>SUI</th>\n",
       "      <th>ISPREF</th>\n",
       "      <th>AUI</th>\n",
       "      <th>SAUI</th>\n",
       "      <th>SCUI</th>\n",
       "      <th>SDUI</th>\n",
       "      <th>SAB</th>\n",
       "      <th>TTY</th>\n",
       "      <th>CODE</th>\n",
       "      <th>STR</th>\n",
       "      <th>SRL</th>\n",
       "      <th>SUPPRESS</th>\n",
       "      <th>CVF</th>\n",
       "      <th>term_type</th>\n",
       "    </tr>\n",
       "  </thead>\n",
       "  <tbody>\n",
       "    <tr>\n",
       "      <th>0</th>\n",
       "      <td>C0000052</td>\n",
       "      <td>ENG</td>\n",
       "      <td>P</td>\n",
       "      <td>L0000052</td>\n",
       "      <td>VC</td>\n",
       "      <td>S0575717</td>\n",
       "      <td>Y</td>\n",
       "      <td>A27769867</td>\n",
       "      <td>97197014.0</td>\n",
       "      <td>58488005</td>\n",
       "      <td>NaN</td>\n",
       "      <td>SNOMEDCT_US</td>\n",
       "      <td>PT</td>\n",
       "      <td>58488005</td>\n",
       "      <td>1,4-alpha-Glucan branching enzyme</td>\n",
       "      <td>9.0</td>\n",
       "      <td>N</td>\n",
       "      <td>NaN</td>\n",
       "      <td>Designated preferred name</td>\n",
       "    </tr>\n",
       "    <tr>\n",
       "      <th>1</th>\n",
       "      <td>C0000102</td>\n",
       "      <td>ENG</td>\n",
       "      <td>P</td>\n",
       "      <td>L0000102</td>\n",
       "      <td>VC</td>\n",
       "      <td>S11842173</td>\n",
       "      <td>Y</td>\n",
       "      <td>A18589612</td>\n",
       "      <td>3.0</td>\n",
       "      <td>0000000502</td>\n",
       "      <td>NaN</td>\n",
       "      <td>CHV</td>\n",
       "      <td>PT</td>\n",
       "      <td>0000000502</td>\n",
       "      <td>1-naphthylamine</td>\n",
       "      <td>0.0</td>\n",
       "      <td>N</td>\n",
       "      <td>256.0</td>\n",
       "      <td>Designated preferred name</td>\n",
       "    </tr>\n",
       "    <tr>\n",
       "      <th>2</th>\n",
       "      <td>C0000163</td>\n",
       "      <td>ENG</td>\n",
       "      <td>P</td>\n",
       "      <td>L0000163</td>\n",
       "      <td>VC</td>\n",
       "      <td>S7373749</td>\n",
       "      <td>Y</td>\n",
       "      <td>A18570932</td>\n",
       "      <td>8.0</td>\n",
       "      <td>0000000503</td>\n",
       "      <td>NaN</td>\n",
       "      <td>CHV</td>\n",
       "      <td>PT</td>\n",
       "      <td>0000000503</td>\n",
       "      <td>17-hydroxycorticosteroids</td>\n",
       "      <td>0.0</td>\n",
       "      <td>N</td>\n",
       "      <td>256.0</td>\n",
       "      <td>Designated preferred name</td>\n",
       "    </tr>\n",
       "    <tr>\n",
       "      <th>5</th>\n",
       "      <td>C0000167</td>\n",
       "      <td>ENG</td>\n",
       "      <td>P</td>\n",
       "      <td>L0000167</td>\n",
       "      <td>VC</td>\n",
       "      <td>S11842220</td>\n",
       "      <td>Y</td>\n",
       "      <td>A18552523</td>\n",
       "      <td>11.0</td>\n",
       "      <td>0000000504</td>\n",
       "      <td>NaN</td>\n",
       "      <td>CHV</td>\n",
       "      <td>SY</td>\n",
       "      <td>0000000504</td>\n",
       "      <td>17 ketosteroids</td>\n",
       "      <td>0.0</td>\n",
       "      <td>N</td>\n",
       "      <td>NaN</td>\n",
       "      <td>Designated synonym</td>\n",
       "    </tr>\n",
       "    <tr>\n",
       "      <th>10</th>\n",
       "      <td>C0000172</td>\n",
       "      <td>ENG</td>\n",
       "      <td>P</td>\n",
       "      <td>L0000172</td>\n",
       "      <td>VC</td>\n",
       "      <td>S7393074</td>\n",
       "      <td>Y</td>\n",
       "      <td>A30255958</td>\n",
       "      <td>3720829011.0</td>\n",
       "      <td>103034000</td>\n",
       "      <td>NaN</td>\n",
       "      <td>SNOMEDCT_US</td>\n",
       "      <td>PT</td>\n",
       "      <td>103034000</td>\n",
       "      <td>18-hydroxycorticosterone</td>\n",
       "      <td>9.0</td>\n",
       "      <td>N</td>\n",
       "      <td>256.0</td>\n",
       "      <td>Designated preferred name</td>\n",
       "    </tr>\n",
       "  </tbody>\n",
       "</table>\n",
       "</div>"
      ],
      "text/plain": [
       "         CUI  LAT TS       LUI STT        SUI ISPREF        AUI          SAUI        SCUI SDUI          SAB TTY        CODE                                STR  SRL SUPPRESS    CVF                  term_type\n",
       "0   C0000052  ENG  P  L0000052  VC  S0575717   Y      A27769867  97197014.0    58488005    NaN  SNOMEDCT_US  PT  58488005    1,4-alpha-Glucan branching enzyme  9.0  N        NaN    Designated preferred name\n",
       "1   C0000102  ENG  P  L0000102  VC  S11842173  Y      A18589612  3.0           0000000502  NaN  CHV          PT  0000000502  1-naphthylamine                    0.0  N        256.0  Designated preferred name\n",
       "2   C0000163  ENG  P  L0000163  VC  S7373749   Y      A18570932  8.0           0000000503  NaN  CHV          PT  0000000503  17-hydroxycorticosteroids          0.0  N        256.0  Designated preferred name\n",
       "5   C0000167  ENG  P  L0000167  VC  S11842220  Y      A18552523  11.0          0000000504  NaN  CHV          SY  0000000504  17 ketosteroids                    0.0  N        NaN    Designated synonym       \n",
       "10  C0000172  ENG  P  L0000172  VC  S7393074   Y      A30255958  3720829011.0  103034000   NaN  SNOMEDCT_US  PT  103034000   18-hydroxycorticosterone           9.0  N        256.0  Designated preferred name"
      ]
     },
     "execution_count": 31,
     "metadata": {},
     "output_type": "execute_result"
    }
   ],
   "source": [
    "# based on sample above, descriptions are similar enough to keep whichever\n",
    "df_pref_all = df_pref_all.drop_duplicates(subset = 'CUI', keep = 'first')\n",
    "print(f\"Dimensions of data are {df_pref_all.shape}\")\n",
    "assert df_pref_all.shape[0] == df_pref_all.CUI.nunique()\n",
    "df_pref_all.head()\n",
    "# # based on sample above, descriptions are similar enough to keep whichever\n",
    "# df_pref = df_pref.drop_duplicates(subset = 'CUI', keep = 'first')\n",
    "# print(f\"Dimensions of data are {df_pref.shape}\")\n",
    "# assert df_pref.shape[0] == df_pref.CUI.nunique()\n",
    "# df_pref.head()"
   ]
  },
  {
   "attachments": {},
   "cell_type": "markdown",
   "metadata": {},
   "source": [
    "**Semantic Types are an attribute in and of itself**\n",
    "\n",
    "**Restrict Types here**"
   ]
  },
  {
   "cell_type": "code",
   "execution_count": 32,
   "metadata": {},
   "outputs": [
    {
     "data": {
      "text/html": [
       "<div>\n",
       "<style scoped>\n",
       "    .dataframe tbody tr th:only-of-type {\n",
       "        vertical-align: middle;\n",
       "    }\n",
       "\n",
       "    .dataframe tbody tr th {\n",
       "        vertical-align: top;\n",
       "    }\n",
       "\n",
       "    .dataframe thead th {\n",
       "        text-align: right;\n",
       "    }\n",
       "</style>\n",
       "<table border=\"1\" class=\"dataframe\">\n",
       "  <thead>\n",
       "    <tr style=\"text-align: right;\">\n",
       "      <th></th>\n",
       "      <th>CUI</th>\n",
       "      <th>TUI</th>\n",
       "      <th>STN</th>\n",
       "      <th>STY</th>\n",
       "      <th>ATUI</th>\n",
       "      <th>CVF</th>\n",
       "    </tr>\n",
       "  </thead>\n",
       "  <tbody>\n",
       "    <tr>\n",
       "      <th>0</th>\n",
       "      <td>C0000005</td>\n",
       "      <td>T116</td>\n",
       "      <td>A1.4.1.2.1.7</td>\n",
       "      <td>Amino Acid, Peptide, or Protein</td>\n",
       "      <td>AT17648347</td>\n",
       "      <td>256</td>\n",
       "    </tr>\n",
       "    <tr>\n",
       "      <th>1</th>\n",
       "      <td>C0000005</td>\n",
       "      <td>T121</td>\n",
       "      <td>A1.4.1.1.1</td>\n",
       "      <td>Pharmacologic Substance</td>\n",
       "      <td>AT17575038</td>\n",
       "      <td>256.0</td>\n",
       "    </tr>\n",
       "    <tr>\n",
       "      <th>2</th>\n",
       "      <td>C0000039</td>\n",
       "      <td>T109</td>\n",
       "      <td>A1.4.1.2.1</td>\n",
       "      <td>Organic Chemical</td>\n",
       "      <td>AT45562015</td>\n",
       "      <td>256.0</td>\n",
       "    </tr>\n",
       "    <tr>\n",
       "      <th>3</th>\n",
       "      <td>C0000039</td>\n",
       "      <td>T121</td>\n",
       "      <td>A1.4.1.1.1</td>\n",
       "      <td>Pharmacologic Substance</td>\n",
       "      <td>AT17567371</td>\n",
       "      <td>256.0</td>\n",
       "    </tr>\n",
       "    <tr>\n",
       "      <th>4</th>\n",
       "      <td>C0000052</td>\n",
       "      <td>T116</td>\n",
       "      <td>A1.4.1.2.1.7</td>\n",
       "      <td>Amino Acid, Peptide, or Protein</td>\n",
       "      <td>AT08381079</td>\n",
       "      <td>256.0</td>\n",
       "    </tr>\n",
       "  </tbody>\n",
       "</table>\n",
       "</div>"
      ],
      "text/plain": [
       "        CUI   TUI           STN                              STY        ATUI    CVF\n",
       "0  C0000005  T116  A1.4.1.2.1.7  Amino Acid, Peptide, or Protein  AT17648347  256  \n",
       "1  C0000005  T121  A1.4.1.1.1    Pharmacologic Substance          AT17575038  256.0\n",
       "2  C0000039  T109  A1.4.1.2.1    Organic Chemical                 AT45562015  256.0\n",
       "3  C0000039  T121  A1.4.1.1.1    Pharmacologic Substance          AT17567371  256.0\n",
       "4  C0000052  T116  A1.4.1.2.1.7  Amino Acid, Peptide, or Protein  AT08381079  256.0"
      ]
     },
     "execution_count": 32,
     "metadata": {},
     "output_type": "execute_result"
    }
   ],
   "source": [
    "df_stype.head()"
   ]
  },
  {
   "cell_type": "code",
   "execution_count": 33,
   "metadata": {},
   "outputs": [
    {
     "data": {
      "text/plain": [
       "(816165, 21)"
      ]
     },
     "execution_count": 33,
     "metadata": {},
     "output_type": "execute_result"
    }
   ],
   "source": [
    "temp1 = df_pref_all.merge(df_stype[['CUI','ATUI','STY']], how = 'inner', on = 'CUI')\n",
    "temp1.shape"
   ]
  },
  {
   "cell_type": "code",
   "execution_count": 34,
   "metadata": {},
   "outputs": [
    {
     "data": {
      "text/html": [
       "<div>\n",
       "<style scoped>\n",
       "    .dataframe tbody tr th:only-of-type {\n",
       "        vertical-align: middle;\n",
       "    }\n",
       "\n",
       "    .dataframe tbody tr th {\n",
       "        vertical-align: top;\n",
       "    }\n",
       "\n",
       "    .dataframe thead th {\n",
       "        text-align: right;\n",
       "    }\n",
       "</style>\n",
       "<table border=\"1\" class=\"dataframe\">\n",
       "  <thead>\n",
       "    <tr style=\"text-align: right;\">\n",
       "      <th></th>\n",
       "      <th>CUI</th>\n",
       "      <th>STR</th>\n",
       "      <th>STY</th>\n",
       "    </tr>\n",
       "  </thead>\n",
       "  <tbody>\n",
       "    <tr>\n",
       "      <th>0</th>\n",
       "      <td>C0000052</td>\n",
       "      <td>1,4-alpha-Glucan branching enzyme</td>\n",
       "      <td>Amino Acid, Peptide, or Protein</td>\n",
       "    </tr>\n",
       "    <tr>\n",
       "      <th>1</th>\n",
       "      <td>C0000102</td>\n",
       "      <td>1-naphthylamine</td>\n",
       "      <td>Organic Chemical</td>\n",
       "    </tr>\n",
       "    <tr>\n",
       "      <th>2</th>\n",
       "      <td>C0000163</td>\n",
       "      <td>17-hydroxycorticosteroids</td>\n",
       "      <td>Organic Chemical</td>\n",
       "    </tr>\n",
       "    <tr>\n",
       "      <th>3</th>\n",
       "      <td>C0000167</td>\n",
       "      <td>17 ketosteroids</td>\n",
       "      <td>Organic Chemical</td>\n",
       "    </tr>\n",
       "    <tr>\n",
       "      <th>4</th>\n",
       "      <td>C0000172</td>\n",
       "      <td>18-hydroxycorticosterone</td>\n",
       "      <td>Organic Chemical</td>\n",
       "    </tr>\n",
       "  </tbody>\n",
       "</table>\n",
       "</div>"
      ],
      "text/plain": [
       "        CUI                                STR                              STY\n",
       "0  C0000052  1,4-alpha-Glucan branching enzyme  Amino Acid, Peptide, or Protein\n",
       "1  C0000102  1-naphthylamine                    Organic Chemical               \n",
       "2  C0000163  17-hydroxycorticosteroids          Organic Chemical               \n",
       "3  C0000167  17 ketosteroids                    Organic Chemical               \n",
       "4  C0000172  18-hydroxycorticosterone           Organic Chemical               "
      ]
     },
     "execution_count": 34,
     "metadata": {},
     "output_type": "execute_result"
    }
   ],
   "source": [
    "temp1 = temp1.sort_values('CUI')\n",
    "temp1 = temp1.drop_duplicates(subset = 'CUI', keep = 'first')\n",
    "temp1.head()[['CUI','STR','STY']]"
   ]
  },
  {
   "cell_type": "code",
   "execution_count": 35,
   "metadata": {},
   "outputs": [
    {
     "data": {
      "text/plain": [
       "(788280, 21)"
      ]
     },
     "execution_count": 35,
     "metadata": {},
     "output_type": "execute_result"
    }
   ],
   "source": [
    "temp1 = temp1.rename(columns = {\"ATUI\":\"STY_ATUI\"})\n",
    "df_pref = temp1.copy()\n",
    "df_pref = df_pref.reset_index(drop = True)\n",
    "df_pref.shape\n"
   ]
  },
  {
   "attachments": {},
   "cell_type": "markdown",
   "metadata": {},
   "source": [
    "**TODO**\n",
    "- Start getting relations using these sets of concepts as a base\n",
    "- Start with single hop relations first\n",
    "- Clarify what a 1:1, 1:m, m:n relationship looks like\n",
    "- make sure CUI1 and CUI2 are different - CONSTRAINT\n",
    "-- maybe for 1:m, we can have tails as synonyms\n",
    "- create data without any restrictions\n",
    "\n",
    "- Expand to other source vocabularies if necessary\n",
    "- Relations include hierarchical ones right?"
   ]
  },
  {
   "attachments": {},
   "cell_type": "markdown",
   "metadata": {},
   "source": [
    "Some attributes of concepts have full descriptions - may be of use later on"
   ]
  },
  {
   "cell_type": "markdown",
   "metadata": {},
   "source": [
    "### TODO:\n",
    "- summary statistics on term types, relation types, ontologies\n",
    "- search for PMID/DOI in data\n",
    "- GET API key\n",
    "- 100 examples\n",
    "- 30 for each bucket\n",
    "    - 1:1\n",
    "    - 1:m\n",
    "    - 1:m:m\n",
    "- 3 of each relation type\n",
    "- get abstract and PMID as well\n",
    "\n"
   ]
  },
  {
   "cell_type": "markdown",
   "metadata": {},
   "source": [
    "**AQ**\t-Allowed qualifier <br>\n",
    "**CHD**\t-has child relationship in a Metathesaurus source vocabulary<br>\n",
    "**DEL**\t-Deleted concept<br>\n",
    "**PAR**\t-has parent relationship in a Metathesaurus source vocabulary<br>\n",
    "**QB**\t-can be qualified by.<br>\n",
    "**RB**\t-has a broader relationship<br>\n",
    "**RL**\t-the relationship is similar or \"alike\". the two concepts are similar or \"alike\". In the current edition of the Metathesaurus, most relationships with this attribute are mappings provided by a source, named in SAB and SL; hence concepts linked by this relationship may be synonymous, i.e. self-referential: CUI1 = CUI2. In previous releases, some MeSH Supplementary Concept relationships were represented in this way.<br>\n",
    "**RN**\t-has a narrower relationship<br>\n",
    "**RO**\t-has relationship other than synonymous, narrower, or broader<br>\n",
    "**RQ**\t-related and possibly synonymous.<br>\n",
    "**RU**\t-Related, unspecified<br>\n",
    "**SY**\t-source asserted synonymy.<br>\n",
    "**XR**\t-Not related, no mapping<br>"
   ]
  },
  {
   "cell_type": "markdown",
   "metadata": {},
   "source": [
    "### PubMed search examples\n",
    "query - 'Calcidiol 1-monooxygenase associated with Vitamin D-Dependent Rickets Type 1'\n",
    "\n",
    "Abstract returned mentions Vitamin D-Dependent Rickets type 1A, but nothing on Calcidiol 1-monooxygenase. However, there is mention of CYP27B1, which is the gene that encodes this enzyme."
   ]
  },
  {
   "attachments": {},
   "cell_type": "markdown",
   "metadata": {},
   "source": [
    "## Related Concepts"
   ]
  },
  {
   "cell_type": "code",
   "execution_count": 36,
   "metadata": {},
   "outputs": [
    {
     "data": {
      "text/plain": [
       "(43842949, 17)"
      ]
     },
     "execution_count": 36,
     "metadata": {},
     "output_type": "execute_result"
    }
   ],
   "source": [
    "df_rel = pd.read_csv('../data/META/MRREL.RRF', delimiter = '|', low_memory = False)\n",
    "df_rel.shape"
   ]
  },
  {
   "cell_type": "code",
   "execution_count": 37,
   "metadata": {},
   "outputs": [],
   "source": [
    "df_rel = clean_data(df_rel)\n",
    "df_rel.columns = ['CUI1',\n",
    " 'AUI1',\n",
    " 'STYPE1',\n",
    " 'REL',\n",
    " 'CUI2',\n",
    " 'AUI2',\n",
    " 'STYPE2',\n",
    " 'RELA',\n",
    " 'RUI',\n",
    " 'SRUI',\n",
    " 'SAB',\n",
    " 'SL',\n",
    " 'RG',\n",
    " 'DIR',\n",
    " 'SUPPRESS']"
   ]
  },
  {
   "cell_type": "code",
   "execution_count": 38,
   "metadata": {},
   "outputs": [],
   "source": [
    "df_rel = df_rel.rename(columns = {'AUI1':\"dest_atom\",'AUI2':'source_atom'})"
   ]
  },
  {
   "cell_type": "code",
   "execution_count": 39,
   "metadata": {},
   "outputs": [],
   "source": [
    "df_rel = df_rel[['CUI1', 'dest_atom', 'STYPE1', 'REL', 'CUI2', 'source_atom', 'STYPE2', 'RELA', 'RUI', 'SRUI', 'SAB', 'SL', 'RG', 'DIR', 'SUPPRESS']]\n",
    "df_rel = df_rel.rename(columns = {\"CUI1\":\"dest_cui\",\"CUI2\":\"source_cui\"})"
   ]
  },
  {
   "cell_type": "code",
   "execution_count": 40,
   "metadata": {},
   "outputs": [],
   "source": [
    "# df_rel.to_csv('../data/rel_raw.csv', index = False)"
   ]
  },
  {
   "attachments": {},
   "cell_type": "markdown",
   "metadata": {},
   "source": [
    "## Get relationships of concepts contained in our concept dataframe (unique instances only)\n"
   ]
  },
  {
   "cell_type": "code",
   "execution_count": 41,
   "metadata": {},
   "outputs": [],
   "source": [
    "# description dictionary\n",
    "# use this instead of merging\n",
    "desc_dict = dict(zip(df_pref['CUI'], df_pref['STR']))\n",
    "stype_dict = dict(zip(df_pref['CUI'], df_pref['STY']))\n",
    "sab_dict = dict(zip(df_pref['CUI'], df_pref['SAB']))"
   ]
  },
  {
   "cell_type": "code",
   "execution_count": 52,
   "metadata": {},
   "outputs": [],
   "source": [
    "all_dicts = {'desc_dict':desc_dict,\n",
    "'stype_dict':stype_dict,\n",
    "'sab_dict':sab_dict}"
   ]
  },
  {
   "cell_type": "code",
   "execution_count": 53,
   "metadata": {},
   "outputs": [],
   "source": [
    "with open('../data/all_dicts.pkl', 'wb') as f:\n",
    "    pickle.dump(all_dicts,f)\n",
    "    "
   ]
  },
  {
   "cell_type": "code",
   "execution_count": 42,
   "metadata": {},
   "outputs": [],
   "source": [
    "# get relations and clean relation string\n",
    "rel_map  = df_rel[df_rel.RELA.notnull()][['source_cui','RELA','dest_cui','REL']]\n",
    "rel_map['rel'] = rel_map['RELA'].apply(lambda x: x.replace('_', ' '))\n",
    "rel_map['rel'] = rel_map['rel'].apply(lambda x: x.replace('isa', 'is a'))\n",
    "rel_map = rel_map.rename(columns = {'REL':'rel_type'})\n",
    "\n",
    "# ensure they are within concepts we have\n",
    "rel_map = rel_map.rename(columns = {'dest_cui': 'cui_2'})\n",
    "rel_map = rel_map[['source_cui','rel','cui_2','rel_type']]\n",
    "concepts = df_pref.CUI.unique()\n",
    "rel_map = rel_map[(rel_map.source_cui.isin(concepts)) & (rel_map.cui_2.isin(concepts))].reset_index(drop = True)\n",
    "\n",
    "# get text\n",
    "rel_map['source_text'] = rel_map.source_cui.apply(lambda x: desc_dict[x])\n",
    "rel_map['node2_text'] = rel_map.cui_2.apply(lambda x: desc_dict[x])\n",
    "\n",
    "# get rid of intraconcept relations\n",
    "rel_map = rel_map[rel_map.source_cui != rel_map.cui_2]\n",
    "rel_map.reset_index(drop = True, inplace = True)\n"
   ]
  },
  {
   "cell_type": "markdown",
   "metadata": {},
   "source": []
  },
  {
   "cell_type": "code",
   "execution_count": 43,
   "metadata": {},
   "outputs": [
    {
     "name": "stdout",
     "output_type": "stream",
     "text": [
      "(4517412, 7)\n",
      "(2761958, 7)\n"
     ]
    }
   ],
   "source": [
    "# create dictionary\n",
    "rel_map['value'] = rel_map.apply(lambda x: x['rel'] + '|' + x['cui_2'], axis = 1)\n",
    "print(rel_map.shape)\n",
    "rel_map = rel_map.drop_duplicates(subset = ['source_cui','value'], keep = 'first')\n",
    "rel_map['value'] = rel_map.apply(lambda x: x['value'] + '|' + x['rel_type'], axis = 1)\n",
    "print(rel_map.shape)"
   ]
  },
  {
   "cell_type": "markdown",
   "metadata": {},
   "source": [
    "### Export relation counts"
   ]
  },
  {
   "cell_type": "code",
   "execution_count": 44,
   "metadata": {},
   "outputs": [],
   "source": [
    "rel_counts = rel_map.rel.value_counts().to_frame().reset_index().rename(columns = {'index':'relation', 'rel':'count'})\n",
    "data_dir = '../data'\n",
    "if not os.path.exists(data_dir):\n",
    "    os.makedirs(data_dir)\n",
    "file_name = 'rel_counts.csv'\n",
    "rel_path = os.path.join(data_dir, file_name)\n",
    "# rel_counts.to_csv(rel_path, index = False)"
   ]
  },
  {
   "cell_type": "markdown",
   "metadata": {},
   "source": [
    "### Export semantic type counts"
   ]
  },
  {
   "cell_type": "code",
   "execution_count": 45,
   "metadata": {},
   "outputs": [],
   "source": [
    "rel_map['source_type'] = rel_map.source_cui.apply(lambda x: stype_dict[x])\n",
    "type_counts = rel_map.source_type.value_counts().to_frame().reset_index().rename(columns = {'index':'type','source_type':'count'})\n",
    "file_name = 'type_counts.csv'\n",
    "type_path = os.path.join(data_dir, file_name)\n",
    "# type_counts.to_csv(type_path, index = False)"
   ]
  },
  {
   "cell_type": "markdown",
   "metadata": {},
   "source": [
    "### Export ontology counts"
   ]
  },
  {
   "cell_type": "code",
   "execution_count": 46,
   "metadata": {},
   "outputs": [],
   "source": [
    "rel_map['source_sab'] = rel_map.source_cui.apply(lambda x: sab_dict[x])\n",
    "sab_counts = rel_map.source_sab.value_counts().to_frame().reset_index().rename(columns = {'index':'ontology','source_sab':'count'})\n",
    "file_name = 'sab_counts.csv'\n",
    "sab_path = os.path.join(data_dir, file_name)\n",
    "# sab_counts.to_csv(sab_path, index = False)"
   ]
  },
  {
   "cell_type": "markdown",
   "metadata": {},
   "source": [
    "### Rel Dict"
   ]
  },
  {
   "cell_type": "code",
   "execution_count": 47,
   "metadata": {},
   "outputs": [],
   "source": [
    "rel_dict = rel_map.groupby('source_cui').agg({'value':('unique','nunique')})\n",
    "rel_dict.columns = ['_'.join(x) for x in rel_dict.columns]\n",
    "rel_dict.reset_index(inplace = True)\n",
    "\n",
    "rel_dict2 = dict(zip(rel_dict['source_cui'], rel_dict['value_unique']))\n"
   ]
  },
  {
   "cell_type": "code",
   "execution_count": 50,
   "metadata": {},
   "outputs": [],
   "source": [
    "import pickle"
   ]
  },
  {
   "cell_type": "code",
   "execution_count": 51,
   "metadata": {},
   "outputs": [],
   "source": [
    "with open('../data/rel_dict.pkl', 'wb') as f:\n",
    "    pickle.dump(rel_dict, f)"
   ]
  },
  {
   "cell_type": "code",
   "execution_count": 48,
   "metadata": {},
   "outputs": [],
   "source": [
    "# rel_dict.to_csv('../data/rel_dict.csv', index = False)"
   ]
  },
  {
   "cell_type": "markdown",
   "metadata": {},
   "source": [
    "### 1:m split on RO vs non-RO\n"
   ]
  },
  {
   "cell_type": "code",
   "execution_count": 54,
   "metadata": {},
   "outputs": [],
   "source": [
    "df_1m = rel_map.copy()"
   ]
  },
  {
   "cell_type": "code",
   "execution_count": 55,
   "metadata": {},
   "outputs": [],
   "source": [
    "df_1m = df_1m.rename(columns = {'node2_text':'cui_2_text'})"
   ]
  },
  {
   "cell_type": "code",
   "execution_count": 56,
   "metadata": {},
   "outputs": [
    {
     "data": {
      "text/html": [
       "<div>\n",
       "<style scoped>\n",
       "    .dataframe tbody tr th:only-of-type {\n",
       "        vertical-align: middle;\n",
       "    }\n",
       "\n",
       "    .dataframe tbody tr th {\n",
       "        vertical-align: top;\n",
       "    }\n",
       "\n",
       "    .dataframe thead th {\n",
       "        text-align: right;\n",
       "    }\n",
       "</style>\n",
       "<table border=\"1\" class=\"dataframe\">\n",
       "  <thead>\n",
       "    <tr style=\"text-align: right;\">\n",
       "      <th></th>\n",
       "      <th>source_cui</th>\n",
       "      <th>value_unique</th>\n",
       "      <th>value_nunique</th>\n",
       "    </tr>\n",
       "  </thead>\n",
       "  <tbody>\n",
       "    <tr>\n",
       "      <th>0</th>\n",
       "      <td>C0000052</td>\n",
       "      <td>[is a|C0019495|CHD, is a|C0443499|CHD]</td>\n",
       "      <td>2</td>\n",
       "    </tr>\n",
       "    <tr>\n",
       "      <th>1</th>\n",
       "      <td>C0000102</td>\n",
       "      <td>[inverse is a|C0000300|PAR, inverse is a|C0301275|PAR, inverse is a|C0303972|PAR, mapped from|C0600985|RB]</td>\n",
       "      <td>4</td>\n",
       "    </tr>\n",
       "    <tr>\n",
       "      <th>2</th>\n",
       "      <td>C0000163</td>\n",
       "      <td>[inverse is a|C0010137|PAR, inverse is a|C0014594|PAR, use|C0017710|RQ, is a|C0017710|CHD, inverse is a|C0020268|PAR, inverse is a|C0039665|PAR, inverse is a|C0049390|PAR, inverse is a|C0056391|PAR, inverse is a|C0056399|PAR, inverse is a|C0063076|PAR, inverse is a|C0063077|PAR, inverse is a|C0063079|PAR, inverse is a|C0082944|PAR, inverse is a|C0352536|PAR, inverse is a|C0376260|PAR, inverse is a|C0443476|PAR, inverse is a|C0606851|PAR, inverse is a|C0612688|PAR, inverse is a|C0623842|PAR, inverse is a|C0729349|PAR, inverse is a|C0770559|PAR, inverse is a|C0770560|PAR, inverse is a|C1291745|PAR, inverse is a|C1718635|PAR, inverse is a|C1718697|PAR, inverse is a|C1955230|PAR, inverse is a|C2736892|PAR]</td>\n",
       "      <td>27</td>\n",
       "    </tr>\n",
       "    <tr>\n",
       "      <th>3</th>\n",
       "      <td>C0000167</td>\n",
       "      <td>[inverse is a|C0014942|PAR, is a|C0038317|CHD, inverse is a|C0046200|PAR, inverse is a|C0048306|PAR, inverse is a|C0059668|PAR, inverse is a|C0071108|PAR, inverse is a|C0071553|PAR, inverse is a|C0071554|PAR, inverse is a|C0077144|PAR, inverse is a|C0090532|PAR, inverse is a|C0304783|PAR, inverse is a|C0369197|PAR, inverse is a|C0522262|PAR, inverse is a|C0522267|PAR, is a|C0582125|CHD, inverse is a|C0851344|PAR]</td>\n",
       "      <td>16</td>\n",
       "    </tr>\n",
       "    <tr>\n",
       "      <th>4</th>\n",
       "      <td>C0000172</td>\n",
       "      <td>[is a|C0443588|CHD, is a|C0486267|CHD]</td>\n",
       "      <td>2</td>\n",
       "    </tr>\n",
       "  </tbody>\n",
       "</table>\n",
       "</div>"
      ],
      "text/plain": [
       "  source_cui                                                                                                                                                                                                                                                                                                                                                                                                                                                                                                                                                                                                                                                                                                                             value_unique  value_nunique\n",
       "0  C0000052   [is a|C0019495|CHD, is a|C0443499|CHD]                                                                                                                                                                                                                                                                                                                                                                                                                                                                                                                                                                                                                                                                                                   2            \n",
       "1  C0000102   [inverse is a|C0000300|PAR, inverse is a|C0301275|PAR, inverse is a|C0303972|PAR, mapped from|C0600985|RB]                                                                                                                                                                                                                                                                                                                                                                                                                                                                                                                                                                                                                               4            \n",
       "2  C0000163   [inverse is a|C0010137|PAR, inverse is a|C0014594|PAR, use|C0017710|RQ, is a|C0017710|CHD, inverse is a|C0020268|PAR, inverse is a|C0039665|PAR, inverse is a|C0049390|PAR, inverse is a|C0056391|PAR, inverse is a|C0056399|PAR, inverse is a|C0063076|PAR, inverse is a|C0063077|PAR, inverse is a|C0063079|PAR, inverse is a|C0082944|PAR, inverse is a|C0352536|PAR, inverse is a|C0376260|PAR, inverse is a|C0443476|PAR, inverse is a|C0606851|PAR, inverse is a|C0612688|PAR, inverse is a|C0623842|PAR, inverse is a|C0729349|PAR, inverse is a|C0770559|PAR, inverse is a|C0770560|PAR, inverse is a|C1291745|PAR, inverse is a|C1718635|PAR, inverse is a|C1718697|PAR, inverse is a|C1955230|PAR, inverse is a|C2736892|PAR]  27           \n",
       "3  C0000167   [inverse is a|C0014942|PAR, is a|C0038317|CHD, inverse is a|C0046200|PAR, inverse is a|C0048306|PAR, inverse is a|C0059668|PAR, inverse is a|C0071108|PAR, inverse is a|C0071553|PAR, inverse is a|C0071554|PAR, inverse is a|C0077144|PAR, inverse is a|C0090532|PAR, inverse is a|C0304783|PAR, inverse is a|C0369197|PAR, inverse is a|C0522262|PAR, inverse is a|C0522267|PAR, is a|C0582125|CHD, inverse is a|C0851344|PAR]                                                                                                                                                                                                                                                                                                         16           \n",
       "4  C0000172   [is a|C0443588|CHD, is a|C0486267|CHD]                                                                                                                                                                                                                                                                                                                                                                                                                                                                                                                                                                                                                                                                                                   2            "
      ]
     },
     "execution_count": 56,
     "metadata": {},
     "output_type": "execute_result"
    }
   ],
   "source": [
    "rel_dict.head()"
   ]
  },
  {
   "cell_type": "code",
   "execution_count": 57,
   "metadata": {},
   "outputs": [],
   "source": [
    "counts_1m = rel_dict.copy()\n",
    "# remove inverse is a relations\n",
    "# counts_1m['value_unique'] = counts_1m.value_unique.apply(lambda x: list(filter(lambda y: 'inverse' not in y,x)))\n",
    "counts_1m['value_nunique'] = counts_1m.value_unique.apply(lambda x: len(x))"
   ]
  },
  {
   "cell_type": "code",
   "execution_count": 58,
   "metadata": {},
   "outputs": [
    {
     "data": {
      "text/html": [
       "<div>\n",
       "<style scoped>\n",
       "    .dataframe tbody tr th:only-of-type {\n",
       "        vertical-align: middle;\n",
       "    }\n",
       "\n",
       "    .dataframe tbody tr th {\n",
       "        vertical-align: top;\n",
       "    }\n",
       "\n",
       "    .dataframe thead th {\n",
       "        text-align: right;\n",
       "    }\n",
       "</style>\n",
       "<table border=\"1\" class=\"dataframe\">\n",
       "  <thead>\n",
       "    <tr style=\"text-align: right;\">\n",
       "      <th></th>\n",
       "      <th>source_cui</th>\n",
       "      <th>value_unique</th>\n",
       "      <th>value_nunique</th>\n",
       "    </tr>\n",
       "  </thead>\n",
       "  <tbody>\n",
       "    <tr>\n",
       "      <th>278445</th>\n",
       "      <td>C2194739</td>\n",
       "      <td>[is a|C0561259|RN, is a|C2194727|CHD]</td>\n",
       "      <td>2</td>\n",
       "    </tr>\n",
       "    <tr>\n",
       "      <th>71729</th>\n",
       "      <td>C0458289</td>\n",
       "      <td>[is a|C1283712|CHD, inverse is a|C4514104|PAR, has entire anatomy structure|C4514104|RO]</td>\n",
       "      <td>3</td>\n",
       "    </tr>\n",
       "    <tr>\n",
       "      <th>101233</th>\n",
       "      <td>C0700476</td>\n",
       "      <td>[has therapeutic class|C0003392|RO, may treat|C0014175|RO, precise ingredient of|C0149473|RB, has tradename|C0149473|RB, component of|C0278821|RO, component of|C0278890|RO, component of|C0278891|RO, component of|C0280706|RO, component of|C0280707|RO, component of|C0280898|RO, is component of chemotherapy regimen|C0281353|RO, component of|C0281353|RO, component of|C0281616|RO, component of|C0281619|RO, component of|C0281622|RO, component of|C0281624|RO, is a|C0312439|CHD, component of|C0879354|RO, component of|C0935776|RO, component of|C1134589|RO, is a|C1518041|CHD, component of|C1541196|RO, component of|C1541198|RO, component of|C1541432|RO, component of|C1541434|RO, is component of chemotherapy regimen|C1541513|RO, component of|C1541513|RO, component of|C1541541|RO, component of|C1541572|RO, component of|C1541574|RO, component of|C1541576|RO, direct substance of|C2367410|RO, is component of chemotherapy regimen|C5204885|RO, is component of chemotherapy regimen|C5205323|RO, is component of chemotherapy regimen|C5205346|RO, is component of chemotherapy regimen|C5206972|RO]</td>\n",
       "      <td>36</td>\n",
       "    </tr>\n",
       "    <tr>\n",
       "      <th>81066</th>\n",
       "      <td>C0522759</td>\n",
       "      <td>[mapped to|C0478596|RO, mapped to|C2911153|RO]</td>\n",
       "      <td>2</td>\n",
       "    </tr>\n",
       "    <tr>\n",
       "      <th>48108</th>\n",
       "      <td>C0370695</td>\n",
       "      <td>[is a|C0370693|CHD, is a|C0396200|CHD, has method|C0567405|RO, has method|C1288294|RO, do not code with|C1609555|RO]</td>\n",
       "      <td>5</td>\n",
       "    </tr>\n",
       "  </tbody>\n",
       "</table>\n",
       "</div>"
      ],
      "text/plain": [
       "       source_cui                                                                                                                                                                                                                                                                                                                                                                                                                                                                                                                                                                                                                                                                                                                                                                                                                                                                                                                                                                                                                                                                                                                       value_unique  value_nunique\n",
       "278445  C2194739   [is a|C0561259|RN, is a|C2194727|CHD]                                                                                                                                                                                                                                                                                                                                                                                                                                                                                                                                                                                                                                                                                                                                                                                                                                                                                                                                                                                                                                                                                              2            \n",
       "71729   C0458289   [is a|C1283712|CHD, inverse is a|C4514104|PAR, has entire anatomy structure|C4514104|RO]                                                                                                                                                                                                                                                                                                                                                                                                                                                                                                                                                                                                                                                                                                                                                                                                                                                                                                                                                                                                                                           3            \n",
       "101233  C0700476   [has therapeutic class|C0003392|RO, may treat|C0014175|RO, precise ingredient of|C0149473|RB, has tradename|C0149473|RB, component of|C0278821|RO, component of|C0278890|RO, component of|C0278891|RO, component of|C0280706|RO, component of|C0280707|RO, component of|C0280898|RO, is component of chemotherapy regimen|C0281353|RO, component of|C0281353|RO, component of|C0281616|RO, component of|C0281619|RO, component of|C0281622|RO, component of|C0281624|RO, is a|C0312439|CHD, component of|C0879354|RO, component of|C0935776|RO, component of|C1134589|RO, is a|C1518041|CHD, component of|C1541196|RO, component of|C1541198|RO, component of|C1541432|RO, component of|C1541434|RO, is component of chemotherapy regimen|C1541513|RO, component of|C1541513|RO, component of|C1541541|RO, component of|C1541572|RO, component of|C1541574|RO, component of|C1541576|RO, direct substance of|C2367410|RO, is component of chemotherapy regimen|C5204885|RO, is component of chemotherapy regimen|C5205323|RO, is component of chemotherapy regimen|C5205346|RO, is component of chemotherapy regimen|C5206972|RO]  36           \n",
       "81066   C0522759   [mapped to|C0478596|RO, mapped to|C2911153|RO]                                                                                                                                                                                                                                                                                                                                                                                                                                                                                                                                                                                                                                                                                                                                                                                                                                                                                                                                                                                                                                                                                     2            \n",
       "48108   C0370695   [is a|C0370693|CHD, is a|C0396200|CHD, has method|C0567405|RO, has method|C1288294|RO, do not code with|C1609555|RO]                                                                                                                                                                                                                                                                                                                                                                                                                                                                                                                                                                                                                                                                                                                                                                                                                                                                                                                                                                                                               5            "
      ]
     },
     "execution_count": 58,
     "metadata": {},
     "output_type": "execute_result"
    }
   ],
   "source": [
    "counts_1m = counts_1m[counts_1m.value_nunique > 1].reset_index(drop = True)\n",
    "counts_1m.sample(5)"
   ]
  },
  {
   "cell_type": "code",
   "execution_count": 59,
   "metadata": {},
   "outputs": [],
   "source": [
    "# counts_1m = counts_1m.explode('value_unique')\n",
    "counts_1m['source_type'] = counts_1m.source_cui.apply(lambda x: stype_dict[x])\n",
    "counts_1m = counts_1m.explode('value_unique')\n",
    "counts_1m['rel'] = counts_1m.value_unique.apply(lambda x: x.split('|')[0])\n",
    "counts_1m['cui_2'] = counts_1m.value_unique.apply(lambda x: x.split('|')[1])\n",
    "counts_1m['rel_type'] = counts_1m.value_unique.apply(lambda x: x.split('|')[2])\n",
    "counts_1m['source_text'] = counts_1m.source_cui.apply(lambda x: desc_dict[x])\n",
    "counts_1m['cui_2_text'] = counts_1m.cui_2.apply(lambda x: desc_dict[x])\n",
    "counts_1m['text'] = counts_1m.apply(lambda x: ' '.join([x['source_text'],\n",
    "                                                        x['rel'],\n",
    "                                                        x['cui_2_text']]),\n",
    "                                                        axis = 1)\n"
   ]
  },
  {
   "cell_type": "markdown",
   "metadata": {},
   "source": [
    "We need to get an even distribution of semantic types in our texts. We will sample 5000 from each semantic type, and if there are under 5000 counts for a type, we take all"
   ]
  },
  {
   "cell_type": "markdown",
   "metadata": {},
   "source": [
    "### RO only"
   ]
  },
  {
   "cell_type": "code",
   "execution_count": 61,
   "metadata": {},
   "outputs": [],
   "source": [
    "counts_1m = counts_1m[counts_1m.rel_type == 'RO'].reset_index(drop = True)"
   ]
  },
  {
   "cell_type": "code",
   "execution_count": 62,
   "metadata": {},
   "outputs": [],
   "source": [
    "with open('../data/counts_1m.pkl', 'wb') as f:\n",
    "    pickle.dump(counts_1m, f)"
   ]
  },
  {
   "cell_type": "code",
   "execution_count": null,
   "metadata": {},
   "outputs": [],
   "source": []
  },
  {
   "cell_type": "code",
   "execution_count": null,
   "metadata": {},
   "outputs": [],
   "source": [
    "%load_ext autoreload\n",
    "%autoreload 2\n",
    "from utils import PubmedQuery"
   ]
  },
  {
   "cell_type": "markdown",
   "metadata": {},
   "source": [
    "Here we sample for **SEMANTIC TYPES**\n",
    "\n",
    "Sampling will drop duplicate entries of a source concept, just for variety in our initial sampling"
   ]
  },
  {
   "cell_type": "code",
   "execution_count": null,
   "metadata": {},
   "outputs": [],
   "source": [
    "# sample_cui = counts_1m[counts_1m.rel_type == 'RO'].drop_duplicates('source_cui', keep = 'first')\n",
    "sample_cui = counts_1m[counts_1m.rel_type == 'RO'].drop_duplicates('source_cui', keep = 'first')\n",
    "sample_types = sample_cui.source_type.value_counts()\n",
    "\n",
    "\n",
    "cui_list = []\n",
    "for type in sample_types.index:\n",
    "    if sample_types[type] > 5000:\n",
    "        type_cuis = sample_cui[sample_cui.source_type == type].sample(5000)['source_cui'].tolist()\n",
    "        cui_list += type_cuis\n",
    "    else:\n",
    "        type_cuis = sample_cui[sample_cui.source_type == type]['source_cui'].tolist()\n",
    "        cui_list += type_cuis\n",
    "final_1m =sample_cui[sample_cui.source_cui.isin(cui_list)].reset_index(drop = True)"
   ]
  },
  {
   "cell_type": "markdown",
   "metadata": {},
   "source": [
    "Here we get the relation counts to eventually sample for relation types"
   ]
  }
 ],
 "metadata": {
  "kernelspec": {
   "display_name": "torch_env",
   "language": "python",
   "name": "python3"
  },
  "language_info": {
   "codemirror_mode": {
    "name": "ipython",
    "version": 3
   },
   "file_extension": ".py",
   "mimetype": "text/x-python",
   "name": "python",
   "nbconvert_exporter": "python",
   "pygments_lexer": "ipython3",
   "version": "3.9.16"
  },
  "orig_nbformat": 4
 },
 "nbformat": 4,
 "nbformat_minor": 2
}
