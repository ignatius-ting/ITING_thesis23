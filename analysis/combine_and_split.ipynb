{
 "cells": [
  {
   "cell_type": "code",
   "execution_count": 1,
   "metadata": {},
   "outputs": [
    {
     "name": "stderr",
     "output_type": "stream",
     "text": [
      "C:\\Users\\Ignatius Ting\\AppData\\Local\\Temp\\ipykernel_23968\\1375793260.py:7: FutureWarning: Passing a negative integer is deprecated in version 1.0 and will not be supported in future version. Instead, use None to not limit the column width.\n",
      "  pd.set_option('max_colwidth', -1)\n"
     ]
    }
   ],
   "source": [
    "\n",
    "%load_ext autoreload\n",
    "%autoreload 2\n",
    "import pandas as pd\n",
    "pd.set_option('display.max_columns', None)\n",
    "pd.set_option('display.max_rows', None)\n",
    "pd.set_option('display.expand_frame_repr', False)\n",
    "pd.set_option('max_colwidth', -1)\n",
    "\n",
    "\n",
    "\n",
    "import numpy as np\n",
    "import pickle\n",
    "\n",
    "import os\n",
    "import sys\n",
    "\n",
    "module_path = os.path.abspath(os.path.join('../src'))\n",
    "if module_path not in sys.path:\n",
    "    sys.path.append(module_path)\n",
    "    \n",
    "from tqdm import tqdm\n",
    "from utils import *"
   ]
  },
  {
   "cell_type": "code",
   "execution_count": 2,
   "metadata": {},
   "outputs": [],
   "source": [
    "def combine_data(folder_path):   \n",
    "    # Get a list of all CSV files in the folder\n",
    "    csv_files = [f for f in os.listdir(folder_path) if f.endswith('.csv')]\n",
    "\n",
    "    # Initialize an empty list to store dataframes\n",
    "    dfs = []\n",
    "\n",
    "    # Loop through each CSV file and read it into a dataframe\n",
    "    for csv_file in csv_files:\n",
    "        csv_path = os.path.join(folder_path, csv_file)\n",
    "        df = pd.read_csv(csv_path)\n",
    "        dfs.append(df)\n",
    "\n",
    "    # Concatenate all dataframes into a single dataframe\n",
    "    df_combined = pd.concat(dfs, ignore_index=True)\n",
    "    return df_combined\n",
    "\n",
    "\n",
    "# path_1mm = '../data/processed/1mm_match/'\n",
    "# df_1mm = combine_data(path_1mm)\n",
    "\n",
    "# path_1mm_trim = '../data/processed/1mm_trim_match/'\n",
    "# df_1mm_trim = combine_data(path_1mm_trim)\n",
    "\n",
    "# path_1m = '../data/processed/1m_match/'\n",
    "# df_1m = combine_data(path_1m)"
   ]
  },
  {
   "cell_type": "markdown",
   "metadata": {},
   "source": [
    "### process single hop data\n"
   ]
  },
  {
   "cell_type": "code",
   "execution_count": 3,
   "metadata": {},
   "outputs": [],
   "source": [
    "df = combine_data('../data/processed/1m_match/')"
   ]
  },
  {
   "cell_type": "code",
   "execution_count": 4,
   "metadata": {},
   "outputs": [],
   "source": [
    "from langdetect import detect\n",
    "def detect_language(text):\n",
    "    texts = text.split('\\n')\n",
    "    try:\n",
    "        detected_languages = []\n",
    "        for x in texts:\n",
    "            lang = detect(x)\n",
    "            detected_languages.append(lang)\n",
    "\n",
    "        return list(set(detected_languages))\n",
    "\n",
    "    except:\n",
    "        return 'unknown'  # Return \"Unknown\" if language detection failsection fails\n"
   ]
  },
  {
   "cell_type": "code",
   "execution_count": 5,
   "metadata": {},
   "outputs": [
    {
     "name": "stdout",
     "output_type": "stream",
     "text": [
      "(94939, 6)\n",
      "(94938, 6)\n",
      "(33891, 6)\n",
      "(32316, 8)\n"
     ]
    }
   ],
   "source": [
    "print(df.shape)\n",
    "df = df.drop_duplicates('query', keep = 'first')\n",
    "print(df.shape)\n",
    "df = df.drop_duplicates('url', keep = 'first')\n",
    "print(df.shape)\n",
    "# Apply the detect_language function to the 'TextColumn'\n",
    "df['langs'] = df.result.apply(lambda x: detect_language(x))\n",
    "df['temp'] = df['langs'].apply(len)\n",
    "df = df[df.temp == 1]\n",
    "df['langs'] = df.langs.apply(lambda x: x[0])\n",
    "df = df[df.langs == 'en']\n",
    "print(df.shape)\n",
    "\n",
    "k = 2500\n",
    "p = 1000\n",
    "df['result_len'] = df.result.apply(len)\n",
    "df = df[(df.result_len < k) & (df.result_len > p)].reset_index(drop = True)"
   ]
  },
  {
   "cell_type": "code",
   "execution_count": 6,
   "metadata": {},
   "outputs": [],
   "source": [
    "import pickle\n",
    "with open('../data/all_dicts.pkl', 'rb') as f:\n",
    "    all_dicts = pickle.load(f)\n",
    "desc_dict = all_dicts['desc_dict']\n"
   ]
  },
  {
   "cell_type": "code",
   "execution_count": 7,
   "metadata": {},
   "outputs": [],
   "source": [
    "df['source_text'] = df['source_cui'].apply(lambda x: desc_dict[x])\n",
    "df['cui_2_text'] = df['cui_2'].apply(lambda x: desc_dict[x])\n"
   ]
  },
  {
   "cell_type": "code",
   "execution_count": 8,
   "metadata": {},
   "outputs": [],
   "source": [
    "df.to_csv('../data/final/1hop.csv', index = False)"
   ]
  },
  {
   "cell_type": "markdown",
   "metadata": {},
   "source": [
    "### process 2hop data"
   ]
  },
  {
   "cell_type": "code",
   "execution_count": 9,
   "metadata": {},
   "outputs": [],
   "source": [
    "df2 = combine_data('../data/processed/1mm_final_match/')"
   ]
  },
  {
   "cell_type": "code",
   "execution_count": 10,
   "metadata": {},
   "outputs": [
    {
     "name": "stdout",
     "output_type": "stream",
     "text": [
      "(98470, 8)\n",
      "(97003, 8)\n",
      "(37626, 8)\n"
     ]
    }
   ],
   "source": [
    "print(df2.shape)\n",
    "df2 = df2.drop_duplicates('query', keep = 'first')\n",
    "print(df2.shape)\n",
    "df2 = df2.drop_duplicates('url', keep = 'first')\n",
    "print(df2.shape)"
   ]
  },
  {
   "cell_type": "code",
   "execution_count": 11,
   "metadata": {},
   "outputs": [
    {
     "name": "stdout",
     "output_type": "stream",
     "text": [
      "(35929, 10)\n",
      "(28553, 11)\n"
     ]
    }
   ],
   "source": [
    "\n",
    "# Apply the detect_language function to the 'TextColumn'\n",
    "df2['langs'] = df2.result.apply(lambda x: detect_language(x))\n",
    "df2['temp'] = df2['langs'].apply(len)\n",
    "df2 = df2[df2.temp == 1]\n",
    "df2['langs'] = df2.langs.apply(lambda x: x[0])\n",
    "df2 = df2[df2.langs == 'en']\n",
    "print(df2.shape)\n",
    "df2['result_len'] = df2.result.apply(len)\n",
    "df2 = df2[(df2.result_len < k) & (df2.result_len > p)].reset_index(drop = True)\n",
    "print(df2.shape)"
   ]
  },
  {
   "cell_type": "code",
   "execution_count": 12,
   "metadata": {},
   "outputs": [],
   "source": [
    "df2['source_text'] = df2['source_cui'].apply(lambda x: desc_dict[x])\n",
    "df2['cui_2_text'] = df2['cui_2'].apply(lambda x: desc_dict[x])\n",
    "df2['cui_3_text'] = df2['cui_3'].apply(lambda x: desc_dict[x])"
   ]
  },
  {
   "cell_type": "code",
   "execution_count": 13,
   "metadata": {},
   "outputs": [],
   "source": [
    "df2['c1'] = df2.apply(lambda x: x['source_text'].lower() in x['result'].lower() , axis=1)\n",
    "df2['c2'] = df2.apply(lambda x: x['cui_2_text'].lower()  in x['result'].lower() , axis=1)\n",
    "df2['c3'] = df2.apply(lambda x: x['cui_3_text'].lower()  in x['result'].lower() , axis=1)\n",
    "df2['c1_c2'] = df2.apply(lambda x: x['source_text'].lower()  in x['result'].lower()  and x['cui_2_text'].lower()  in x['result'].lower() , axis=1)\n",
    "df2['c2_c3'] = df2.apply(lambda x: x['cui_2_text'].lower()  in x['result'].lower()  and x['cui_3_text'].lower()  in x['result'].lower() , axis=1)\n",
    "df2['c1_c2_c3'] = df2.apply(lambda x: x['source_text'].lower()  in x['result'].lower()  \\\n",
    "                          and x['cui_2_text'].lower()  in x['result'].lower()  and x['cui_3_text'].lower()  in x['result'].lower() , axis=1)\n"
   ]
  },
  {
   "cell_type": "code",
   "execution_count": 14,
   "metadata": {},
   "outputs": [
    {
     "data": {
      "text/plain": [
       "False    25352\n",
       "True     3201 \n",
       "Name: c1, dtype: int64"
      ]
     },
     "execution_count": 14,
     "metadata": {},
     "output_type": "execute_result"
    }
   ],
   "source": [
    "df2.c1.value_counts()"
   ]
  },
  {
   "cell_type": "code",
   "execution_count": 15,
   "metadata": {},
   "outputs": [
    {
     "data": {
      "text/plain": [
       "False    24249\n",
       "True     4304 \n",
       "Name: c2, dtype: int64"
      ]
     },
     "execution_count": 15,
     "metadata": {},
     "output_type": "execute_result"
    }
   ],
   "source": [
    "df2.c2.value_counts()"
   ]
  },
  {
   "cell_type": "code",
   "execution_count": 16,
   "metadata": {},
   "outputs": [
    {
     "data": {
      "text/plain": [
       "False    25350\n",
       "True     3203 \n",
       "Name: c3, dtype: int64"
      ]
     },
     "execution_count": 16,
     "metadata": {},
     "output_type": "execute_result"
    }
   ],
   "source": [
    "df2.c3.value_counts()"
   ]
  },
  {
   "cell_type": "code",
   "execution_count": 17,
   "metadata": {},
   "outputs": [
    {
     "data": {
      "text/plain": [
       "False    27786\n",
       "True     767  \n",
       "Name: c1_c2, dtype: int64"
      ]
     },
     "execution_count": 17,
     "metadata": {},
     "output_type": "execute_result"
    }
   ],
   "source": [
    "df2.c1_c2.value_counts()"
   ]
  },
  {
   "cell_type": "code",
   "execution_count": 18,
   "metadata": {},
   "outputs": [
    {
     "data": {
      "text/plain": [
       "False    28339\n",
       "True     214  \n",
       "Name: c1_c2_c3, dtype: int64"
      ]
     },
     "execution_count": 18,
     "metadata": {},
     "output_type": "execute_result"
    }
   ],
   "source": [
    "df2.c1_c2_c3.value_counts()"
   ]
  },
  {
   "cell_type": "code",
   "execution_count": 19,
   "metadata": {},
   "outputs": [
    {
     "data": {
      "text/html": [
       "<div>\n",
       "<style scoped>\n",
       "    .dataframe tbody tr th:only-of-type {\n",
       "        vertical-align: middle;\n",
       "    }\n",
       "\n",
       "    .dataframe tbody tr th {\n",
       "        vertical-align: top;\n",
       "    }\n",
       "\n",
       "    .dataframe thead th {\n",
       "        text-align: right;\n",
       "    }\n",
       "</style>\n",
       "<table border=\"1\" class=\"dataframe\">\n",
       "  <thead>\n",
       "    <tr style=\"text-align: right;\">\n",
       "      <th></th>\n",
       "      <th>query</th>\n",
       "      <th>result</th>\n",
       "    </tr>\n",
       "  </thead>\n",
       "  <tbody>\n",
       "    <tr>\n",
       "      <th>1637</th>\n",
       "      <td>Autosomal recessive hereditary spastic paraplegia has finding site Spinal cord finding site of Hereditary spastic paraplegia</td>\n",
       "      <td>The detailed neuropathological features of patients with autosomal recessive hereditary spastic paraplegia with a thin corpus callosum (TCC) and SPG11 mutations are poorly understood, as only a few autopsies have been reported. Herein, we describe the clinicopathological findings of a patient with this disease who received long-term care at our medical facility.\\nA Japanese man exhibited a mild developmental delay in early childhood and intellectual disability, followed by the appearance of a spastic gait by age 13. At the age of 25 years, he became bedridden and needed a ventilator. Genetic analysis revealed a homozygous splice site variant in the SPG11 gene (c. 4162-2A &gt; G) after the provision of genetic counselling and acquisition of informed consent from his parents. He died of pneumonia at the age of 44. His brain weighed 967 g and was characterized by a TCC, and his spinal cord was flattened. Microscopically, degeneration was observed in the posterior spinocerebellar tract, the gracile fasciculus, and the posterior column in addition to the corticospinal tract. Marked neuronal loss and gliosis were observed in the anterior horn, Clarke's column, and hypoglossal and facial nuclei. Various types of neurons, in addition to motor neurons, showed coarse eosinophilic granules that were immunoreactive for p62. The loss of pigmented neurons with gliosis was apparent in both the substantia nigra and locus coeruleus. Lateral geniculate body degeneration was a characteristic feature of this patient. Furthermore, peripheral Lewy body-related α-synucleinopathy and scattered α-synuclein-immunoreactive neurites in the locus coeruleus and reticular formation of the brainstem were observed.\\nIn patients with hereditary spastic paraplegia with SPG11 mutations, a variety of clinical phenotypes develop due to widespread lesions containing p62-immunoreactive neuronal cytoplasmic inclusions. We herein report the lateral geniculate body as another degenerative site related to SPG11-related pathologies that should be studied in future investigations.</td>\n",
       "    </tr>\n",
       "  </tbody>\n",
       "</table>\n",
       "</div>"
      ],
      "text/plain": [
       "                                                                                                                             query                                                                                                                                                                                                                                                                                                                                                                                                                                                                                                                                                                                                                                                                                                                                                                                                                                                                                                                                                                                                                                                                                                                                                                                                                                                                                                                                                                                                                                                                                                                                                                                                                                                                                                                                                                                                                                                                                                                                                                                                                                                                                                                                                result\n",
       "1637  Autosomal recessive hereditary spastic paraplegia has finding site Spinal cord finding site of Hereditary spastic paraplegia  The detailed neuropathological features of patients with autosomal recessive hereditary spastic paraplegia with a thin corpus callosum (TCC) and SPG11 mutations are poorly understood, as only a few autopsies have been reported. Herein, we describe the clinicopathological findings of a patient with this disease who received long-term care at our medical facility.\\nA Japanese man exhibited a mild developmental delay in early childhood and intellectual disability, followed by the appearance of a spastic gait by age 13. At the age of 25 years, he became bedridden and needed a ventilator. Genetic analysis revealed a homozygous splice site variant in the SPG11 gene (c. 4162-2A > G) after the provision of genetic counselling and acquisition of informed consent from his parents. He died of pneumonia at the age of 44. His brain weighed 967 g and was characterized by a TCC, and his spinal cord was flattened. Microscopically, degeneration was observed in the posterior spinocerebellar tract, the gracile fasciculus, and the posterior column in addition to the corticospinal tract. Marked neuronal loss and gliosis were observed in the anterior horn, Clarke's column, and hypoglossal and facial nuclei. Various types of neurons, in addition to motor neurons, showed coarse eosinophilic granules that were immunoreactive for p62. The loss of pigmented neurons with gliosis was apparent in both the substantia nigra and locus coeruleus. Lateral geniculate body degeneration was a characteristic feature of this patient. Furthermore, peripheral Lewy body-related α-synucleinopathy and scattered α-synuclein-immunoreactive neurites in the locus coeruleus and reticular formation of the brainstem were observed.\\nIn patients with hereditary spastic paraplegia with SPG11 mutations, a variety of clinical phenotypes develop due to widespread lesions containing p62-immunoreactive neuronal cytoplasmic inclusions. We herein report the lateral geniculate body as another degenerative site related to SPG11-related pathologies that should be studied in future investigations."
      ]
     },
     "execution_count": 19,
     "metadata": {},
     "output_type": "execute_result"
    }
   ],
   "source": [
    "df2[df2.c1_c2_c3 == True][['query','result']].sample(1)"
   ]
  },
  {
   "cell_type": "code",
   "execution_count": 20,
   "metadata": {},
   "outputs": [],
   "source": [
    "df2 = df2.drop(['langs',\n",
    "'temp',\n",
    "'result_len',\n",
    "'c1', 'c2', 'c3', 'c1_c2', 'c2_c3',\n",
    "'c1_c2_c3'], axis = 1)"
   ]
  },
  {
   "cell_type": "code",
   "execution_count": 21,
   "metadata": {},
   "outputs": [],
   "source": [
    "df2.to_csv('../data/final/2hop.csv', index = False)"
   ]
  },
  {
   "cell_type": "markdown",
   "metadata": {},
   "source": [
    "### Preprocess 3hop"
   ]
  },
  {
   "cell_type": "code",
   "execution_count": 22,
   "metadata": {},
   "outputs": [],
   "source": [
    "df_3 = combine_data('../data/processed/3hop_match/')"
   ]
  },
  {
   "cell_type": "code",
   "execution_count": 23,
   "metadata": {},
   "outputs": [
    {
     "data": {
      "text/html": [
       "<div>\n",
       "<style scoped>\n",
       "    .dataframe tbody tr th:only-of-type {\n",
       "        vertical-align: middle;\n",
       "    }\n",
       "\n",
       "    .dataframe tbody tr th {\n",
       "        vertical-align: top;\n",
       "    }\n",
       "\n",
       "    .dataframe thead th {\n",
       "        text-align: right;\n",
       "    }\n",
       "</style>\n",
       "<table border=\"1\" class=\"dataframe\">\n",
       "  <thead>\n",
       "    <tr style=\"text-align: right;\">\n",
       "      <th></th>\n",
       "      <th>relation</th>\n",
       "      <th>relation_2</th>\n",
       "      <th>relation_3</th>\n",
       "      <th>query</th>\n",
       "    </tr>\n",
       "  </thead>\n",
       "  <tbody>\n",
       "    <tr>\n",
       "      <th>2990</th>\n",
       "      <td>has finding site</td>\n",
       "      <td>is not primary anatomic site of disease</td>\n",
       "      <td>may be treated by</td>\n",
       "      <td>Narrowing of bone has finding site Bone, skeletal is not primary anatomic site of disease Infarction;myocardial may be treated by Vorapaxar</td>\n",
       "    </tr>\n",
       "  </tbody>\n",
       "</table>\n",
       "</div>"
      ],
      "text/plain": [
       "              relation                               relation_2         relation_3                                                                                                                                        query\n",
       "2990  has finding site  is not primary anatomic site of disease  may be treated by  Narrowing of bone has finding site Bone, skeletal is not primary anatomic site of disease Infarction;myocardial may be treated by Vorapaxar"
      ]
     },
     "execution_count": 23,
     "metadata": {},
     "output_type": "execute_result"
    }
   ],
   "source": [
    "df_3.sample(1)[['relation','relation_2','relation_3','query']]"
   ]
  },
  {
   "cell_type": "code",
   "execution_count": 24,
   "metadata": {},
   "outputs": [
    {
     "name": "stdout",
     "output_type": "stream",
     "text": [
      "(9800, 10)\n",
      "(9799, 10)\n",
      "(3020, 10)\n",
      "(2887, 12)\n"
     ]
    }
   ],
   "source": [
    "print(df_3.shape)\n",
    "df_3 = df_3.drop_duplicates('query', keep = 'first')\n",
    "print(df_3.shape)\n",
    "df_3 = df_3.drop_duplicates('url', keep = 'first')\n",
    "print(df_3.shape)\n",
    "# Apply the detect_language function to the 'TextColumn'\n",
    "df_3['langs'] = df_3.result.apply(lambda x: detect_language(x))\n",
    "df_3['temp'] = df_3['langs'].apply(len)\n",
    "df_3 = df_3[df_3.temp == 1]\n",
    "df_3['langs'] = df_3.langs.apply(lambda x: x[0])\n",
    "df_3 = df_3[df_3.langs == 'en']\n",
    "print(df_3.shape)\n",
    "\n",
    "k = 2500\n",
    "p = 1000\n",
    "df_3['result_len'] = df_3.result.apply(len)\n",
    "df_3 = df_3[(df_3.result_len < k) & (df_3.result_len > p)].reset_index(drop = True)"
   ]
  },
  {
   "cell_type": "code",
   "execution_count": 25,
   "metadata": {},
   "outputs": [],
   "source": [
    "df_3['source_text'] = df_3['source_cui'].apply(lambda x: desc_dict[x])\n",
    "df_3['cui_2_text'] = df_3['cui_2'].apply(lambda x: desc_dict[x])\n",
    "df_3['cui_3_text'] = df_3['cui_3'].apply(lambda x: desc_dict[x])\n",
    "df_3['cui_4_text'] = df_3['cui_4'].apply(lambda x: desc_dict[x])"
   ]
  },
  {
   "cell_type": "code",
   "execution_count": 26,
   "metadata": {},
   "outputs": [
    {
     "name": "stdout",
     "output_type": "stream",
     "text": [
      "(2224, 17)\n",
      "(2222, 17)\n",
      "(2222, 17)\n"
     ]
    }
   ],
   "source": [
    "print(df_3.shape)\n",
    "df_3['langs'] = df_3.result.apply(lambda x: detect_language(x))\n",
    "df_3['temp'] = df_3['langs'].apply(len)\n",
    "df_3 = df_3[df_3.temp == 1]\n",
    "df_3['langs'] = df_3.langs.apply(lambda x: x[0])\n",
    "df_3 = df_3[df_3.langs == 'en']\n",
    "print(df_3.shape)\n",
    "df_3['result_len'] = df_3.result.apply(len)\n",
    "df_3 = df_3[(df_3.result_len < k) & (df_3.result_len > p)].reset_index(drop = True)\n",
    "print(df_3.shape)"
   ]
  },
  {
   "cell_type": "code",
   "execution_count": 27,
   "metadata": {},
   "outputs": [],
   "source": [
    "df_3['c1_c2_c3_c4'] = df_3.apply(lambda x: x['source_text'].lower()  in x['result'].lower()  \\\n",
    "                          and x['cui_2_text'].lower()  in x['result'].lower() \\\n",
    "                            and x['cui_3_text'].lower()  in x['result'].lower()\\\n",
    "                                 and x['cui_4_text'].lower() in x['result'].lower() , axis=1)"
   ]
  },
  {
   "cell_type": "code",
   "execution_count": 28,
   "metadata": {},
   "outputs": [
    {
     "data": {
      "text/plain": [
       "False    2219\n",
       "True     3   \n",
       "Name: c1_c2_c3_c4, dtype: int64"
      ]
     },
     "execution_count": 28,
     "metadata": {},
     "output_type": "execute_result"
    }
   ],
   "source": [
    "df_3.c1_c2_c3_c4.value_counts()"
   ]
  },
  {
   "cell_type": "code",
   "execution_count": 29,
   "metadata": {},
   "outputs": [
    {
     "data": {
      "text/html": [
       "<div>\n",
       "<style scoped>\n",
       "    .dataframe tbody tr th:only-of-type {\n",
       "        vertical-align: middle;\n",
       "    }\n",
       "\n",
       "    .dataframe tbody tr th {\n",
       "        vertical-align: top;\n",
       "    }\n",
       "\n",
       "    .dataframe thead th {\n",
       "        text-align: right;\n",
       "    }\n",
       "</style>\n",
       "<table border=\"1\" class=\"dataframe\">\n",
       "  <thead>\n",
       "    <tr style=\"text-align: right;\">\n",
       "      <th></th>\n",
       "      <th>query</th>\n",
       "      <th>result</th>\n",
       "    </tr>\n",
       "  </thead>\n",
       "  <tbody>\n",
       "    <tr>\n",
       "      <th>108</th>\n",
       "      <td>Potassium iodide may treat sporotrichosis may be treated by amphotericin b may treat histoplasmosis</td>\n",
       "      <td>Successful chemotherapy of the systemic mycoses now covers a span of more than 75 years and dates to the first reported use of potassium iodide for treatment of sporotrichosis. The second drug with efficacy was stilbamidine, and its currently available successor, hydroxystilbamidine isethionate, still has a role in therapy of some patients with nonprogressive blastomycosis of the skin. The introduction in 1957 of amphotericin B marked the first time there was an effective agent for such diseases as cryptococcosis, histoplasmosis, candidosis, and with lesser success, for coccidioidomycosis, mucormycosis, and aspergillosis. However, amphotericin B is nephrotoxic, depresses bone marrow (especially erythropoeisis), and, if patients are not monitored and controlled closely, the drug produces hypokalemic muscle weakness and cardiotoxicity. Flucytosine has a narrower spectrum of activity (cryptococcosis, candidosis, cladosporiosis, and chromomycosis) but a preferable route of administration (oral). Newer agents presently available are miconazole and clotrimazole; the latter is for topical use only.</td>\n",
       "    </tr>\n",
       "    <tr>\n",
       "      <th>319</th>\n",
       "      <td>Antiviral agents therapeutic class of Velpatasvir may treat hepatitis C may be treated by Paritaprevir</td>\n",
       "      <td>The intestinal microbiota plays a fundamental role in physiological homeostasis as well as in pathologic conditions. Hepatitis C virus is the leading cause of chronic liver diseases worldwide. The treatment of this infection has been revolutionized by the availability of direct-acting antiviral agents which guarantee a high rate (about 95%) of viral clearance. Few studies have assessed the change in the gut microbiota of patients treated with direct-acting antiviral agents against HCV, and many aspects still need to be clarified. The aim of the study was to evaluate the effects of antiviral therapy on gut microbiota. We enrolled patients with HCV-related chronic liver disease attending the Infectious Diseases Unit of the A.O.U. Federico II of Naples from January 2017 to March 2018 and treated with DAAs. For each patient, a fecal sample was collected and analyzed for the assessment of microbial diversity before the start of therapy and by SVR12 time. We excluded patients who had received antibiotics in the previous 6 months. Twelve patients were enrolled (6 male, 8 genotype 1 (1 subtype 1a), 4 genotype 2). Fibrosis scores were F0 in 1 patient, F2 in 1 patient, F3 in 4 patients and cirrhosis in the remaining 6 (all in Child-Pugh class A). All were treated with DAAs for 12 weeks (5 with Paritaprevir-Ombitasvir-Ritonavir-Dasabuvir, 3 with Sofosbuvir-Ledipasvir, 1 with Sofosbuvir-Ribavirin, 1 with Sofosbuvir-Daclatasvir, 1 with Sofosbuvir-Velpatasvir) and 100% achieved SVR12. In all patients, we observed a trend in reduction of potentially pathogenic microorganisms (i.e., Enterobacteriaceae). Furthermore, a trend of increase in α-diversity was observed in patients by SVR12 compared to baseline. This trend was markedly more evident in patients without liver cirrhosis than in those with cirrhosis. Our study shows that viral eradication obtained with DAA is associated with a trend in restoring the heterogeneity of α-diversity and in reducing the percentage of potentially pathogenic microbial species, although this benefit is less evident in patients with cirrhosis. Further studies with larger sample size are needed to confirm these data.</td>\n",
       "    </tr>\n",
       "    <tr>\n",
       "      <th>806</th>\n",
       "      <td>aspergillosis may be treated by amphotericin b may prevent Mycosis may be prevented by Isavuconazole</td>\n",
       "      <td>Invasive fungal diseases (IFD) are a major global public health concern. The incidence of IFD has increased the demand for antifungal agents. Isavuconazole (ISA) is a new triazole antifungal agent that has shown promising efficacy in the prophylaxis and treatment of invasive fungal diseases. The aim of this review is to summarize the recent real-world experiences of using ISA for the treatment and prevention of IFD.\\nWe performed a comprehensive literature search of the MEDLINE, PubMed, Embase, and Cochrane databases for clinical applications of ISA in the real world. Tables and reference lists are presented for this systematic review.\\nIFD poses a major threat to public health and causes high mortality rates. ISA may provide a good treatment. For example, the efficacy of ISA in the treatment of invasive aspergillosis (IA) is comparable to that of voriconazole, and its efficacy in the treatment of invasive mucormycosis (IM) is similar to that of liposomal amphotericin B (L-AmB); therefore, ISA is recommended as the first-line treatment for IA and IM. ISA can also achieve good efficacy in the treatment of invasive candidiasis (IC) and can be used as an alternative to de-escalation therapy after first-line drug therapy. In addition, most studies have shown the efficacy and safety of ISA for the prophylaxis of IFD.\\nTaken together, ISA are expected to become a new choice for the treatment and prevention of IFD because of their good tolerability, high bioavailability, and few drug interactions.</td>\n",
       "    </tr>\n",
       "  </tbody>\n",
       "</table>\n",
       "</div>"
      ],
      "text/plain": [
       "                                                                                                      query                                                                                                                                                                                                                                                                                                                                                                                                                                                                                                                                                                                                                                                                                                                                                                                                                                                                                                                                                                                                                                                                                                                                                                                                                                                                                                                                                                                                                                                                                                                                                                                                                                                                                                                                                                                                                                                                                                                                                                                                                                                                                                                                                                                                                                                   result\n",
       "108  Potassium iodide may treat sporotrichosis may be treated by amphotericin b may treat histoplasmosis     Successful chemotherapy of the systemic mycoses now covers a span of more than 75 years and dates to the first reported use of potassium iodide for treatment of sporotrichosis. The second drug with efficacy was stilbamidine, and its currently available successor, hydroxystilbamidine isethionate, still has a role in therapy of some patients with nonprogressive blastomycosis of the skin. The introduction in 1957 of amphotericin B marked the first time there was an effective agent for such diseases as cryptococcosis, histoplasmosis, candidosis, and with lesser success, for coccidioidomycosis, mucormycosis, and aspergillosis. However, amphotericin B is nephrotoxic, depresses bone marrow (especially erythropoeisis), and, if patients are not monitored and controlled closely, the drug produces hypokalemic muscle weakness and cardiotoxicity. Flucytosine has a narrower spectrum of activity (cryptococcosis, candidosis, cladosporiosis, and chromomycosis) but a preferable route of administration (oral). Newer agents presently available are miconazole and clotrimazole; the latter is for topical use only.                                                                                                                                                                                                                                                                                                                                                                                                                                                                                                                                                                                                                                                                                                                                                                                                                                                                                                                                                                                                                                                                                                   \n",
       "319  Antiviral agents therapeutic class of Velpatasvir may treat hepatitis C may be treated by Paritaprevir  The intestinal microbiota plays a fundamental role in physiological homeostasis as well as in pathologic conditions. Hepatitis C virus is the leading cause of chronic liver diseases worldwide. The treatment of this infection has been revolutionized by the availability of direct-acting antiviral agents which guarantee a high rate (about 95%) of viral clearance. Few studies have assessed the change in the gut microbiota of patients treated with direct-acting antiviral agents against HCV, and many aspects still need to be clarified. The aim of the study was to evaluate the effects of antiviral therapy on gut microbiota. We enrolled patients with HCV-related chronic liver disease attending the Infectious Diseases Unit of the A.O.U. Federico II of Naples from January 2017 to March 2018 and treated with DAAs. For each patient, a fecal sample was collected and analyzed for the assessment of microbial diversity before the start of therapy and by SVR12 time. We excluded patients who had received antibiotics in the previous 6 months. Twelve patients were enrolled (6 male, 8 genotype 1 (1 subtype 1a), 4 genotype 2). Fibrosis scores were F0 in 1 patient, F2 in 1 patient, F3 in 4 patients and cirrhosis in the remaining 6 (all in Child-Pugh class A). All were treated with DAAs for 12 weeks (5 with Paritaprevir-Ombitasvir-Ritonavir-Dasabuvir, 3 with Sofosbuvir-Ledipasvir, 1 with Sofosbuvir-Ribavirin, 1 with Sofosbuvir-Daclatasvir, 1 with Sofosbuvir-Velpatasvir) and 100% achieved SVR12. In all patients, we observed a trend in reduction of potentially pathogenic microorganisms (i.e., Enterobacteriaceae). Furthermore, a trend of increase in α-diversity was observed in patients by SVR12 compared to baseline. This trend was markedly more evident in patients without liver cirrhosis than in those with cirrhosis. Our study shows that viral eradication obtained with DAA is associated with a trend in restoring the heterogeneity of α-diversity and in reducing the percentage of potentially pathogenic microbial species, although this benefit is less evident in patients with cirrhosis. Further studies with larger sample size are needed to confirm these data.\n",
       "806  aspergillosis may be treated by amphotericin b may prevent Mycosis may be prevented by Isavuconazole    Invasive fungal diseases (IFD) are a major global public health concern. The incidence of IFD has increased the demand for antifungal agents. Isavuconazole (ISA) is a new triazole antifungal agent that has shown promising efficacy in the prophylaxis and treatment of invasive fungal diseases. The aim of this review is to summarize the recent real-world experiences of using ISA for the treatment and prevention of IFD.\\nWe performed a comprehensive literature search of the MEDLINE, PubMed, Embase, and Cochrane databases for clinical applications of ISA in the real world. Tables and reference lists are presented for this systematic review.\\nIFD poses a major threat to public health and causes high mortality rates. ISA may provide a good treatment. For example, the efficacy of ISA in the treatment of invasive aspergillosis (IA) is comparable to that of voriconazole, and its efficacy in the treatment of invasive mucormycosis (IM) is similar to that of liposomal amphotericin B (L-AmB); therefore, ISA is recommended as the first-line treatment for IA and IM. ISA can also achieve good efficacy in the treatment of invasive candidiasis (IC) and can be used as an alternative to de-escalation therapy after first-line drug therapy. In addition, most studies have shown the efficacy and safety of ISA for the prophylaxis of IFD.\\nTaken together, ISA are expected to become a new choice for the treatment and prevention of IFD because of their good tolerability, high bioavailability, and few drug interactions.                                                                                                                                                                                                                                                                                                                                                                                                                                                                                                                                                                                                                                                                            "
      ]
     },
     "execution_count": 29,
     "metadata": {},
     "output_type": "execute_result"
    }
   ],
   "source": [
    "df_3[df_3.c1_c2_c3_c4 == True][['query','result']]"
   ]
  },
  {
   "cell_type": "code",
   "execution_count": 30,
   "metadata": {},
   "outputs": [],
   "source": [
    "df_3 = df_3.drop(['langs',\n",
    "                  'temp',\n",
    "                  'result_len',\n",
    "                  'c1_c2_c3_c4'], axis = 1)"
   ]
  },
  {
   "cell_type": "code",
   "execution_count": 31,
   "metadata": {},
   "outputs": [],
   "source": [
    "df_3.to_csv('../data/final/3hop.csv', index = False)"
   ]
  },
  {
   "cell_type": "code",
   "execution_count": 32,
   "metadata": {},
   "outputs": [],
   "source": [
    "df = pd.concat([df,df2,df_3], ignore_index = True)"
   ]
  },
  {
   "cell_type": "code",
   "execution_count": 33,
   "metadata": {},
   "outputs": [
    {
     "data": {
      "text/plain": [
       "Index(['source_cui', 'relation 1', 'cui_2', 'query', 'url', 'result', 'langs',\n",
       "       'temp', 'result_len', 'source_text', 'cui_2_text', 'relation 2',\n",
       "       'cui_3', 'cui_3_text', 'relation', 'relation_2', 'relation_3', 'cui_4',\n",
       "       'cui_4_text'],\n",
       "      dtype='object')"
      ]
     },
     "execution_count": 33,
     "metadata": {},
     "output_type": "execute_result"
    }
   ],
   "source": [
    "df.columns"
   ]
  },
  {
   "cell_type": "code",
   "execution_count": 34,
   "metadata": {},
   "outputs": [],
   "source": [
    "import unidecode \n",
    "def get_point(n):\n",
    "    n = n.strip()\n",
    "    n = n.replace('(', '')\n",
    "    n = n.replace('\\\"', '')\n",
    "    n = n.replace(')', '')\n",
    "    n = n.replace(',', ' ')\n",
    "    n = n.replace('_', ' ')\n",
    "    n = n.replace('  ',' ')\n",
    "    n = unidecode.unidecode(n)\n",
    "\n",
    "    return n\n",
    "\n",
    "df['source_clean'] = df.source_text.apply(lambda x: get_point(x))\n",
    "df['cui_2_clean'] = df.cui_2_text.apply(lambda x: get_point(x))\n",
    "df['cui_3_clean'] = df.cui_3_text.apply(lambda x: get_point(x) if not pd.isna(x) else None)\n",
    "df['cui_4_clean'] = df.cui_4_text.apply(lambda x: get_point(x) if not pd.isna(x) else None)"
   ]
  },
  {
   "cell_type": "code",
   "execution_count": 35,
   "metadata": {},
   "outputs": [],
   "source": [
    "df['relation_1'] = df.apply(lambda x: x['relation 1'] if pd.isna(x['relation'])\\\n",
    "                            else x['relation'], axis = 1)\n",
    "df['relation_2'] = df.apply(lambda x: x['relation 2'] if pd.isna(x['relation_2'])\\\n",
    "                            else x['relation_2'], axis = 1)"
   ]
  },
  {
   "cell_type": "code",
   "execution_count": 36,
   "metadata": {},
   "outputs": [],
   "source": [
    "df['rel_1_clean'] = df.relation_1.apply(lambda x: get_point(x))\n",
    "df['rel_2_clean'] = df.relation_2.apply(lambda x: get_point(x) if not pd.isna(x) else None)\n",
    "df['rel_3_clean'] = df.relation_3.apply(lambda x: get_point(x) if not pd.isna(x) else None)"
   ]
  },
  {
   "cell_type": "code",
   "execution_count": 37,
   "metadata": {},
   "outputs": [
    {
     "data": {
      "text/plain": [
       "True"
      ]
     },
     "execution_count": 37,
     "metadata": {},
     "output_type": "execute_result"
    }
   ],
   "source": [
    "pd.isna(np.nan)"
   ]
  },
  {
   "cell_type": "code",
   "execution_count": 38,
   "metadata": {},
   "outputs": [],
   "source": [
    "def combine_entities(cui1,cui2,cui3,cui4):\n",
    "    entities = [cui1,cui2,cui3,cui4]\n",
    "    entities = [x for x in entities if not pd.isna(x)]\n",
    "    return str(entities)\n",
    "df['combined_entities'] = df.apply(lambda row: combine_entities(row['source_clean'],\n",
    "                                                                row['cui_2_clean'],\n",
    "                                                                row['cui_3_clean'],\n",
    "                                                                row['cui_4_clean']), axis = 1)"
   ]
  },
  {
   "cell_type": "code",
   "execution_count": 39,
   "metadata": {},
   "outputs": [],
   "source": [
    "df['source_t5'] = df.apply(lambda x: f\"{x['combined_entities']} </s> {x['result']}\", axis = 1)"
   ]
  },
  {
   "cell_type": "code",
   "execution_count": 40,
   "metadata": {},
   "outputs": [],
   "source": [
    "def get_target(x):\n",
    "    if pd.isna(x['rel_2_clean']):\n",
    "        target = f\"['{x['source_clean']}', '{x['rel_1_clean']}', '{x['cui_2_clean']}']\"\n",
    "    elif pd.isna(x['rel_3_clean']) and not pd.isna(x['rel_2_clean']):\n",
    "        target = f\"['{x['source_clean']}', '{x['rel_1_clean']}', '{x['cui_2_clean']}'], ['{x['cui_2_clean']}', '{x['rel_2_clean']}', '{x['cui_3_clean']}']\"\n",
    "    else:\n",
    "        target = f\"['{x['source_clean']}', '{x['rel_1_clean']}', '{x['cui_2_clean']}'], ['{x['cui_2_clean']}', '{x['rel_2_clean']}', '{x['cui_3_clean']}'], ['{x['cui_3_clean']}', '{x['rel_3_clean']}', '{x['cui_4_clean']}']\"\n",
    "\n",
    "    return target\n",
    "\n"
   ]
  },
  {
   "cell_type": "code",
   "execution_count": 41,
   "metadata": {},
   "outputs": [],
   "source": [
    "df['target_t5'] = df.apply(lambda x: get_target(x), axis = 1)"
   ]
  },
  {
   "cell_type": "code",
   "execution_count": 42,
   "metadata": {},
   "outputs": [],
   "source": [
    "df['key_id'] = list(range(df.shape[0]))"
   ]
  },
  {
   "cell_type": "code",
   "execution_count": 43,
   "metadata": {},
   "outputs": [],
   "source": [
    "def get_target_enc(x):\n",
    "    if pd.isna(x['rel_2_clean']):\n",
    "        target = tuple([x['rel_1_clean']])\n",
    "    elif pd.isna(x['rel_3_clean']) and not pd.isna(x['rel_2_clean']):\n",
    "        target = (x['rel_1_clean'], x['rel_2_clean'])\n",
    "    else:\n",
    "        target = (x['rel_1_clean'], x['rel_2_clean'], x['rel_3_clean'])\n",
    "    return target\n",
    "\n",
    "df['target_enc'] = df.apply(lambda x: get_target_enc(x), axis = 1)"
   ]
  },
  {
   "cell_type": "code",
   "execution_count": 44,
   "metadata": {},
   "outputs": [],
   "source": [
    "df_hold = df.copy()"
   ]
  },
  {
   "cell_type": "code",
   "execution_count": 45,
   "metadata": {},
   "outputs": [
    {
     "name": "stdout",
     "output_type": "stream",
     "text": [
      "(56598, 32)\n",
      "(53888, 32)\n"
     ]
    }
   ],
   "source": [
    "# get adequate class distribution\n",
    "temp = df.target_enc.value_counts()\n",
    "targets = temp[temp > 4].index.tolist()\n",
    "print(df.shape)\n",
    "df = df[df.target_enc.isin(targets)].reset_index(drop = True)\n",
    "print(df.shape)"
   ]
  },
  {
   "cell_type": "code",
   "execution_count": 46,
   "metadata": {},
   "outputs": [
    {
     "data": {
      "text/plain": [
       "True     52618\n",
       "False    1270 \n",
       "Name: rel_3_clean, dtype: int64"
      ]
     },
     "execution_count": 46,
     "metadata": {},
     "output_type": "execute_result"
    }
   ],
   "source": [
    "df.rel_3_clean.isna().value_counts()"
   ]
  },
  {
   "cell_type": "code",
   "execution_count": 47,
   "metadata": {},
   "outputs": [],
   "source": [
    "def create_triples(row):\n",
    "    triples = []\n",
    "    \n",
    "    for i in range(1,4):\n",
    "        if i == 1:\n",
    "            source_col = row[f'source_text']\n",
    "        else:\n",
    "            source_col = row[f'cui_{i}_text']\n",
    "        cui_col = row[f'cui_{i+1}_text']\n",
    "        rel_col = row[f'rel_{i}_clean']\n",
    "        \n",
    "        if not pd.isna(rel_col):\n",
    "            triples.append((source_col, rel_col, cui_col))\n",
    "    \n",
    "    return triples\n",
    "\n",
    "df['triples'] = df.apply(create_triples, axis=1)\n",
    "df['triples'] = df['triples'].apply(lambda x: [triple for triple in x if triple])  # Remove empty lists\n",
    "df['triples'] = df['triples'].apply(lambda x: tuple(x))\n",
    "# print(df[['source_text', 'triples']])"
   ]
  },
  {
   "cell_type": "code",
   "execution_count": 48,
   "metadata": {},
   "outputs": [],
   "source": [
    "df['explode_key'] = df['triples'].copy()\n",
    "df_rel = df.explode('explode_key')\n",
    "for x in df_rel.explode_key:\n",
    "    assert len(x) == 3"
   ]
  },
  {
   "cell_type": "code",
   "execution_count": 49,
   "metadata": {},
   "outputs": [
    {
     "name": "stdout",
     "output_type": "stream",
     "text": [
      "(83411, 37)\n",
      "(83411, 37)\n"
     ]
    }
   ],
   "source": [
    "df_rel['target_rel'] = df_rel.explode_key.apply(lambda x: x[1])\n",
    "df_rel['entities'] = df_rel.explode_key.apply(lambda x: [x[0],x[2]])\n",
    "df_rel['feature_rel'] = df_rel.apply(lambda x: f\"{x['entities']} [SEP] {x['result']}\", axis = 1)\n",
    "\n",
    "\n",
    "temp = df_rel.target_rel.value_counts()\n",
    "targets = temp[temp > 4].index.tolist()\n",
    "print(df_rel.shape)\n",
    "# get triples of relations that fall under threshold\n",
    "triples_rm = df_rel[~df_rel.target_rel.isin(targets)].triples.unique()\n",
    "# # Convert the inner lists to tuples\n",
    "# unique_tuples = {tuple(inner_list) for sublist in triples_rm for inner_list in sublist}\n",
    "\n",
    "# # Convert the unique tuples back to lists\n",
    "# triples_rm = [list(inner_tuple) for inner_tuple in unique_tuples]\n",
    "df_rel = df_rel[~df_rel.triples.isin(triples_rm)]\n",
    "print(df_rel.shape)\n"
   ]
  },
  {
   "cell_type": "code",
   "execution_count": 50,
   "metadata": {},
   "outputs": [],
   "source": [
    "# we don't want to spread instances of the same triple across train/val/test\n",
    "# take one instance of each triple set, and then do split\n",
    "# then we can rejoin the individual rel targets after\n",
    "df_rel_split = df_rel.drop_duplicates('triples', keep = 'first')"
   ]
  },
  {
   "cell_type": "code",
   "execution_count": 51,
   "metadata": {},
   "outputs": [],
   "source": [
    "from sklearn.model_selection import train_test_split\n",
    "def custom_train_test_validation_split(df, train_ratio=0.6, test_ratio=0.2, validation_ratio=0.2, random_state=None):\n",
    "    # First, split the data into training and temporary (test + validation) sets\n",
    "    df_train, df_temp = train_test_split(df, test_size=(test_ratio + validation_ratio), random_state=random_state, stratify=df['target_enc'])\n",
    "    \n",
    "    # Then, split the temporary set into test and validation sets\n",
    "    relative_validation_ratio = validation_ratio / (test_ratio + validation_ratio)\n",
    "    df_test, df_val = train_test_split(df_temp, test_size=relative_validation_ratio, random_state=random_state, stratify=df_temp['target_enc'])\n",
    "    \n",
    "    return df_train, df_test, df_val\n",
    "\n",
    "rel_train, rel_test, rel_val = custom_train_test_validation_split(df = df_rel_split)"
   ]
  },
  {
   "cell_type": "code",
   "execution_count": 52,
   "metadata": {},
   "outputs": [],
   "source": [
    "rel_train = df_rel.merge(rel_train[['triples']], on = 'triples', how = 'inner')\n",
    "rel_test = df_rel.merge(rel_test[['triples']], on = 'triples', how = 'inner')\n",
    "rel_val = df_rel.merge(rel_val[['triples']], on = 'triples', how = 'inner')"
   ]
  },
  {
   "cell_type": "code",
   "execution_count": 53,
   "metadata": {},
   "outputs": [
    {
     "data": {
      "text/plain": [
       "(50053, 37)"
      ]
     },
     "execution_count": 53,
     "metadata": {},
     "output_type": "execute_result"
    }
   ],
   "source": [
    "rel_train.shape"
   ]
  },
  {
   "cell_type": "code",
   "execution_count": 54,
   "metadata": {},
   "outputs": [
    {
     "data": {
      "text/plain": [
       "(16686, 37)"
      ]
     },
     "execution_count": 54,
     "metadata": {},
     "output_type": "execute_result"
    }
   ],
   "source": [
    "rel_test.shape"
   ]
  },
  {
   "cell_type": "code",
   "execution_count": 55,
   "metadata": {},
   "outputs": [
    {
     "data": {
      "text/plain": [
       "(16672, 37)"
      ]
     },
     "execution_count": 55,
     "metadata": {},
     "output_type": "execute_result"
    }
   ],
   "source": [
    "rel_val.shape"
   ]
  },
  {
   "cell_type": "code",
   "execution_count": 56,
   "metadata": {},
   "outputs": [],
   "source": [
    "import json\n",
    "import os\n",
    "\n",
    "def write_df_to_json(dataframe, filename, data_dir='../data/', encoding='utf-8'):\n",
    "    file_path = os.path.join(data_dir, filename)\n",
    "\n",
    "    with open(file_path, 'w', encoding=encoding) as json_file:\n",
    "        # Iterate over the rows of the DataFrame\n",
    "        for _, row in dataframe.iterrows():\n",
    "            # Convert the row to a dictionary and write it to the file\n",
    "            json.dump(row.to_dict(), json_file, ensure_ascii=False)\n",
    "            # Add a newline character to separate the JSON objects\n",
    "            json_file.write('\\n')"
   ]
  },
  {
   "cell_type": "markdown",
   "metadata": {},
   "source": [
    "### Write encoder models"
   ]
  },
  {
   "cell_type": "code",
   "execution_count": 57,
   "metadata": {},
   "outputs": [],
   "source": [
    "# Example usage:\n",
    "write_df_to_json(rel_train[['feature_rel','target_rel']], 'rel_train.json', data_dir = '../data/final/')\n",
    "write_df_to_json(rel_val[['feature_rel','target_rel']], 'rel_val.json', data_dir = '../data/final/')\n",
    "write_df_to_json(rel_test[['feature_rel','target_rel']], 'rel_test.json', data_dir = '../data/final/')\n",
    "\n",
    "write_df_to_json(rel_train, 'full_rel_train.json', data_dir = '../data/final/')\n",
    "write_df_to_json(rel_val, 'full_val.json', data_dir = '../data/final/')\n",
    "write_df_to_json(rel_test, 'full_test.json', data_dir = '../data/final/')"
   ]
  },
  {
   "cell_type": "code",
   "execution_count": 65,
   "metadata": {},
   "outputs": [],
   "source": [
    "train_keys = rel_train.key_id.unique()\n",
    "val_keys = rel_val.key_id.unique()\n",
    "test_keys = rel_val.key_id.unique()\n",
    "\n",
    "t5_train = df_hold[df_hold.key_id.isin(train_keys)]\n",
    "t5_test = df_hold[df_hold.key_id.isin(test_keys)]\n",
    "t5_val = df_hold[df_hold.key_id.isin(val_keys)]"
   ]
  },
  {
   "cell_type": "code",
   "execution_count": 69,
   "metadata": {},
   "outputs": [
    {
     "data": {
      "text/plain": [
       "Index(['source_cui', 'relation 1', 'cui_2', 'query', 'url', 'result', 'langs',\n",
       "       'temp', 'result_len', 'source_text', 'cui_2_text', 'relation 2',\n",
       "       'cui_3', 'cui_3_text', 'relation', 'relation_2', 'relation_3', 'cui_4',\n",
       "       'cui_4_text', 'source_clean', 'cui_2_clean', 'cui_3_clean',\n",
       "       'cui_4_clean', 'relation_1', 'rel_1_clean', 'rel_2_clean',\n",
       "       'rel_3_clean', 'combined_entities', 'source_t5', 'target_t5', 'key_id',\n",
       "       'target_enc'],\n",
       "      dtype='object')"
      ]
     },
     "execution_count": 69,
     "metadata": {},
     "output_type": "execute_result"
    }
   ],
   "source": [
    "t5_train.columns"
   ]
  },
  {
   "cell_type": "code",
   "execution_count": 70,
   "metadata": {},
   "outputs": [],
   "source": [
    "write_df_to_json(t5_train[['source_t5','target_t5']], 't5_train.json', data_dir = '../data/final/')\n",
    "write_df_to_json(t5_test[['source_t5','target_t5']], 't5_test.json', data_dir = '../data/final/')\n",
    "write_df_to_json(t5_val[['source_t5','target_t5']], 't5_val.json', data_dir = '../data/final/')\n",
    "\n",
    "write_df_to_json(t5_train, 'full_t5_train.json', data_dir = '../data/final/')\n",
    "write_df_to_json(t5_val, 'full_t5_val.json', data_dir = '../data/final/')\n",
    "write_df_to_json(t5_test, 'full_t5_test.json', data_dir = '../data/final/')"
   ]
  }
 ],
 "metadata": {
  "kernelspec": {
   "display_name": "torch_env",
   "language": "python",
   "name": "python3"
  },
  "language_info": {
   "codemirror_mode": {
    "name": "ipython",
    "version": 3
   },
   "file_extension": ".py",
   "mimetype": "text/x-python",
   "name": "python",
   "nbconvert_exporter": "python",
   "pygments_lexer": "ipython3",
   "version": "3.9.16"
  },
  "orig_nbformat": 4
 },
 "nbformat": 4,
 "nbformat_minor": 2
}
