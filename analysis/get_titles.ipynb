{
 "cells": [
  {
   "cell_type": "code",
   "execution_count": 1,
   "metadata": {},
   "outputs": [
    {
     "name": "stderr",
     "output_type": "stream",
     "text": [
      "C:\\Users\\Ignatius Ting\\AppData\\Local\\Temp\\ipykernel_8000\\1179287963.py:5: FutureWarning: Passing a negative integer is deprecated in version 1.0 and will not be supported in future version. Instead, use None to not limit the column width.\n",
      "  pd.set_option('max_colwidth', -1)\n"
     ]
    }
   ],
   "source": [
    "import pandas as pd\n",
    "pd.set_option('display.max_columns', None)\n",
    "pd.set_option('display.max_rows', None)\n",
    "pd.set_option('display.expand_frame_repr', False)\n",
    "pd.set_option('max_colwidth', -1)\n",
    "import numpy as np\n",
    "\n",
    "from Bio import Entrez\n",
    "import xml.etree.ElementTree as ET\n",
    "\n",
    "from tqdm import tqdm"
   ]
  },
  {
   "cell_type": "code",
   "execution_count": 2,
   "metadata": {},
   "outputs": [],
   "source": [
    "df = pd.read_csv('../data/interim/1m_titles_1.csv')"
   ]
  },
  {
   "cell_type": "code",
   "execution_count": 3,
   "metadata": {},
   "outputs": [],
   "source": [
    "df['pmid'] = df.url.apply(lambda x: x.split('/')[-1])"
   ]
  },
  {
   "cell_type": "code",
   "execution_count": 4,
   "metadata": {},
   "outputs": [
    {
     "name": "stderr",
     "output_type": "stream",
     "text": [
      "processing samples:   4%|▍         | 208/5424 [03:37<1:28:25,  1.02s/it]"
     ]
    },
    {
     "name": "stdout",
     "output_type": "stream",
     "text": [
      "Non-insulin dependent diabetes mellitus cause of Ulcer of lower limb due to type 2 diabetes mellitus\n"
     ]
    },
    {
     "name": "stderr",
     "output_type": "stream",
     "text": [
      "processing samples:   9%|▉         | 482/5424 [08:23<1:25:27,  1.04s/it]"
     ]
    },
    {
     "name": "stdout",
     "output_type": "stream",
     "text": [
      "tongue excised anatomy has procedure Total glossectomy\n"
     ]
    },
    {
     "name": "stderr",
     "output_type": "stream",
     "text": [
      "processing samples:  10%|▉         | 521/5424 [09:03<1:22:58,  1.02s/it]"
     ]
    },
    {
     "name": "stdout",
     "output_type": "stream",
     "text": [
      "Closed reduction of fracture of bone and internal fixation using bone plate has method Closed reduction - action\n"
     ]
    },
    {
     "name": "stderr",
     "output_type": "stream",
     "text": [
      "processing samples:  10%|▉         | 531/5424 [09:13<1:22:31,  1.01s/it]"
     ]
    },
    {
     "name": "stdout",
     "output_type": "stream",
     "text": [
      "administration of medication associated procedure of Beta blocker not indicated\n"
     ]
    },
    {
     "name": "stderr",
     "output_type": "stream",
     "text": [
      "processing samples:  13%|█▎        | 703/5424 [12:12<1:18:56,  1.00s/it]"
     ]
    },
    {
     "name": "stdout",
     "output_type": "stream",
     "text": [
      "Radiotherapy planning focus of CT of head and neck with contrast for radiotherapy planning\n"
     ]
    },
    {
     "name": "stderr",
     "output_type": "stream",
     "text": [
      "processing samples:  15%|█▍        | 810/5424 [14:04<1:17:40,  1.01s/it]"
     ]
    },
    {
     "name": "stdout",
     "output_type": "stream",
     "text": [
      "Needle Device device used by Needle aspiration for drainage of thyroid\n"
     ]
    },
    {
     "name": "stderr",
     "output_type": "stream",
     "text": [
      "processing samples:  16%|█▌        | 860/5424 [14:55<1:16:23,  1.00s/it]"
     ]
    },
    {
     "name": "stdout",
     "output_type": "stream",
     "text": [
      "Lesion of spinal cord cause of Epidural ascending spinal paralysis\n"
     ]
    },
    {
     "name": "stderr",
     "output_type": "stream",
     "text": [
      "processing samples:  17%|█▋        | 936/5424 [16:15<1:15:28,  1.01s/it]"
     ]
    },
    {
     "name": "stdout",
     "output_type": "stream",
     "text": [
      "Venous ulcer of lower limb has associated morphology Ulcer, varicose\n"
     ]
    },
    {
     "name": "stderr",
     "output_type": "stream",
     "text": [
      "processing samples:  19%|█▉        | 1046/5424 [18:09<1:14:08,  1.02s/it]"
     ]
    },
    {
     "name": "stdout",
     "output_type": "stream",
     "text": [
      "Full rectum has finding site rectum\n"
     ]
    },
    {
     "name": "stderr",
     "output_type": "stream",
     "text": [
      "processing samples:  20%|█▉        | 1077/5424 [18:42<1:13:43,  1.02s/it]"
     ]
    },
    {
     "name": "stdout",
     "output_type": "stream",
     "text": [
      "HENGEL-MAROOFIAN-SCHOLS SYNDROME has manifestation excessive orbital separation\n"
     ]
    },
    {
     "name": "stderr",
     "output_type": "stream",
     "text": [
      "processing samples:  22%|██▏       | 1204/5424 [20:52<1:11:02,  1.01s/it]"
     ]
    },
    {
     "name": "stdout",
     "output_type": "stream",
     "text": [
      "Primary closed reduction of dislocation and skin traction has direct morphology dislocations\n"
     ]
    },
    {
     "name": "stderr",
     "output_type": "stream",
     "text": [
      "processing samples:  23%|██▎       | 1233/5424 [21:22<1:10:08,  1.00s/it]"
     ]
    },
    {
     "name": "stdout",
     "output_type": "stream",
     "text": [
      "cyclosporin component of Cyclosporine/Methylprednisolone\n"
     ]
    },
    {
     "name": "stderr",
     "output_type": "stream",
     "text": [
      "processing samples:  27%|██▋       | 1468/5424 [25:26<1:06:23,  1.01s/it]"
     ]
    },
    {
     "name": "stdout",
     "output_type": "stream",
     "text": [
      "Spinal branch of right second lumbar artery branch of Right second lumbar artery\n"
     ]
    },
    {
     "name": "stderr",
     "output_type": "stream",
     "text": [
      "processing samples:  33%|███▎      | 1781/5424 [30:50<1:01:03,  1.01s/it]"
     ]
    },
    {
     "name": "stdout",
     "output_type": "stream",
     "text": [
      "Brown-Séquard syndrome at T12 level has associated morphology lesion\n"
     ]
    },
    {
     "name": "stderr",
     "output_type": "stream",
     "text": [
      "processing samples:  34%|███▍      | 1844/5424 [31:55<59:52,  1.00s/it]  "
     ]
    },
    {
     "name": "stdout",
     "output_type": "stream",
     "text": [
      "motility disorders esophageal has finding site esophagus\n"
     ]
    },
    {
     "name": "stderr",
     "output_type": "stream",
     "text": [
      "processing samples:  36%|███▌      | 1951/5424 [33:46<1:00:04,  1.04s/it]"
     ]
    },
    {
     "name": "stdout",
     "output_type": "stream",
     "text": [
      "wound open associated morphology of Open wound of upper arm\n"
     ]
    },
    {
     "name": "stderr",
     "output_type": "stream",
     "text": [
      "processing samples:  37%|███▋      | 2017/5424 [34:56<57:22,  1.01s/it]  "
     ]
    },
    {
     "name": "stdout",
     "output_type": "stream",
     "text": [
      "Left inferior central retinal artery has branch Left inferior temporal retinal artery\n"
     ]
    },
    {
     "name": "stderr",
     "output_type": "stream",
     "text": [
      "processing samples:  40%|████      | 2180/5424 [37:45<54:15,  1.00s/it]  "
     ]
    },
    {
     "name": "stdout",
     "output_type": "stream",
     "text": [
      "Lower extremity finding site of Abduction of lower limb\n"
     ]
    },
    {
     "name": "stderr",
     "output_type": "stream",
     "text": [
      "processing samples:  46%|████▌     | 2480/5424 [42:55<48:59,  1.00it/s]"
     ]
    },
    {
     "name": "stdout",
     "output_type": "stream",
     "text": [
      "tenderness of both carotid arteries has finding site carotid arteries\n"
     ]
    },
    {
     "name": "stderr",
     "output_type": "stream",
     "text": [
      "processing samples:  50%|████▉     | 2711/5424 [46:56<47:25,  1.05s/it]  "
     ]
    },
    {
     "name": "stdout",
     "output_type": "stream",
     "text": [
      "MALARIA cause of Hyperreactive malarial splenomegaly syndrome\n"
     ]
    },
    {
     "name": "stderr",
     "output_type": "stream",
     "text": [
      "processing samples:  52%|█████▏    | 2801/5424 [48:29<43:56,  1.01s/it]"
     ]
    },
    {
     "name": "stdout",
     "output_type": "stream",
     "text": [
      "drainage procedure method of Negative pressure wound therapy (eg, vacuum assisted drainage collection), utilizing durable medical equipment (DME), including topical application(s), wound assessment, and instruction(s) for ongoing care, per session; total wound(s) surface area less than or equal to 50 square centimeters\n"
     ]
    },
    {
     "name": "stderr",
     "output_type": "stream",
     "text": [
      "processing samples:  52%|█████▏    | 2806/5424 [48:34<43:33,  1.00it/s]"
     ]
    },
    {
     "name": "stdout",
     "output_type": "stream",
     "text": [
      "ablative fractional resurfacing open wound has procedure morphology wound open\n"
     ]
    },
    {
     "name": "stderr",
     "output_type": "stream",
     "text": [
      "processing samples:  53%|█████▎    | 2889/5424 [50:00<42:58,  1.02s/it]"
     ]
    },
    {
     "name": "stdout",
     "output_type": "stream",
     "text": [
      "percutaneous ablation of renal tumor by cryotherapy has procedure site kidney\n"
     ]
    },
    {
     "name": "stderr",
     "output_type": "stream",
     "text": [
      "processing samples:  56%|█████▋    | 3057/5424 [52:56<42:03,  1.07s/it]"
     ]
    },
    {
     "name": "stdout",
     "output_type": "stream",
     "text": [
      "Superficial injury of skin of forehead has finding site skin structure of forehead\n"
     ]
    },
    {
     "name": "stderr",
     "output_type": "stream",
     "text": [
      "processing samples:  58%|█████▊    | 3173/5424 [55:07<38:34,  1.03s/it]  "
     ]
    },
    {
     "name": "stdout",
     "output_type": "stream",
     "text": [
      "Impaired exercise tolerance manifestation of BVES-related limb girdle muscular dystrophy\n"
     ]
    },
    {
     "name": "stderr",
     "output_type": "stream",
     "text": [
      "processing samples:  59%|█████▊    | 3181/5424 [55:15<37:38,  1.01s/it]"
     ]
    },
    {
     "name": "stdout",
     "output_type": "stream",
     "text": [
      "Right deep brachial artery has branch Middle collateral branch of right deep brachial artery\n"
     ]
    },
    {
     "name": "stderr",
     "output_type": "stream",
     "text": [
      "processing samples:  67%|██████▋   | 3621/5424 [1:02:56<30:25,  1.01s/it]"
     ]
    },
    {
     "name": "stdout",
     "output_type": "stream",
     "text": [
      "Injury of duodenum without open wound into abdominal cavity has location duodenum\n"
     ]
    },
    {
     "name": "stderr",
     "output_type": "stream",
     "text": [
      "processing samples:  68%|██████▊   | 3666/5424 [1:03:43<30:04,  1.03s/it]"
     ]
    },
    {
     "name": "stdout",
     "output_type": "stream",
     "text": [
      "ischemia; myocardial focus of Administration of prophylactic aspirin for ischemic heart disease\n"
     ]
    },
    {
     "name": "stderr",
     "output_type": "stream",
     "text": [
      "processing samples:  68%|██████▊   | 3706/5424 [1:04:26<28:50,  1.01s/it]"
     ]
    },
    {
     "name": "stdout",
     "output_type": "stream",
     "text": [
      "Spine Injuries and Disorders related to Tailbone Disorders\n"
     ]
    },
    {
     "name": "stderr",
     "output_type": "stream",
     "text": [
      "processing samples:  74%|███████▍  | 4018/5424 [1:09:53<23:30,  1.00s/it]"
     ]
    },
    {
     "name": "stdout",
     "output_type": "stream",
     "text": [
      "Bee venom only product has active ingredient bee venom\n"
     ]
    },
    {
     "name": "stderr",
     "output_type": "stream",
     "text": [
      "processing samples:  76%|███████▌  | 4101/5424 [1:11:19<22:12,  1.01s/it]"
     ]
    },
    {
     "name": "stdout",
     "output_type": "stream",
     "text": [
      "General health fair associated finding of second child in fair health\n"
     ]
    },
    {
     "name": "stderr",
     "output_type": "stream",
     "text": [
      "processing samples:  76%|███████▌  | 4119/5424 [1:11:38<21:48,  1.00s/it]"
     ]
    },
    {
     "name": "stdout",
     "output_type": "stream",
     "text": [
      "colectomy associated procedure of History of colectomy\n"
     ]
    },
    {
     "name": "stderr",
     "output_type": "stream",
     "text": [
      "processing samples: 100%|██████████| 5424/5424 [1:34:14<00:00,  1.04s/it]\n"
     ]
    }
   ],
   "source": [
    "api_key = '103aaef98affefe5942829479219ae692d09'\n",
    "email='itin0003@student.monash.edu'\n",
    "\n",
    "Entrez.email = email\n",
    "Entrez.api_key = api_key\n",
    "titles = []\n",
    "failed_query = []\n",
    "for _, row in tqdm(df.iterrows(), total = len(df), desc = 'processing samples'):\n",
    "    try:\n",
    "        pmid = row['pmid']\n",
    "        handle = Entrez.esummary(db = 'pubmed', id = pmid, retmode = 'xml')\n",
    "        records = Entrez.parse(handle)\n",
    "        for record in records:\n",
    "            title = record['Title']\n",
    "            titles.append(title)\n",
    "            handle.close()\n",
    "    except:\n",
    "        print(row['query'])\n",
    "        failed_query.append(row['query'])\n",
    "\n",
    "\n",
    "    \n"
   ]
  },
  {
   "cell_type": "code",
   "execution_count": 6,
   "metadata": {},
   "outputs": [],
   "source": [
    "df1 = df[~df['query'].isin(failed_query)]\n",
    "df2 = df[df['query'].isin(failed_query)]\n",
    "df1.reset_index(drop = True, inplace = True)\n",
    "df2.reset_index(drop = True, inplace = True)"
   ]
  },
  {
   "cell_type": "code",
   "execution_count": 8,
   "metadata": {},
   "outputs": [
    {
     "name": "stderr",
     "output_type": "stream",
     "text": [
      "C:\\Users\\Ignatius Ting\\AppData\\Local\\Temp\\ipykernel_8000\\2102819784.py:1: SettingWithCopyWarning: \n",
      "A value is trying to be set on a copy of a slice from a DataFrame.\n",
      "Try using .loc[row_indexer,col_indexer] = value instead\n",
      "\n",
      "See the caveats in the documentation: https://pandas.pydata.org/pandas-docs/stable/user_guide/indexing.html#returning-a-view-versus-a-copy\n",
      "  df1['title'] = titles\n"
     ]
    }
   ],
   "source": [
    "df1['title'] = titles"
   ]
  },
  {
   "cell_type": "code",
   "execution_count": 9,
   "metadata": {},
   "outputs": [
    {
     "name": "stderr",
     "output_type": "stream",
     "text": [
      "processing samples: 100%|██████████| 32/32 [00:33<00:00,  1.04s/it]\n"
     ]
    }
   ],
   "source": [
    "api_key = '103aaef98affefe5942829479219ae692d09'\n",
    "email='itin0003@student.monash.edu'\n",
    "\n",
    "Entrez.email = email\n",
    "Entrez.api_key = api_key\n",
    "titles = []\n",
    "failed_query = []\n",
    "for _, row in tqdm(df2.iterrows(), total = len(df2), desc = 'processing samples'):\n",
    "    try:\n",
    "        pmid = row['pmid']\n",
    "        handle = Entrez.esummary(db = 'pubmed', id = pmid, retmode = 'xml')\n",
    "        records = Entrez.parse(handle)\n",
    "        for record in records:\n",
    "            title = record['Title']\n",
    "            titles.append(title)\n",
    "            handle.close()\n",
    "    except:\n",
    "        print(row['query'])\n",
    "        failed_query.append(row['query'])\n",
    "\n",
    "\n",
    "    \n"
   ]
  },
  {
   "cell_type": "code",
   "execution_count": 10,
   "metadata": {},
   "outputs": [
    {
     "name": "stderr",
     "output_type": "stream",
     "text": [
      "C:\\Users\\Ignatius Ting\\AppData\\Local\\Temp\\ipykernel_8000\\3724942157.py:1: SettingWithCopyWarning: \n",
      "A value is trying to be set on a copy of a slice from a DataFrame.\n",
      "Try using .loc[row_indexer,col_indexer] = value instead\n",
      "\n",
      "See the caveats in the documentation: https://pandas.pydata.org/pandas-docs/stable/user_guide/indexing.html#returning-a-view-versus-a-copy\n",
      "  df2['title'] = titles\n"
     ]
    }
   ],
   "source": [
    "df2['title'] = titles"
   ]
  },
  {
   "cell_type": "code",
   "execution_count": 11,
   "metadata": {},
   "outputs": [],
   "source": [
    "df = pd.concat([df1,df2])"
   ]
  },
  {
   "cell_type": "code",
   "execution_count": 12,
   "metadata": {},
   "outputs": [
    {
     "data": {
      "text/plain": [
       "(5424, 9)"
      ]
     },
     "execution_count": 12,
     "metadata": {},
     "output_type": "execute_result"
    }
   ],
   "source": [
    "df.shape"
   ]
  },
  {
   "cell_type": "code",
   "execution_count": null,
   "metadata": {},
   "outputs": [],
   "source": [
    "df.to_csv('../data/processed/1m_titles_1.csv', index = False)"
   ]
  },
  {
   "cell_type": "code",
   "execution_count": null,
   "metadata": {},
   "outputs": [],
   "source": []
  }
 ],
 "metadata": {
  "kernelspec": {
   "display_name": "torch_env",
   "language": "python",
   "name": "python3"
  },
  "language_info": {
   "codemirror_mode": {
    "name": "ipython",
    "version": 3
   },
   "file_extension": ".py",
   "mimetype": "text/x-python",
   "name": "python",
   "nbconvert_exporter": "python",
   "pygments_lexer": "ipython3",
   "version": "3.9.16"
  },
  "orig_nbformat": 4
 },
 "nbformat": 4,
 "nbformat_minor": 2
}
