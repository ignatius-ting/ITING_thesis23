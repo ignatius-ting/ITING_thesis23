{
 "cells": [
  {
   "cell_type": "code",
   "execution_count": 1,
   "metadata": {},
   "outputs": [],
   "source": [
    "import pandas as pd\n",
    "from Bio import Entrez\n",
    "import xml.etree.ElementTree as ET"
   ]
  },
  {
   "cell_type": "code",
   "execution_count": 2,
   "metadata": {},
   "outputs": [],
   "source": [
    "example = '''\n",
    "Surface modification of pralidoxime chloride-loaded solid lipid nanoparticles for enhanced brain reactivation of organophosphorus-inhibited AChE: Pharmacokinetics in rat\n",
    "'''"
   ]
  },
  {
   "cell_type": "code",
   "execution_count": 3,
   "metadata": {},
   "outputs": [],
   "source": [
    "\n",
    "Entrez.email = 'itin0003@student.monash.edu'\n",
    "# difference between pubmed and pmc is that pubmed is abstracts only\n",
    "# xml return\n",
    "handle = Entrez.esearch(db = 'pubmed',term = example)\n",
    "record = Entrez.read(handle)\n",
    "handle.close()\n",
    "fetch_handle = Entrez.efetch(db = 'pubmed', id = record['IdList'])\n",
    "xml_raw = fetch_handle.read()\n",
    "xml_string = xml_raw.decode('utf-8')\n",
    "\n",
    "\n",
    "# text return\n",
    "# handle = Entrez.esearch(db = 'pubmed',term = example)\n",
    "# record = Entrez.read(handle)\n",
    "# handle.close()\n",
    "# fetch_handle = Entrez.efetch(db = 'pubmed', rettype = 'abstract',id = record['IdList'], retmode = 'text')\n",
    "# temp = fetch_handle.read()\n"
   ]
  },
  {
   "cell_type": "code",
   "execution_count": 16,
   "metadata": {},
   "outputs": [],
   "source": [
    "import pandas as pd\n",
    "from Bio import Entrez\n",
    "import xml.etree.ElementTree as ET\n",
    "\n",
    "\n",
    "\n",
    "class PubmedQuery:\n",
    "    def __init__(self, query, email = 'itin0003@student.monash.edu'):\n",
    "        # query is the triple\n",
    "        self.query = query\n",
    "        self.email = email\n",
    "\n",
    "    def define_email(self):\n",
    "        # instantiate email to connect to pubmed\n",
    "        Entrez.email = self.email\n",
    "\n",
    "    def get_ids(self):\n",
    "        # maximum of 1 IDs returned for a query\n",
    "        self.define_email()\n",
    "        handle = Entrez.esearch(db  ='pubmed', term = self.query, retmax = 1)\n",
    "        record = Entrez.read(handle)\n",
    "        handle.close()\n",
    "        self.id_list = record['IdList']\n",
    "    \n",
    "    def get_xml(self):\n",
    "        # retrieve response XML\n",
    "        fetch_handle = Entrez.efetch(db = 'pubmed', id = self.id_list)\n",
    "        xml_raw = fetch_handle.read()\n",
    "        self.xml_string = xml_raw.decode('utf-8')\n",
    "\n",
    "    def find_nodes_by_name(self, node, target_name):\n",
    "        # helper function to locate appropriate XML node\n",
    "        found_nodes = []\n",
    "        if node.tag == target_name:\n",
    "            found_nodes.append(node)\n",
    "        for child in node:\n",
    "            found_nodes.extend(self.find_nodes_by_name(child, target_name))\n",
    "        return found_nodes\n",
    "    \n",
    "    def pipeline(self):\n",
    "        # prepare xml string\n",
    "        self.get_ids()\n",
    "        self.get_xml()\n",
    "\n",
    "    def get_node_text(self, target_name = 'AbstractText'):\n",
    "        self.pipeline()\n",
    "        root = ET.fromstring(self.xml_string)\n",
    "        # get specified nodes (AbstractText)\n",
    "        found_nodes = self.find_nodes_by_name(root, target_name)\n",
    "        abstracts = []\n",
    "        if found_nodes:\n",
    "            for node in found_nodes:\n",
    "                ### the change is BELOW\n",
    "                parsed_text = ''.join(node.itertext())\n",
    "                abstracts.append(parsed_text)\n",
    "        return abstracts\n",
    "\n"
   ]
  },
  {
   "cell_type": "code",
   "execution_count": 17,
   "metadata": {},
   "outputs": [],
   "source": [
    "# query some example triple\n",
    "text = 'cancer treatment'\n",
    "pq = PubmedQuery(query =text)\n",
    "texts = pq.get_node_text()\n"
   ]
  },
  {
   "cell_type": "code",
   "execution_count": 11,
   "metadata": {},
   "outputs": [
    {
     "name": "stdout",
     "output_type": "stream",
     "text": [
      "Deprescribing, i.e. the suspension of drugs whose existing or potential harms outweigh the benefits in the context of care for the individual patient, is an increasingly frequently encountered topic in various congresses today. This issue becomes predominant especially in patients with chronic pathologies with a life expectancy of less than a year, in whom the goal of the treatments passes from healing to caring. Currently there are few validated deprescribing tools, one of these is certainly the STOPPFrail, currently available in its second version. Therefore, we decided to provide for the translation into Italian, to make the description for the elderly patient with limited life expectation more applicable.\n",
      "For the translation, we used the method expressed by the European organisation for research and treatment of cancer (Eortc), using forward-backward translation and a Pilot Testing to verify the clarity and comprehensibility of the translation itself.\n",
      "We interviewed 15 experts, of whom 13 responded and completed the evaluation, without bringing to light any unclear sections or sources of misunderstanding.\n",
      "STOPPFrail2 can be a valid deprescribing tool in the elderly with limited life expectancy; the Italian version can help the physicians in the therapeutic appropriateness in this time of life where it is necessary to focus on the quality of life and on the ethical aspect of the choices, as well as being of help in a \"cost-opportunity\" logic.\n"
     ]
    }
   ],
   "source": [
    "print('\\n'.join(texts))"
   ]
  },
  {
   "cell_type": "code",
   "execution_count": 18,
   "metadata": {},
   "outputs": [],
   "source": [
    "class PubmedQuery1:\n",
    "    def __init__(self, query, api_key, email='itin0003@student.monash.edu'):\n",
    "        self.query = query\n",
    "        self.email = email\n",
    "        self.id_list = []\n",
    "        self.xml_string = \"\"\n",
    "        self.api_key = api_key\n",
    "\n",
    "    def _define_email(self):\n",
    "        Entrez.email = self.email\n",
    "\n",
    "    def _define_api_key(self):\n",
    "        Entrez.api_key = self.api_key\n",
    "\n",
    "    def _get_ids(self):\n",
    "        self._define_email()\n",
    "        handle = Entrez.esearch(db='pubmed', term=self.query, retmax=1)\n",
    "        record = Entrez.read(handle)\n",
    "        handle.close()\n",
    "        self.id_list = record['IdList']\n",
    "\n",
    "    def _get_xml(self):\n",
    "        fetch_handle = Entrez.efetch(db='pubmed', id=self.id_list)\n",
    "        xml_raw = fetch_handle.read()\n",
    "        self.xml_string = xml_raw.decode('utf-8')\n",
    "\n",
    "    def _find_nodes_by_name(self, node, target_name):\n",
    "        found_nodes = []\n",
    "        if node.tag == target_name:\n",
    "            found_nodes.append(node)\n",
    "        for child in node:\n",
    "            found_nodes.extend(self._find_nodes_by_name(child, target_name))\n",
    "        return found_nodes\n",
    "    \n",
    "    def _parse_abstract_text(self, node):\n",
    "        return ''.join(node.itertext()).strip()\n",
    "\n",
    "    def get_abstracts(self, target_name='AbstractText'):\n",
    "        self._get_ids()\n",
    "        self._get_xml()\n",
    "        root = ET.fromstring(self.xml_string)\n",
    "        found_nodes = self._find_nodes_by_name(root, target_name)\n",
    "        abstracts = [self._parse_abstract_text(node) for node in found_nodes]\n",
    "        return abstracts"
   ]
  },
  {
   "cell_type": "code",
   "execution_count": 19,
   "metadata": {},
   "outputs": [],
   "source": [
    "text = 'cancer treatment'\n",
    "pq = PubmedQuery1(query = text)\n",
    "texts = pq.get_abstracts()"
   ]
  },
  {
   "cell_type": "code",
   "execution_count": 15,
   "metadata": {},
   "outputs": [
    {
     "data": {
      "text/plain": [
       "['Deprescribing, i.e. the suspension of drugs whose existing or potential harms outweigh the benefits in the context of care for the individual patient, is an increasingly frequently encountered topic in various congresses today. This issue becomes predominant especially in patients with chronic pathologies with a life expectancy of less than a year, in whom the goal of the treatments passes from healing to caring. Currently there are few validated deprescribing tools, one of these is certainly the STOPPFrail, currently available in its second version. Therefore, we decided to provide for the translation into Italian, to make the description for the elderly patient with limited life expectation more applicable.',\n",
       " 'For the translation, we used the method expressed by the European organisation for research and treatment of cancer (Eortc), using forward-backward translation and a Pilot Testing to verify the clarity and comprehensibility of the translation itself.',\n",
       " 'We interviewed 15 experts, of whom 13 responded and completed the evaluation, without bringing to light any unclear sections or sources of misunderstanding.',\n",
       " 'STOPPFrail2 can be a valid deprescribing tool in the elderly with limited life expectancy; the Italian version can help the physicians in the therapeutic appropriateness in this time of life where it is necessary to focus on the quality of life and on the ethical aspect of the choices, as well as being of help in a \"cost-opportunity\" logic.']"
      ]
     },
     "execution_count": 15,
     "metadata": {},
     "output_type": "execute_result"
    }
   ],
   "source": [
    "texts"
   ]
  },
  {
   "cell_type": "code",
   "execution_count": 46,
   "metadata": {},
   "outputs": [
    {
     "data": {
      "text/plain": [
       "'The nanotechnological approach is an innovative strategy of high potential to achieve reactivation of organophosphorus-inhibited acetylcholinesterase in central nervous system. It was previously shown that pralidoxime chloride-loaded solid lipid nanoparticles (2-PAM-SLNs) are able to protect the brain against pesticide (paraoxon) central toxicity. In the present work, we increased brain AChE reactivation efficacy by PEGylation of 2-PAM-SLNs using PEG-lipid N-(carbonyl-methoxypolyethylene glycol-2000)-1,2-distearoyl-sn-glycero-3-phosphoethanolamine, sodium salt) (DSPE-PEG'"
      ]
     },
     "execution_count": 46,
     "metadata": {},
     "output_type": "execute_result"
    }
   ],
   "source": [
    "texts[0]"
   ]
  },
  {
   "cell_type": "code",
   "execution_count": 41,
   "metadata": {},
   "outputs": [],
   "source": [
    "def get_ids(query):\n",
    "    # maximum of 5 IDs returned\n",
    "    handle = Entrez.esearch(db  ='pubmed', term = term, retmax = 5)\n",
    "    record = Entrez.read(handle)\n",
    "    handle.close()\n",
    "    id_list = record['IdList']\n",
    "\n",
    "def get_\n",
    "\n",
    "def find_nodes_by_name(node, target_name):\n",
    "    found_nodes = []\n",
    "\n",
    "    if node.tag == target_name:\n",
    "        found_nodes.append(node)\n",
    "\n",
    "    for child in node:\n",
    "        found_nodes.extend(find_nodes_by_name(child, target_name))\n",
    "\n",
    "    return found_nodes\n",
    "\n",
    "def get_node_text(xml_text, target_name = 'AbstractText'):\n",
    "    xml_text = xml_text.decode('utf-8')\n",
    "    root = ET.fromstring(xml_text)\n",
    "    found_nodes = find_nodes_by_name(root, target_name)\n",
    "    abstracts = []\n",
    "    if found_nodes:\n",
    "        for node in found_nodes:\n",
    "            abstracts.append(node.text)\n",
    "\n",
    "\n",
    "\n"
   ]
  },
  {
   "cell_type": "code",
   "execution_count": 42,
   "metadata": {},
   "outputs": [
    {
     "name": "stdout",
     "output_type": "stream",
     "text": [
      "Text of AbstractText 1: Cytomegalovirus (CMV) causes serious infection in individuals with deficient T cell immunity. In acquired immunodeficiency syndrome, the retina is a major site of progressive infection, despite the availability of therapy that targets CMV. The administration of highly active antiretroviral therapy to suppress human immunodeficiency virus frequently results in resolution of CMV retinitis, but this may be complicated by ocular inflammation termed \"immune recovery uveitis\" (IRU). To provide insight into the pathogenesis of IRU, the phenotype and specificity of intraocular T cells in a single patient were analyzed. The T cell infiltrate consisted of a diverse population of CD8(+) CMV-specific T cells, but only a minority of these T cells recognized the CMV phosphoprotein 65 and immediate early protein 1, which have been considered major targets of the host response. These results imply that reconstitution of CMV-specific T cells plays a role in IRU and suggest that the specificity of T cells engaged in the control of CMV at local sites of reactivation may be broad.\n",
      "Text of AbstractText 2: To investigate immune and viral contributions to the pathogenesis of immune recovery uveitis (IRU), which presents as vitritis, macular edema, or formation of epiretinal membranes, and develops in patients with acquired immunodeficiency syndrome (AIDS) who experienced cytomegalovirus (CMV) retinitis before antiretroviral treatment (ART) induced immune reconstitution.\n",
      "Text of AbstractText 3: Aqueous and vitreous fluids from patients with IRU, active CMV retinitis, and control human immunodeficiency virus (HIV)-negative, noninflamed eyes were compared for presence of cytokines IL-6, IL12, interferon gamma using enzyme-linked immunosorbent assay techniques, and CMV DNA (by polymerase chain reaction).\n",
      "Text of AbstractText 4: IRU eyes (11 patients, 18 samples) had the highest levels of IL-12 (median 48 pg/mL), moderate levels of IL-6 (median 146 pg/mL), and low but significant interferon gamma (median 15 pg/mL), compared to controls (P < 0.01). All uveitis eyes tested (9/9) were CMV DNA negative. In contrast, active CMV retinitis eyes were CMV DNA positive, had higher levels of IL-6 (median 349 pg/mL) (25 patients, 41 samples) than both control (P = 0.0001) and uveitis eyes (P = 0.048), similar levels of interferon gamma (median 27 pg/mL) to uveitis eyes, but less IL-12 (median 0 pg/mL) than uveitis eyes.\n",
      "Text of AbstractText 5: Inflammatory IRU can be differentiated from active CMV retinitis by the presence of IL-12, less IL-6, and absence of detectable CMV replication.\n"
     ]
    }
   ],
   "source": [
    "root = ET.fromstring(temp)\n",
    "target_name = 'AbstractText'\n",
    "found_nodes = find_nodes_by_name(root, target_name)\n",
    "\n",
    "if found_nodes:\n",
    "    for node in nodes:\n",
    "        \n",
    "    for i, node in enumerate(found_nodes, start=1):\n",
    "        text = node.text\n",
    "        print(f\"Text of {target_name} {i}: {text}\")\n",
    "else:\n",
    "    print(f\"No {target_name} found.\")"
   ]
  },
  {
   "cell_type": "code",
   "execution_count": 26,
   "metadata": {},
   "outputs": [],
   "source": [
    "text = text.decode('utf-8')"
   ]
  },
  {
   "cell_type": "code",
   "execution_count": 28,
   "metadata": {},
   "outputs": [
    {
     "name": "stdout",
     "output_type": "stream",
     "text": [
      "<?xml version=\"1.0\" ?>\n",
      "<!DOCTYPE PubmedArticleSet PUBLIC \"-//NLM//DTD PubMedArticle, 1st January 2023//EN\" \"https://dtd.nlm.nih.gov/ncbi/pubmed/out/pubmed_230101.dtd\">\n",
      "<PubmedArticleSet>\n",
      "<PubmedArticle><MedlineCitation Status=\"MEDLINE\" Owner=\"NLM\"><PMID Version=\"1\">12195359</PMID><DateCompleted><Year>2002</Year><Month>09</Month><Day>24</Day></DateCompleted><DateRevised><Year>2016</Year><Month>04</Month><Day>22</Day></DateRevised><Article PubModel=\"Print-Electronic\"><Journal><ISSN IssnType=\"Print\">0022-1899</ISSN><JournalIssue CitedMedium=\"Print\"><Volume>186</Volume><Issue>5</Issue><PubDate><Year>2002</Year><Month>Sep</Month><Day>01</Day></PubDate></JournalIssue><Title>The Journal of infectious diseases</Title><ISOAbbreviation>J Infect Dis</ISOAbbreviation></Journal><ArticleTitle>Association between immune recovery uveitis and a diverse intraocular cytomegalovirus-specific cytotoxic T cell response.</ArticleTitle><Pagination><StartPage>701</StartPage><EndPage>705</EndPage><MedlinePgn>701-5</MedlinePgn></Pagination><Abstract><AbstractText>Cytomegalovirus (CMV) causes serious infection in individuals with deficient T cell immunity. In acquired immunodeficiency syndrome, the retina is a major site of progressive infection, despite the availability of therapy that targets CMV. The administration of highly active antiretroviral therapy to suppress human immunodeficiency virus frequently results in resolution of CMV retinitis, but this may be complicated by ocular inflammation termed \"immune recovery uveitis\" (IRU). To provide insight into the pathogenesis of IRU, the phenotype and specificity of intraocular T cells in a single patient were analyzed. The T cell infiltrate consisted of a diverse population of CD8(+) CMV-specific T cells, but only a minority of these T cells recognized the CMV phosphoprotein 65 and immediate early protein 1, which have been considered major targets of the host response. These results imply that reconstitution of CMV-specific T cells plays a role in IRU and suggest that the specificity of T cells engaged in the control of CMV at local sites of reactivation may be broad.</AbstractText></Abstract><AuthorList CompleteYN=\"Y\"><Author ValidYN=\"Y\"><LastName>Mutimer</LastName><ForeName>Helen P</ForeName><Initials>HP</Initials><AffiliationInfo><Affiliation>Program in Immunology, Fred Hutchinson Cancer Research Center, Seattle, WA 98109, USA.</Affiliation></AffiliationInfo></Author><Author ValidYN=\"Y\"><LastName>Akatsuka</LastName><ForeName>Yoshiki</ForeName><Initials>Y</Initials></Author><Author ValidYN=\"Y\"><LastName>Manley</LastName><ForeName>Thomas</ForeName><Initials>T</Initials></Author><Author ValidYN=\"Y\"><LastName>Chuang</LastName><ForeName>Elaine L</ForeName><Initials>EL</Initials></Author><Author ValidYN=\"Y\"><LastName>Boeckh</LastName><ForeName>Michael</ForeName><Initials>M</Initials></Author><Author ValidYN=\"Y\"><LastName>Harrington</LastName><ForeName>Robert</ForeName><Initials>R</Initials></Author><Author ValidYN=\"Y\"><LastName>Jones</LastName><ForeName>Thomas</ForeName><Initials>T</Initials></Author><Author ValidYN=\"Y\"><LastName>Riddell</LastName><ForeName>Stanley R</ForeName><Initials>SR</Initials></Author></AuthorList><Language>eng</Language><GrantList CompleteYN=\"Y\"><Grant><GrantID>AI-41754</GrantID><Acronym>AI</Acronym><Agency>NIAID NIH HHS</Agency><Country>United States</Country></Grant><Grant><GrantID>CA-18029</GrantID><Acronym>CA</Acronym><Agency>NCI NIH HHS</Agency><Country>United States</Country></Grant></GrantList><PublicationTypeList><PublicationType UI=\"D016428\">Journal Article</PublicationType><PublicationType UI=\"D013487\">Research Support, U.S. Gov't, P.H.S.</PublicationType></PublicationTypeList><ArticleDate DateType=\"Electronic\"><Year>2002</Year><Month>08</Month><Day>05</Day></ArticleDate></Article><MedlineJournalInfo><Country>United States</Country><MedlineTA>J Infect Dis</MedlineTA><NlmUniqueID>0413675</NlmUniqueID><ISSNLinking>0022-1899</ISSNLinking></MedlineJournalInfo><ChemicalList><Chemical><RegistryNumber>0</RegistryNumber><NameOfSubstance UI=\"D012367\">RNA, Viral</NameOfSubstance></Chemical><Chemical><RegistryNumber>0</RegistryNumber><NameOfSubstance UI=\"D016693\">Receptors, Antigen, T-Cell, alpha-beta</NameOfSubstance></Chemical></ChemicalList><CitationSubset>IM</CitationSubset><MeshHeadingList><MeshHeading><DescriptorName UI=\"D003587\" MajorTopicYN=\"N\">Cytomegalovirus</DescriptorName><QualifierName UI=\"Q000235\" MajorTopicYN=\"N\">genetics</QualifierName><QualifierName UI=\"Q000254\" MajorTopicYN=\"Y\">growth &amp; development</QualifierName></MeshHeading><MeshHeading><DescriptorName UI=\"D017726\" MajorTopicYN=\"N\">Cytomegalovirus Retinitis</DescriptorName><QualifierName UI=\"Q000150\" MajorTopicYN=\"N\">complications</QualifierName><QualifierName UI=\"Q000276\" MajorTopicYN=\"Y\">immunology</QualifierName><QualifierName UI=\"Q000821\" MajorTopicYN=\"N\">virology</QualifierName></MeshHeading><MeshHeading><DescriptorName UI=\"D015658\" MajorTopicYN=\"N\">HIV Infections</DescriptorName><QualifierName UI=\"Q000150\" MajorTopicYN=\"Y\">complications</QualifierName><QualifierName UI=\"Q000276\" MajorTopicYN=\"N\">immunology</QualifierName><QualifierName UI=\"Q000821\" MajorTopicYN=\"N\">virology</QualifierName></MeshHeading><MeshHeading><DescriptorName UI=\"D006801\" MajorTopicYN=\"N\">Humans</DescriptorName></MeshHeading><MeshHeading><DescriptorName UI=\"D008213\" MajorTopicYN=\"N\">Lymphocyte Activation</DescriptorName><QualifierName UI=\"Q000276\" MajorTopicYN=\"N\">immunology</QualifierName></MeshHeading><MeshHeading><DescriptorName UI=\"D012367\" MajorTopicYN=\"N\">RNA, Viral</DescriptorName><QualifierName UI=\"Q000235\" MajorTopicYN=\"N\">genetics</QualifierName></MeshHeading><MeshHeading><DescriptorName UI=\"D016693\" MajorTopicYN=\"N\">Receptors, Antigen, T-Cell, alpha-beta</DescriptorName><QualifierName UI=\"Q000235\" MajorTopicYN=\"N\">genetics</QualifierName><QualifierName UI=\"Q000276\" MajorTopicYN=\"N\">immunology</QualifierName></MeshHeading><MeshHeading><DescriptorName UI=\"D013602\" MajorTopicYN=\"N\">T-Lymphocytes, Cytotoxic</DescriptorName><QualifierName UI=\"Q000166\" MajorTopicYN=\"N\">cytology</QualifierName><QualifierName UI=\"Q000276\" MajorTopicYN=\"Y\">immunology</QualifierName><QualifierName UI=\"Q000821\" MajorTopicYN=\"N\">virology</QualifierName></MeshHeading><MeshHeading><DescriptorName UI=\"D014605\" MajorTopicYN=\"N\">Uveitis</DescriptorName><QualifierName UI=\"Q000150\" MajorTopicYN=\"N\">complications</QualifierName><QualifierName UI=\"Q000276\" MajorTopicYN=\"Y\">immunology</QualifierName><QualifierName UI=\"Q000821\" MajorTopicYN=\"N\">virology</QualifierName></MeshHeading></MeshHeadingList></MedlineCitation><PubmedData><History><PubMedPubDate PubStatus=\"received\"><Year>2001</Year><Month>12</Month><Day>26</Day></PubMedPubDate><PubMedPubDate PubStatus=\"revised\"><Year>2002</Year><Month>4</Month><Day>18</Day></PubMedPubDate><PubMedPubDate PubStatus=\"pubmed\"><Year>2002</Year><Month>8</Month><Day>27</Day><Hour>10</Hour><Minute>0</Minute></PubMedPubDate><PubMedPubDate PubStatus=\"medline\"><Year>2002</Year><Month>9</Month><Day>25</Day><Hour>6</Hour><Minute>0</Minute></PubMedPubDate><PubMedPubDate PubStatus=\"entrez\"><Year>2002</Year><Month>8</Month><Day>27</Day><Hour>10</Hour><Minute>0</Minute></PubMedPubDate></History><PublicationStatus>ppublish</PublicationStatus><ArticleIdList><ArticleId IdType=\"pubmed\">12195359</ArticleId><ArticleId IdType=\"doi\">10.1086/342044</ArticleId><ArticleId IdType=\"pii\">JID011515</ArticleId></ArticleIdList></PubmedData></PubmedArticle><PubmedArticle><MedlineCitation Status=\"MEDLINE\" Owner=\"NLM\"><PMID Version=\"1\">16467672</PMID><DateCompleted><Year>2006</Year><Month>04</Month><Day>17</Day></DateCompleted><DateRevised><Year>2022</Year><Month>03</Month><Day>31</Day></DateRevised><Article PubModel=\"Print\"><Journal><ISSN IssnType=\"Print\">0275-004X</ISSN><JournalIssue CitedMedium=\"Print\"><Volume>26</Volume><Issue>2</Issue><PubDate><Year>2006</Year><Month>Feb</Month></PubDate></JournalIssue><Title>Retina (Philadelphia, Pa.)</Title><ISOAbbreviation>Retina</ISOAbbreviation></Journal><ArticleTitle>Intraocular viral and immune pathogenesis of immune recovery uveitis in patients with healed cytomegalovirus retinitis.</ArticleTitle><Pagination><StartPage>165</StartPage><EndPage>169</EndPage><MedlinePgn>165-9</MedlinePgn></Pagination><Abstract><AbstractText Label=\"PURPOSE\" NlmCategory=\"OBJECTIVE\">To investigate immune and viral contributions to the pathogenesis of immune recovery uveitis (IRU), which presents as vitritis, macular edema, or formation of epiretinal membranes, and develops in patients with acquired immunodeficiency syndrome (AIDS) who experienced cytomegalovirus (CMV) retinitis before antiretroviral treatment (ART) induced immune reconstitution.</AbstractText><AbstractText Label=\"METHODS\" NlmCategory=\"METHODS\">Aqueous and vitreous fluids from patients with IRU, active CMV retinitis, and control human immunodeficiency virus (HIV)-negative, noninflamed eyes were compared for presence of cytokines IL-6, IL12, interferon gamma using enzyme-linked immunosorbent assay techniques, and CMV DNA (by polymerase chain reaction).</AbstractText><AbstractText Label=\"RESULTS\" NlmCategory=\"RESULTS\">IRU eyes (11 patients, 18 samples) had the highest levels of IL-12 (median 48 pg/mL), moderate levels of IL-6 (median 146 pg/mL), and low but significant interferon gamma (median 15 pg/mL), compared to controls (P &lt; 0.01). All uveitis eyes tested (9/9) were CMV DNA negative. In contrast, active CMV retinitis eyes were CMV DNA positive, had higher levels of IL-6 (median 349 pg/mL) (25 patients, 41 samples) than both control (P = 0.0001) and uveitis eyes (P = 0.048), similar levels of interferon gamma (median 27 pg/mL) to uveitis eyes, but less IL-12 (median 0 pg/mL) than uveitis eyes.</AbstractText><AbstractText Label=\"CONCLUSIONS\" NlmCategory=\"CONCLUSIONS\">Inflammatory IRU can be differentiated from active CMV retinitis by the presence of IL-12, less IL-6, and absence of detectable CMV replication.</AbstractText></Abstract><AuthorList CompleteYN=\"Y\"><Author ValidYN=\"Y\"><LastName>Schrier</LastName><ForeName>Rachel D</ForeName><Initials>RD</Initials><AffiliationInfo><Affiliation>Division of Infectious Diseases, Department of Pathology, University of California-San Diego, UCSD Medical Center, MC 8416, 200 W. Arbor Drive, San Diego, CA 92103-8416, USA. rschrier@ucsd.edu</Affiliation></AffiliationInfo></Author><Author ValidYN=\"Y\"><LastName>Song</LastName><ForeName>Mi-Kyoung</ForeName><Initials>MK</Initials></Author><Author ValidYN=\"Y\"><LastName>Smith</LastName><ForeName>Irene L</ForeName><Initials>IL</Initials></Author><Author ValidYN=\"Y\"><LastName>Karavellas</LastName><ForeName>Marietta P</ForeName><Initials>MP</Initials></Author><Author ValidYN=\"Y\"><LastName>Bartsch</LastName><ForeName>Dirk-Uwe</ForeName><Initials>DU</Initials></Author><Author ValidYN=\"Y\"><LastName>Torriani</LastName><ForeName>Francesca J</ForeName><Initials>FJ</Initials></Author><Author ValidYN=\"Y\"><LastName>Garcia</LastName><ForeName>Claudio R</ForeName><Initials>CR</Initials></Author><Author ValidYN=\"Y\"><LastName>Freeman</LastName><ForeName>William R</ForeName><Initials>WR</Initials></Author></AuthorList><Language>eng</Language><GrantList CompleteYN=\"Y\"><Grant><GrantID>EY 07366</GrantID><Acronym>EY</Acronym><Agency>NEI NIH HHS</Agency><Country>United States</Country></Grant></GrantList><PublicationTypeList><PublicationType UI=\"D016428\">Journal Article</PublicationType><PublicationType UI=\"D052061\">Research Support, N.I.H., Extramural</PublicationType><PublicationType UI=\"D013485\">Research Support, Non-U.S. Gov't</PublicationType></PublicationTypeList></Article><MedlineJournalInfo><Country>United States</Country><MedlineTA>Retina</MedlineTA><NlmUniqueID>8309919</NlmUniqueID><ISSNLinking>0275-004X</ISSNLinking></MedlineJournalInfo><ChemicalList><Chemical><RegistryNumber>0</RegistryNumber><NameOfSubstance UI=\"D016207\">Cytokines</NameOfSubstance></Chemical><Chemical><RegistryNumber>0</RegistryNumber><NameOfSubstance UI=\"D004279\">DNA, Viral</NameOfSubstance></Chemical></ChemicalList><CitationSubset>IM</CitationSubset><MeshHeadingList><MeshHeading><DescriptorName UI=\"D017088\" MajorTopicYN=\"N\">AIDS-Related Opportunistic Infections</DescriptorName><QualifierName UI=\"Q000276\" MajorTopicYN=\"N\">immunology</QualifierName><QualifierName UI=\"Q000821\" MajorTopicYN=\"N\">virology</QualifierName></MeshHeading><MeshHeading><DescriptorName UI=\"D001082\" MajorTopicYN=\"N\">Aqueous Humor</DescriptorName><QualifierName UI=\"Q000378\" MajorTopicYN=\"N\">metabolism</QualifierName><QualifierName UI=\"Q000821\" MajorTopicYN=\"N\">virology</QualifierName></MeshHeading><MeshHeading><DescriptorName UI=\"D018791\" MajorTopicYN=\"N\">CD4 Lymphocyte Count</DescriptorName></MeshHeading><MeshHeading><DescriptorName UI=\"D015496\" MajorTopicYN=\"N\">CD4-Positive T-Lymphocytes</DescriptorName><QualifierName UI=\"Q000276\" MajorTopicYN=\"N\">immunology</QualifierName></MeshHeading><MeshHeading><DescriptorName UI=\"D016207\" MajorTopicYN=\"N\">Cytokines</DescriptorName><QualifierName UI=\"Q000502\" MajorTopicYN=\"Y\">physiology</QualifierName></MeshHeading><MeshHeading><DescriptorName UI=\"D003587\" MajorTopicYN=\"N\">Cytomegalovirus</DescriptorName><QualifierName UI=\"Q000502\" MajorTopicYN=\"Y\">physiology</QualifierName></MeshHeading><MeshHeading><DescriptorName UI=\"D017726\" MajorTopicYN=\"N\">Cytomegalovirus Retinitis</DescriptorName><QualifierName UI=\"Q000276\" MajorTopicYN=\"Y\">immunology</QualifierName><QualifierName UI=\"Q000821\" MajorTopicYN=\"Y\">virology</QualifierName></MeshHeading><MeshHeading><DescriptorName UI=\"D004279\" MajorTopicYN=\"N\">DNA, Viral</DescriptorName><QualifierName UI=\"Q000032\" MajorTopicYN=\"N\">analysis</QualifierName></MeshHeading><MeshHeading><DescriptorName UI=\"D004797\" MajorTopicYN=\"N\">Enzyme-Linked Immunosorbent Assay</DescriptorName></MeshHeading><MeshHeading><DescriptorName UI=\"D018023\" MajorTopicYN=\"N\">HIV Seronegativity</DescriptorName><QualifierName UI=\"Q000276\" MajorTopicYN=\"N\">immunology</QualifierName></MeshHeading><MeshHeading><DescriptorName UI=\"D006801\" MajorTopicYN=\"N\">Humans</DescriptorName></MeshHeading><MeshHeading><DescriptorName UI=\"D016133\" MajorTopicYN=\"N\">Polymerase Chain Reaction</DescriptorName></MeshHeading><MeshHeading><DescriptorName UI=\"D011446\" MajorTopicYN=\"N\">Prospective Studies</DescriptorName></MeshHeading><MeshHeading><DescriptorName UI=\"D014605\" MajorTopicYN=\"N\">Uveitis</DescriptorName><QualifierName UI=\"Q000276\" MajorTopicYN=\"Y\">immunology</QualifierName><QualifierName UI=\"Q000821\" MajorTopicYN=\"Y\">virology</QualifierName></MeshHeading><MeshHeading><DescriptorName UI=\"D014779\" MajorTopicYN=\"N\">Virus Replication</DescriptorName></MeshHeading><MeshHeading><DescriptorName UI=\"D014822\" MajorTopicYN=\"N\">Vitreous Body</DescriptorName><QualifierName UI=\"Q000378\" MajorTopicYN=\"N\">metabolism</QualifierName><QualifierName UI=\"Q000821\" MajorTopicYN=\"N\">virology</QualifierName></MeshHeading></MeshHeadingList></MedlineCitation><PubmedData><History><PubMedPubDate PubStatus=\"pubmed\"><Year>2006</Year><Month>2</Month><Day>10</Day><Hour>9</Hour><Minute>0</Minute></PubMedPubDate><PubMedPubDate PubStatus=\"medline\"><Year>2006</Year><Month>4</Month><Day>18</Day><Hour>9</Hour><Minute>0</Minute></PubMedPubDate><PubMedPubDate PubStatus=\"entrez\"><Year>2006</Year><Month>2</Month><Day>10</Day><Hour>9</Hour><Minute>0</Minute></PubMedPubDate></History><PublicationStatus>ppublish</PublicationStatus><ArticleIdList><ArticleId IdType=\"pubmed\">16467672</ArticleId><ArticleId IdType=\"doi\">10.1097/00006982-200602000-00007</ArticleId><ArticleId IdType=\"pii\">00006982-200602000-00007</ArticleId></ArticleIdList></PubmedData></PubmedArticle></PubmedArticleSet>\n"
     ]
    }
   ],
   "source": [
    "print(text)"
   ]
  },
  {
   "cell_type": "code",
   "execution_count": 32,
   "metadata": {},
   "outputs": [
    {
     "name": "stdout",
     "output_type": "stream",
     "text": [
      "Text of the AbstractText: Cytomegalovirus (CMV) causes serious infection in individuals with deficient T cell immunity. In acquired immunodeficiency syndrome, the retina is a major site of progressive infection, despite the availability of therapy that targets CMV. The administration of highly active antiretroviral therapy to suppress human immunodeficiency virus frequently results in resolution of CMV retinitis, but this may be complicated by ocular inflammation termed \"immune recovery uveitis\" (IRU). To provide insight into the pathogenesis of IRU, the phenotype and specificity of intraocular T cells in a single patient were analyzed. The T cell infiltrate consisted of a diverse population of CD8(+) CMV-specific T cells, but only a minority of these T cells recognized the CMV phosphoprotein 65 and immediate early protein 1, which have been considered major targets of the host response. These results imply that reconstitution of CMV-specific T cells plays a role in IRU and suggest that the specificity of T cells engaged in the control of CMV at local sites of reactivation may be broad.\n"
     ]
    }
   ],
   "source": [
    "def find_node_by_name(node, target_name):\n",
    "    if node.tag == target_name:\n",
    "        return node\n",
    "\n",
    "    for child in node:\n",
    "        found_node = find_node_by_name(child, target_name)\n",
    "        if found_node is not None:\n",
    "            return found_node\n",
    "\n",
    "    return None\n",
    "\n",
    "root = ET.fromstring(text)\n",
    "target_name = 'AbstractText'\n",
    "found_node = find_node_by_name(root, target_name)\n",
    "\n",
    "if found_node is not None:\n",
    "    res = found_node.text\n",
    "    print(f\"Text of the {target_name}: {res}\")\n",
    "else:\n",
    "    print(f\"{target_name} not found.\")"
   ]
  }
 ],
 "metadata": {
  "kernelspec": {
   "display_name": "torch_env",
   "language": "python",
   "name": "python3"
  },
  "language_info": {
   "codemirror_mode": {
    "name": "ipython",
    "version": 3
   },
   "file_extension": ".py",
   "mimetype": "text/x-python",
   "name": "python",
   "nbconvert_exporter": "python",
   "pygments_lexer": "ipython3",
   "version": "3.9.16"
  },
  "orig_nbformat": 4
 },
 "nbformat": 4,
 "nbformat_minor": 2
}
