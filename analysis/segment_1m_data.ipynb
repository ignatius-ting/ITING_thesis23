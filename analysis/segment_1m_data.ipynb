{
 "cells": [
  {
   "cell_type": "code",
   "execution_count": 1,
   "metadata": {},
   "outputs": [
    {
     "name": "stderr",
     "output_type": "stream",
     "text": [
      "C:\\Users\\Ignatius Ting\\AppData\\Local\\Temp\\ipykernel_14576\\456950064.py:5: FutureWarning: Passing a negative integer is deprecated in version 1.0 and will not be supported in future version. Instead, use None to not limit the column width.\n",
      "  pd.set_option('max_colwidth', -1)\n"
     ]
    }
   ],
   "source": [
    "\n",
    "import pandas as pd\n",
    "pd.set_option('display.max_columns', None)\n",
    "pd.set_option('display.max_rows', None)\n",
    "pd.set_option('display.expand_frame_repr', False)\n",
    "pd.set_option('max_colwidth', -1)\n",
    "\n",
    "import numpy as np\n",
    "import pickle\n",
    "\n",
    "import os\n",
    "import sys\n",
    "\n",
    "module_path = os.path.abspath(os.path.join('../src'))\n",
    "if module_path not in sys.path:\n",
    "    sys.path.append(module_path)"
   ]
  },
  {
   "cell_type": "code",
   "execution_count": 2,
   "metadata": {},
   "outputs": [],
   "source": [
    "with open('../data/counts_1m_trim.pkl', 'rb') as f:\n",
    "    counts_1m = pickle.load(f)\n",
    "\n"
   ]
  },
  {
   "cell_type": "code",
   "execution_count": 3,
   "metadata": {},
   "outputs": [
    {
     "data": {
      "text/plain": [
       "(247160, 17)"
      ]
     },
     "execution_count": 3,
     "metadata": {},
     "output_type": "execute_result"
    }
   ],
   "source": [
    "counts_1m.shape"
   ]
  },
  {
   "cell_type": "code",
   "execution_count": 5,
   "metadata": {},
   "outputs": [
    {
     "data": {
      "text/plain": [
       "82386"
      ]
     },
     "execution_count": 5,
     "metadata": {},
     "output_type": "execute_result"
    }
   ],
   "source": [
    "counts_1m.shape[0]//3"
   ]
  },
  {
   "cell_type": "code",
   "execution_count": 12,
   "metadata": {},
   "outputs": [
    {
     "data": {
      "text/html": [
       "<div>\n",
       "<style scoped>\n",
       "    .dataframe tbody tr th:only-of-type {\n",
       "        vertical-align: middle;\n",
       "    }\n",
       "\n",
       "    .dataframe tbody tr th {\n",
       "        vertical-align: top;\n",
       "    }\n",
       "\n",
       "    .dataframe thead th {\n",
       "        text-align: right;\n",
       "    }\n",
       "</style>\n",
       "<table border=\"1\" class=\"dataframe\">\n",
       "  <thead>\n",
       "    <tr style=\"text-align: right;\">\n",
       "      <th></th>\n",
       "      <th>source_cui</th>\n",
       "      <th>value_unique</th>\n",
       "      <th>value_nunique</th>\n",
       "      <th>source_type</th>\n",
       "      <th>rel</th>\n",
       "      <th>cui_2</th>\n",
       "      <th>rel_type</th>\n",
       "      <th>source_text</th>\n",
       "      <th>cui_2_text</th>\n",
       "      <th>text</th>\n",
       "      <th>source_true_len</th>\n",
       "      <th>cui_2_true_len</th>\n",
       "      <th>source_text_words</th>\n",
       "      <th>cui_2_text_words</th>\n",
       "      <th>overlap_count</th>\n",
       "      <th>largest_overlap</th>\n",
       "      <th>overlap_pass</th>\n",
       "    </tr>\n",
       "  </thead>\n",
       "  <tbody>\n",
       "    <tr>\n",
       "      <th>0</th>\n",
       "      <td>C0000392</td>\n",
       "      <td>has structural class|C0002520|RO</td>\n",
       "      <td>11</td>\n",
       "      <td>Amino Acid, Peptide, or Protein</td>\n",
       "      <td>has structural class</td>\n",
       "      <td>C0002520</td>\n",
       "      <td>RO</td>\n",
       "      <td>Beta-Alanine</td>\n",
       "      <td>Amino acid</td>\n",
       "      <td>Beta-Alanine has structural class Amino acid</td>\n",
       "      <td>1</td>\n",
       "      <td>2</td>\n",
       "      <td>{betaalanine}</td>\n",
       "      <td>{amino, acid}</td>\n",
       "      <td>0</td>\n",
       "      <td>in</td>\n",
       "      <td>False</td>\n",
       "    </tr>\n",
       "    <tr>\n",
       "      <th>1</th>\n",
       "      <td>C0000392</td>\n",
       "      <td>may prevent|C0028715|RO</td>\n",
       "      <td>11</td>\n",
       "      <td>Amino Acid, Peptide, or Protein</td>\n",
       "      <td>may prevent</td>\n",
       "      <td>C0028715</td>\n",
       "      <td>RO</td>\n",
       "      <td>Beta-Alanine</td>\n",
       "      <td>nutritional and metabolic diseases</td>\n",
       "      <td>Beta-Alanine may prevent nutritional and metabolic diseases</td>\n",
       "      <td>1</td>\n",
       "      <td>3</td>\n",
       "      <td>{betaalanine}</td>\n",
       "      <td>{metabolic, diseases, nutritional}</td>\n",
       "      <td>0</td>\n",
       "      <td>eta</td>\n",
       "      <td>False</td>\n",
       "    </tr>\n",
       "    <tr>\n",
       "      <th>2</th>\n",
       "      <td>C0000392</td>\n",
       "      <td>may treat|C0028715|RO</td>\n",
       "      <td>11</td>\n",
       "      <td>Amino Acid, Peptide, or Protein</td>\n",
       "      <td>may treat</td>\n",
       "      <td>C0028715</td>\n",
       "      <td>RO</td>\n",
       "      <td>Beta-Alanine</td>\n",
       "      <td>nutritional and metabolic diseases</td>\n",
       "      <td>Beta-Alanine may treat nutritional and metabolic diseases</td>\n",
       "      <td>1</td>\n",
       "      <td>3</td>\n",
       "      <td>{betaalanine}</td>\n",
       "      <td>{metabolic, diseases, nutritional}</td>\n",
       "      <td>0</td>\n",
       "      <td>eta</td>\n",
       "      <td>False</td>\n",
       "    </tr>\n",
       "    <tr>\n",
       "      <th>3</th>\n",
       "      <td>C0000473</td>\n",
       "      <td>may treat|C0031762|RO</td>\n",
       "      <td>20</td>\n",
       "      <td>Pharmacologic Substance</td>\n",
       "      <td>may treat</td>\n",
       "      <td>C0031762</td>\n",
       "      <td>RO</td>\n",
       "      <td>4-Aminobenzoic acid</td>\n",
       "      <td>Photosensitivity disorders</td>\n",
       "      <td>4-Aminobenzoic acid may treat Photosensitivity disorders</td>\n",
       "      <td>2</td>\n",
       "      <td>2</td>\n",
       "      <td>{4aminobenzoic, acid}</td>\n",
       "      <td>{disorders, photosensitivity}</td>\n",
       "      <td>0</td>\n",
       "      <td>en</td>\n",
       "      <td>False</td>\n",
       "    </tr>\n",
       "    <tr>\n",
       "      <th>4</th>\n",
       "      <td>C0000473</td>\n",
       "      <td>has contraindicated class|C0038689|RO</td>\n",
       "      <td>20</td>\n",
       "      <td>Pharmacologic Substance</td>\n",
       "      <td>has contraindicated class</td>\n",
       "      <td>C0038689</td>\n",
       "      <td>RO</td>\n",
       "      <td>4-Aminobenzoic acid</td>\n",
       "      <td>sulphamethoxazole</td>\n",
       "      <td>4-Aminobenzoic acid has contraindicated class sulphamethoxazole</td>\n",
       "      <td>2</td>\n",
       "      <td>1</td>\n",
       "      <td>{4aminobenzoic, acid}</td>\n",
       "      <td>{sulphamethoxazole}</td>\n",
       "      <td>0</td>\n",
       "      <td>am</td>\n",
       "      <td>False</td>\n",
       "    </tr>\n",
       "  </tbody>\n",
       "</table>\n",
       "</div>"
      ],
      "text/plain": [
       "  source_cui                           value_unique  value_nunique                      source_type                        rel     cui_2 rel_type          source_text                          cui_2_text                                                             text  source_true_len  cui_2_true_len      source_text_words                    cui_2_text_words  overlap_count largest_overlap  overlap_pass\n",
       "0  C0000392   has structural class|C0002520|RO       11             Amino Acid, Peptide, or Protein  has structural class       C0002520  RO       Beta-Alanine         Amino acid                          Beta-Alanine has structural class Amino acid                     1                2               {betaalanine}          {amino, acid}                       0              in              False       \n",
       "1  C0000392   may prevent|C0028715|RO                11             Amino Acid, Peptide, or Protein  may prevent                C0028715  RO       Beta-Alanine         nutritional and metabolic diseases  Beta-Alanine may prevent nutritional and metabolic diseases      1                3               {betaalanine}          {metabolic, diseases, nutritional}  0              eta             False       \n",
       "2  C0000392   may treat|C0028715|RO                  11             Amino Acid, Peptide, or Protein  may treat                  C0028715  RO       Beta-Alanine         nutritional and metabolic diseases  Beta-Alanine may treat nutritional and metabolic diseases        1                3               {betaalanine}          {metabolic, diseases, nutritional}  0              eta             False       \n",
       "3  C0000473   may treat|C0031762|RO                  20             Pharmacologic Substance          may treat                  C0031762  RO       4-Aminobenzoic acid  Photosensitivity disorders          4-Aminobenzoic acid may treat Photosensitivity disorders         2                2               {4aminobenzoic, acid}  {disorders, photosensitivity}       0              en              False       \n",
       "4  C0000473   has contraindicated class|C0038689|RO  20             Pharmacologic Substance          has contraindicated class  C0038689  RO       4-Aminobenzoic acid  sulphamethoxazole                   4-Aminobenzoic acid has contraindicated class sulphamethoxazole  2                1               {4aminobenzoic, acid}  {sulphamethoxazole}                 0              am              False       "
      ]
     },
     "execution_count": 12,
     "metadata": {},
     "output_type": "execute_result"
    }
   ],
   "source": [
    "counts_1m.head()"
   ]
  },
  {
   "cell_type": "code",
   "execution_count": 7,
   "metadata": {},
   "outputs": [],
   "source": [
    "sample1 = counts_1m.loc[:82386,]\n",
    "sample2 = counts_1m.loc[82386:164772,]\n",
    "sample3 = counts_1m.loc[164772:,]"
   ]
  },
  {
   "cell_type": "code",
   "execution_count": 11,
   "metadata": {},
   "outputs": [],
   "source": [
    "sample1.to_csv('../data/processed/1m_match/1m_final_match_1.csv', index = False)\n",
    "sample2.to_csv('../data/processed/1m_match/1m_final_match_2.csv', index = False)\n",
    "sample3.to_csv('../data/processed/1m_match/1m_final_match_3.csv', index = False)"
   ]
  }
 ],
 "metadata": {
  "kernelspec": {
   "display_name": "torch_env",
   "language": "python",
   "name": "python3"
  },
  "language_info": {
   "codemirror_mode": {
    "name": "ipython",
    "version": 3
   },
   "file_extension": ".py",
   "mimetype": "text/x-python",
   "name": "python",
   "nbconvert_exporter": "python",
   "pygments_lexer": "ipython3",
   "version": "3.9.16"
  },
  "orig_nbformat": 4
 },
 "nbformat": 4,
 "nbformat_minor": 2
}
